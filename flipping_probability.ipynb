{
  "nbformat": 4,
  "nbformat_minor": 0,
  "metadata": {
    "colab": {
      "name": "flipping_probability.ipynb",
      "provenance": [],
      "collapsed_sections": [],
      "machine_shape": "hm"
    },
    "kernelspec": {
      "name": "python3",
      "display_name": "Python 3"
    },
    "accelerator": "GPU"
  },
  "cells": [
    {
      "cell_type": "code",
      "metadata": {
        "id": "KVK0h3ylLe5r",
        "colab_type": "code",
        "outputId": "fa10a16c-e67e-44b3-c7ec-def848f46946",
        "colab": {
          "base_uri": "https://localhost:8080/",
          "height": 77
        }
      },
      "source": [
        "import numpy as np\n",
        "from keras.models import Sequential\n",
        "from keras.layers import Dense, Dropout, Activation\n",
        "from keras.layers import Embedding\n",
        "from keras.layers import LSTM\n"
      ],
      "execution_count": 0,
      "outputs": [
        {
          "output_type": "stream",
          "text": [
            "Using TensorFlow backend.\n"
          ],
          "name": "stderr"
        },
        {
          "output_type": "display_data",
          "data": {
            "text/html": [
              "<p style=\"color: red;\">\n",
              "The default version of TensorFlow in Colab will switch to TensorFlow 2.x on the 27th of March, 2020.<br>\n",
              "We recommend you <a href=\"https://www.tensorflow.org/guide/migrate\" target=\"_blank\">upgrade</a> now\n",
              "or ensure your notebook will continue to use TensorFlow 1.x via the <code>%tensorflow_version 1.x</code> magic:\n",
              "<a href=\"https://colab.research.google.com/notebooks/tensorflow_version.ipynb\" target=\"_blank\">more info</a>.</p>\n"
            ],
            "text/plain": [
              "<IPython.core.display.HTML object>"
            ]
          },
          "metadata": {
            "tags": []
          }
        }
      ]
    },
    {
      "cell_type": "code",
      "metadata": {
        "id": "A-ZWEIh1b1Bu",
        "colab_type": "code",
        "outputId": "583a15ba-5a4b-44c1-b7b4-6ea490d3b178",
        "colab": {
          "base_uri": "https://localhost:8080/",
          "height": 69
        }
      },
      "source": [
        "from psutil import virtual_memory\n",
        "ram_gb = virtual_memory().total / 1e9\n",
        "print('Your runtime has {:.1f} gigabytes of available RAM\\n'.format(ram_gb))\n",
        "\n",
        "if ram_gb < 20:\n",
        "  print('To enable a high-RAM runtime, select the Runtime → \"Change runtime type\"')\n",
        "  print('menu, and then select High-RAM in the Runtime shape dropdown. Then, ')\n",
        "  print('re-execute this cell.')\n",
        "  \n",
        "else:\n",
        "  print('You are using a high-RAM runtime!')"
      ],
      "execution_count": 0,
      "outputs": [
        {
          "output_type": "stream",
          "text": [
            "Your runtime has 27.4 gigabytes of available RAM\n",
            "\n",
            "You are using a high-RAM runtime!\n"
          ],
          "name": "stdout"
        }
      ]
    },
    {
      "cell_type": "code",
      "metadata": {
        "id": "PMhA_lPab3dE",
        "colab_type": "code",
        "outputId": "5841421f-a8a1-4ea1-df0d-c262142339bb",
        "colab": {
          "base_uri": "https://localhost:8080/",
          "height": 124
        }
      },
      "source": [
        "! pip install uproot\n",
        "import pandas"
      ],
      "execution_count": 0,
      "outputs": [
        {
          "output_type": "stream",
          "text": [
            "Requirement already satisfied: uproot in /usr/local/lib/python3.6/dist-packages (3.11.3)\n",
            "Requirement already satisfied: awkward<1.0,>=0.12.0 in /usr/local/lib/python3.6/dist-packages (from uproot) (0.12.20)\n",
            "Requirement already satisfied: numpy>=1.13.1 in /usr/local/lib/python3.6/dist-packages (from uproot) (1.18.2)\n",
            "Requirement already satisfied: uproot-methods>=0.7.0 in /usr/local/lib/python3.6/dist-packages (from uproot) (0.7.3)\n",
            "Requirement already satisfied: cachetools in /usr/local/lib/python3.6/dist-packages (from uproot) (3.1.1)\n"
          ],
          "name": "stdout"
        }
      ]
    },
    {
      "cell_type": "code",
      "metadata": {
        "id": "0APHPqqmcApm",
        "colab_type": "code",
        "outputId": "d1d84b23-e8ac-45a1-e3e3-690619c9f406",
        "colab": {
          "base_uri": "https://localhost:8080/",
          "height": 106
        }
      },
      "source": [
        "#we are wondering whether it is theoretically feasible to use the pt of the jet\n",
        "\n",
        "#with the highest pt as an observale\n",
        "\n",
        "#one possible issue is: say we have done the ordering of the gen Jets (before entering the detector)\n",
        "\n",
        "#what we measure are rec jets instead of genjets (MC)\n",
        "\n",
        "#1.a. we want to order the gen jets in highest pt (from highest to lowest)\n",
        "\n",
        "#1.b. matching the genjets and recjets\n",
        "\n",
        "#2. want to find probability of order of gen jets and recjets are flipped\n",
        "\n",
        "file_dir = '/content/drive/My Drive/Pythia16Flat.root'\n",
        "import uproot\n",
        "\n",
        "#from concurrent.futures import ThreadPoolExecutor\n",
        "%pylab inline\n",
        "#executor = ThreadPoolExecutor(max_workers=4)\n",
        "\n",
        "t = uproot.open(file_dir)[\"inclusive_jets\"]\n",
        "\n",
        "num_gen, genpt, geneta, genphi, genmass = t.arrays(['genJets', 'genJets.p4.fPt', 'genJets.p4.fEta', 'genJets.p4.fPhi', 'genJets.p4.fM'], outputtype = pandas.DataFrame)\n",
        "\n",
        "num_rec, recpt, receta, recphi, recmass = t.arrays(['recJets', 'recJets.p4.fPt', 'recJets.p4.fEta', 'recJets.p4.fPhi', 'recJets.p4.fM'], outputtype = pandas.DataFrame)\n",
        "\n"
      ],
      "execution_count": 0,
      "outputs": [
        {
          "output_type": "stream",
          "text": [
            "Populating the interactive namespace from numpy and matplotlib\n"
          ],
          "name": "stdout"
        },
        {
          "output_type": "stream",
          "text": [
            "/usr/local/lib/python3.6/dist-packages/IPython/core/magics/pylab.py:161: UserWarning: pylab import has clobbered these variables: ['var', 'mean']\n",
            "`%matplotlib` prevents importing * from pylab and numpy\n",
            "  \"\\n`%matplotlib` prevents importing * from pylab and numpy\"\n"
          ],
          "name": "stderr"
        }
      ]
    },
    {
      "cell_type": "code",
      "metadata": {
        "id": "TEVaK5vjDfUO",
        "colab_type": "code",
        "outputId": "998fc9e5-bc64-470a-99ee-e144f1bd6d96",
        "colab": {
          "base_uri": "https://localhost:8080/",
          "height": 72
        }
      },
      "source": [
        "#we are wondering whether it is theoretically feasible to use the pt of the jet\n",
        "\n",
        "#with the highest pt as an observale\n",
        "\n",
        "#one possible issue is: say we have done the ordering of the gen Jets (before entering the detector)\n",
        "\n",
        "#what we measure are rec jets instead of genjets (MC)\n",
        "\n",
        "#1.a. we want to order the gen jets in highest pt (from highest to lowest)\n",
        "\n",
        "#1.b. matching the genjets and recjets\n",
        "\n",
        "#2. want to find probability of order of gen jets and recjets are flipped\n",
        "file_dir = '/content/drive/My Drive/Pythia16Flat.root'\n",
        "#file_dir = '/content/drive/My Drive/Pythia16Flat.root'\n",
        "import uproot\n",
        "\n",
        "from concurrent.futures import ThreadPoolExecutor\n",
        "%pylab inline\n",
        "executor = ThreadPoolExecutor(max_workers=4)\n",
        "\n",
        "t = uproot.open(file_dir)[\"inclusive_jets\"]\n",
        "\n",
        "num_gen, genpt, geneta, genphi, genmass = t.arrays(['genJets', 'genJets.p4.fPt', 'genJets.p4.fEta', 'genJets.p4.fPhi', 'genJets.p4.fM'], outputtype = tuple)\n",
        "\n",
        "num_rec, recpt, receta, recphi, recmass = t.arrays(['recJets', 'recJets.p4.fPt', 'recJets.p4.fEta', 'recJets.p4.fPhi', 'recJets.p4.fM'], outputtype = tuple)\n",
        "\n",
        "genpt"
      ],
      "execution_count": 0,
      "outputs": [
        {
          "output_type": "stream",
          "text": [
            "Populating the interactive namespace from numpy and matplotlib\n"
          ],
          "name": "stdout"
        },
        {
          "output_type": "execute_result",
          "data": {
            "text/plain": [
              "<JaggedArray [[] [75.975876] [118.32144 51.27604 45.145573] ... [190.96977 160.87369 114.55686 102.6486 45.849796] [812.20856 788.83105 655.04095 444.3453 110.9356 88.016174] [203.53789 203.07913]] at 0x7fd717178f98>"
            ]
          },
          "metadata": {
            "tags": []
          },
          "execution_count": 2
        }
      ]
    },
    {
      "cell_type": "code",
      "metadata": {
        "id": "9ID3Iz2qrdEr",
        "colab_type": "code",
        "outputId": "d5bd28e3-b7dc-4f8a-fb9a-1d3a4edde386",
        "colab": {
          "base_uri": "https://localhost:8080/",
          "height": 455
        }
      },
      "source": [
        "pd_df = t.arrays(['genJets', 'genJets.p4.fPt', 'genJets.p4.fEta', 'genJets.p4.fPhi', 'genJets.p4.fM'], outputtype = pandas.DataFrame, entrystop=1000)\n",
        "pd_df"
      ],
      "execution_count": 0,
      "outputs": [
        {
          "output_type": "execute_result",
          "data": {
            "text/html": [
              "<div>\n",
              "<style scoped>\n",
              "    .dataframe tbody tr th:only-of-type {\n",
              "        vertical-align: middle;\n",
              "    }\n",
              "\n",
              "    .dataframe tbody tr th {\n",
              "        vertical-align: top;\n",
              "    }\n",
              "\n",
              "    .dataframe thead th {\n",
              "        text-align: right;\n",
              "    }\n",
              "</style>\n",
              "<table border=\"1\" class=\"dataframe\">\n",
              "  <thead>\n",
              "    <tr style=\"text-align: right;\">\n",
              "      <th></th>\n",
              "      <th>genJets</th>\n",
              "      <th>genJets.p4.fPt</th>\n",
              "      <th>genJets.p4.fEta</th>\n",
              "      <th>genJets.p4.fPhi</th>\n",
              "      <th>genJets.p4.fM</th>\n",
              "    </tr>\n",
              "    <tr>\n",
              "      <th>entry</th>\n",
              "      <th></th>\n",
              "      <th></th>\n",
              "      <th></th>\n",
              "      <th></th>\n",
              "      <th></th>\n",
              "    </tr>\n",
              "  </thead>\n",
              "  <tbody>\n",
              "    <tr>\n",
              "      <th>0</th>\n",
              "      <td>0</td>\n",
              "      <td>[]</td>\n",
              "      <td>[]</td>\n",
              "      <td>[]</td>\n",
              "      <td>[]</td>\n",
              "    </tr>\n",
              "    <tr>\n",
              "      <th>1</th>\n",
              "      <td>1</td>\n",
              "      <td>[75.975876]</td>\n",
              "      <td>[-3.18446]</td>\n",
              "      <td>[0.710166]</td>\n",
              "      <td>[11.440314]</td>\n",
              "    </tr>\n",
              "    <tr>\n",
              "      <th>2</th>\n",
              "      <td>3</td>\n",
              "      <td>[118.32144, 51.27604, 45.145573]</td>\n",
              "      <td>[0.41222665, -1.4611965, 1.9651763]</td>\n",
              "      <td>[0.5277746, -2.5486567, -2.5018697]</td>\n",
              "      <td>[16.55055, 7.9144645, 4.2738423]</td>\n",
              "    </tr>\n",
              "    <tr>\n",
              "      <th>3</th>\n",
              "      <td>2</td>\n",
              "      <td>[149.29053, 141.07996]</td>\n",
              "      <td>[1.5317056, -1.0702163]</td>\n",
              "      <td>[-1.3166506, 1.5991004]</td>\n",
              "      <td>[15.416561, 13.985427]</td>\n",
              "    </tr>\n",
              "    <tr>\n",
              "      <th>4</th>\n",
              "      <td>2</td>\n",
              "      <td>[234.39307, 215.417]</td>\n",
              "      <td>[-0.5607348, -0.6397637]</td>\n",
              "      <td>[1.4271187, -1.6626452]</td>\n",
              "      <td>[13.699139, 16.328001]</td>\n",
              "    </tr>\n",
              "    <tr>\n",
              "      <th>...</th>\n",
              "      <td>...</td>\n",
              "      <td>...</td>\n",
              "      <td>...</td>\n",
              "      <td>...</td>\n",
              "      <td>...</td>\n",
              "    </tr>\n",
              "    <tr>\n",
              "      <th>995</th>\n",
              "      <td>4</td>\n",
              "      <td>[551.3573, 347.50897, 164.6398, 102.88105]</td>\n",
              "      <td>[0.72279876, -1.1968787, -0.10299682, 0.84912]</td>\n",
              "      <td>[1.2940445, -1.9031208, -2.400662, -0.62335455]</td>\n",
              "      <td>[51.02336, 31.894371, 31.014843, 18.081715]</td>\n",
              "    </tr>\n",
              "    <tr>\n",
              "      <th>996</th>\n",
              "      <td>5</td>\n",
              "      <td>[402.2041, 191.12672, 157.87662, 73.88794, 72....</td>\n",
              "      <td>[-0.4413118, -1.5918975, -0.8685182, 0.6492929...</td>\n",
              "      <td>[-3.120608, -0.18415366, -0.6264001, 0.6478126...</td>\n",
              "      <td>[16.553253, 21.386919, 26.923737, 9.327499, 9....</td>\n",
              "    </tr>\n",
              "    <tr>\n",
              "      <th>997</th>\n",
              "      <td>1</td>\n",
              "      <td>[64.92126]</td>\n",
              "      <td>[-0.045145154]</td>\n",
              "      <td>[2.504577]</td>\n",
              "      <td>[10.345054]</td>\n",
              "    </tr>\n",
              "    <tr>\n",
              "      <th>998</th>\n",
              "      <td>0</td>\n",
              "      <td>[]</td>\n",
              "      <td>[]</td>\n",
              "      <td>[]</td>\n",
              "      <td>[]</td>\n",
              "    </tr>\n",
              "    <tr>\n",
              "      <th>999</th>\n",
              "      <td>3</td>\n",
              "      <td>[88.063675, 71.638374, 62.61698]</td>\n",
              "      <td>[-2.9780214, -2.082111, -2.790152]</td>\n",
              "      <td>[-1.8386462, 1.7909802, 0.45935678]</td>\n",
              "      <td>[8.889638, 18.120275, 13.014483]</td>\n",
              "    </tr>\n",
              "  </tbody>\n",
              "</table>\n",
              "<p>1000 rows × 5 columns</p>\n",
              "</div>"
            ],
            "text/plain": [
              "       genJets  ...                                      genJets.p4.fM\n",
              "entry           ...                                                   \n",
              "0            0  ...                                                 []\n",
              "1            1  ...                                        [11.440314]\n",
              "2            3  ...                   [16.55055, 7.9144645, 4.2738423]\n",
              "3            2  ...                             [15.416561, 13.985427]\n",
              "4            2  ...                             [13.699139, 16.328001]\n",
              "...        ...  ...                                                ...\n",
              "995          4  ...        [51.02336, 31.894371, 31.014843, 18.081715]\n",
              "996          5  ...  [16.553253, 21.386919, 26.923737, 9.327499, 9....\n",
              "997          1  ...                                        [10.345054]\n",
              "998          0  ...                                                 []\n",
              "999          3  ...                   [8.889638, 18.120275, 13.014483]\n",
              "\n",
              "[1000 rows x 5 columns]"
            ]
          },
          "metadata": {
            "tags": []
          },
          "execution_count": 18
        }
      ]
    },
    {
      "cell_type": "code",
      "metadata": {
        "id": "Nh8IxZY2sEWS",
        "colab_type": "code",
        "outputId": "65e2925d-40b4-489e-af96-a94a3c6feae4",
        "colab": {
          "base_uri": "https://localhost:8080/",
          "height": 167
        }
      },
      "source": [
        "pd_df.loc[genJets.p4.fPt]"
      ],
      "execution_count": 0,
      "outputs": [
        {
          "output_type": "error",
          "ename": "NameError",
          "evalue": "ignored",
          "traceback": [
            "\u001b[0;31m---------------------------------------------------------------------------\u001b[0m",
            "\u001b[0;31mNameError\u001b[0m                                 Traceback (most recent call last)",
            "\u001b[0;32m<ipython-input-21-4bc488e4a848>\u001b[0m in \u001b[0;36m<module>\u001b[0;34m()\u001b[0m\n\u001b[0;32m----> 1\u001b[0;31m \u001b[0mpd_df\u001b[0m\u001b[0;34m.\u001b[0m\u001b[0mloc\u001b[0m\u001b[0;34m[\u001b[0m\u001b[0mgenJets\u001b[0m\u001b[0;34m.\u001b[0m\u001b[0mp4\u001b[0m\u001b[0;34m.\u001b[0m\u001b[0mfPt\u001b[0m\u001b[0;34m]\u001b[0m\u001b[0;34m\u001b[0m\u001b[0;34m\u001b[0m\u001b[0m\n\u001b[0m",
            "\u001b[0;31mNameError\u001b[0m: name 'genJets' is not defined"
          ]
        }
      ]
    },
    {
      "cell_type": "code",
      "metadata": {
        "id": "3yajN1MAcKwg",
        "colab_type": "code",
        "colab": {}
      },
      "source": [
        "#ind = 20000\n",
        "ind = len(genpt)//4\n",
        "tinypt_g = genpt[:ind]\n",
        "tinypt_r = recpt[:ind]\n",
        "tinyphi_g = genphi[:ind]\n",
        "tinyphi_r = recphi[:ind]\n",
        "tinyeta_g = geneta[:ind]\n",
        "tinyeta_r = receta[:ind]\n",
        "\n",
        "tinym_r = recmass[:ind]\n",
        "tinym_g = genmass[:ind]\n",
        "\n",
        "# tinyflavor_g = genflavour[:ind]\n",
        "# tinyflavor_r = genflavour[:ind]\n",
        "\n",
        "# tiny_nCHadrons_g =  gen_nCHadrons[:ind]\n",
        "# tiny_nCHadrons_r = rec_nCHadrons[:ind]\n",
        "\n",
        "# tiny_nBHadrons_g = gen_nBHadrons[:ind]\n",
        "# tiny_nBHadrons_r = rec_nBHadrons[:ind]\n",
        "# import numpy as np\n"
      ],
      "execution_count": 0,
      "outputs": []
    },
    {
      "cell_type": "code",
      "metadata": {
        "id": "ejBFT4TDcfAf",
        "colab_type": "code",
        "outputId": "ee3c5688-393a-4f06-8df3-6fa0e3c8cde8",
        "colab": {
          "base_uri": "https://localhost:8080/",
          "height": 33
        }
      },
      "source": [
        "import numpy as np\n",
        "x = np.random.rand(1000)\n",
        "\n",
        "#draw random samples from data to estrimate uncertainty of distribution (bootstrapping)\n"
      ],
      "execution_count": 0,
      "outputs": [
        {
          "output_type": "execute_result",
          "data": {
            "text/plain": [
              "495"
            ]
          },
          "metadata": {
            "tags": []
          },
          "execution_count": 19
        }
      ]
    },
    {
      "cell_type": "code",
      "metadata": {
        "id": "kyRr4SzkxCJi",
        "colab_type": "code",
        "colab": {}
      },
      "source": [
        "rec_order_tiny=[]\n",
        "for event in range(0, len(tinypt_r)):\n",
        "  event_order_r_tiny = np.argsort(- tinypt_r[event])\n",
        "  rec_order_tiny.append(event_order_r_tiny)\n",
        "  event +=1"
      ],
      "execution_count": 0,
      "outputs": []
    },
    {
      "cell_type": "code",
      "metadata": {
        "id": "qrX6rIjrm-Re",
        "colab_type": "code",
        "outputId": "ecc3fc44-9327-4613-fdc2-29da992c852b",
        "colab": {
          "base_uri": "https://localhost:8080/",
          "height": 292
        }
      },
      "source": [
        "tinypt_r[rec_order_tiny]"
      ],
      "execution_count": 0,
      "outputs": [
        {
          "output_type": "error",
          "ename": "IndexError",
          "evalue": "ignored",
          "traceback": [
            "\u001b[0;31m---------------------------------------------------------------------------\u001b[0m",
            "\u001b[0;31mIndexError\u001b[0m                                Traceback (most recent call last)",
            "\u001b[0;32m<ipython-input-4-9ca8ff6cc449>\u001b[0m in \u001b[0;36m<module>\u001b[0;34m()\u001b[0m\n\u001b[0;32m----> 1\u001b[0;31m \u001b[0mtinypt_r\u001b[0m\u001b[0;34m[\u001b[0m\u001b[0mrec_order_tiny\u001b[0m\u001b[0;34m]\u001b[0m\u001b[0;34m\u001b[0m\u001b[0;34m\u001b[0m\u001b[0m\n\u001b[0m",
            "\u001b[0;32m/usr/local/lib/python3.6/dist-packages/awkward/array/jagged.py\u001b[0m in \u001b[0;36m__getitem__\u001b[0;34m(self, where)\u001b[0m\n\u001b[1;32m    590\u001b[0m \u001b[0;34m\u001b[0m\u001b[0m\n\u001b[1;32m    591\u001b[0m         \u001b[0;32melse\u001b[0m\u001b[0;34m:\u001b[0m\u001b[0;34m\u001b[0m\u001b[0;34m\u001b[0m\u001b[0m\n\u001b[0;32m--> 592\u001b[0;31m             \u001b[0mstarts\u001b[0m \u001b[0;34m=\u001b[0m \u001b[0mself\u001b[0m\u001b[0;34m.\u001b[0m\u001b[0m_starts\u001b[0m\u001b[0;34m[\u001b[0m\u001b[0mhead\u001b[0m\u001b[0;34m]\u001b[0m\u001b[0;34m\u001b[0m\u001b[0;34m\u001b[0m\u001b[0m\n\u001b[0m\u001b[1;32m    593\u001b[0m             \u001b[0mstops\u001b[0m \u001b[0;34m=\u001b[0m \u001b[0mself\u001b[0m\u001b[0;34m.\u001b[0m\u001b[0m_stops\u001b[0m\u001b[0;34m[\u001b[0m\u001b[0mhead\u001b[0m\u001b[0;34m]\u001b[0m\u001b[0;34m\u001b[0m\u001b[0;34m\u001b[0m\u001b[0m\n\u001b[1;32m    594\u001b[0m             \u001b[0;32mif\u001b[0m \u001b[0mlen\u001b[0m\u001b[0;34m(\u001b[0m\u001b[0mstarts\u001b[0m\u001b[0;34m.\u001b[0m\u001b[0mshape\u001b[0m\u001b[0;34m)\u001b[0m \u001b[0;34m==\u001b[0m \u001b[0mlen\u001b[0m\u001b[0;34m(\u001b[0m\u001b[0mstops\u001b[0m\u001b[0;34m.\u001b[0m\u001b[0mshape\u001b[0m\u001b[0;34m)\u001b[0m \u001b[0;34m==\u001b[0m \u001b[0;36m0\u001b[0m\u001b[0;34m:\u001b[0m\u001b[0;34m\u001b[0m\u001b[0;34m\u001b[0m\u001b[0m\n",
            "\u001b[0;31mIndexError\u001b[0m: only integers, slices (`:`), ellipsis (`...`), numpy.newaxis (`None`) and integer or boolean arrays are valid indices"
          ]
        }
      ]
    },
    {
      "cell_type": "code",
      "metadata": {
        "id": "WAjCwYT-xYsB",
        "colab_type": "code",
        "colab": {}
      },
      "source": [
        "rec_order_tiny = np.array(rec_order_tiny)\n",
        "list(rec_order_tiny)"
      ],
      "execution_count": 0,
      "outputs": []
    },
    {
      "cell_type": "code",
      "metadata": {
        "id": "xW7HBWZCxsZI",
        "colab_type": "code",
        "outputId": "2651d2db-f2f5-458c-e189-2ed537cc7d73",
        "colab": {
          "base_uri": "https://localhost:8080/",
          "height": 231
        }
      },
      "source": [
        "maxelements=[]\n",
        "for event in rec_order_tiny:\n",
        "  max_element_ind = event[0]\n",
        "  maxelements.append(max_element_ind)\n",
        "  event +=1"
      ],
      "execution_count": 0,
      "outputs": [
        {
          "output_type": "error",
          "ename": "IndexError",
          "evalue": "ignored",
          "traceback": [
            "\u001b[0;31m---------------------------------------------------------------------------\u001b[0m",
            "\u001b[0;31mIndexError\u001b[0m                                Traceback (most recent call last)",
            "\u001b[0;32m<ipython-input-8-eaf3151fd43c>\u001b[0m in \u001b[0;36m<module>\u001b[0;34m()\u001b[0m\n\u001b[1;32m      1\u001b[0m \u001b[0mmaxelements\u001b[0m\u001b[0;34m=\u001b[0m\u001b[0;34m[\u001b[0m\u001b[0;34m]\u001b[0m\u001b[0;34m\u001b[0m\u001b[0;34m\u001b[0m\u001b[0m\n\u001b[1;32m      2\u001b[0m \u001b[0;32mfor\u001b[0m \u001b[0mevent\u001b[0m \u001b[0;32min\u001b[0m \u001b[0mrec_order_tiny\u001b[0m\u001b[0;34m:\u001b[0m\u001b[0;34m\u001b[0m\u001b[0;34m\u001b[0m\u001b[0m\n\u001b[0;32m----> 3\u001b[0;31m   \u001b[0mmax_element_ind\u001b[0m \u001b[0;34m=\u001b[0m \u001b[0mevent\u001b[0m\u001b[0;34m[\u001b[0m\u001b[0;36m0\u001b[0m\u001b[0;34m]\u001b[0m\u001b[0;34m\u001b[0m\u001b[0;34m\u001b[0m\u001b[0m\n\u001b[0m\u001b[1;32m      4\u001b[0m   \u001b[0mmaxelements\u001b[0m\u001b[0;34m.\u001b[0m\u001b[0mappend\u001b[0m\u001b[0;34m(\u001b[0m\u001b[0mmax_element_ind\u001b[0m\u001b[0;34m)\u001b[0m\u001b[0;34m\u001b[0m\u001b[0;34m\u001b[0m\u001b[0m\n\u001b[1;32m      5\u001b[0m   \u001b[0mevent\u001b[0m \u001b[0;34m+=\u001b[0m\u001b[0;36m1\u001b[0m\u001b[0;34m\u001b[0m\u001b[0;34m\u001b[0m\u001b[0m\n",
            "\u001b[0;31mIndexError\u001b[0m: index 0 is out of bounds for axis 0 with size 0"
          ]
        }
      ]
    },
    {
      "cell_type": "code",
      "metadata": {
        "id": "p2RcUAXycmri",
        "colab_type": "code",
        "outputId": "1df540d4-5af5-47f9-d697-7446e16c40b6",
        "colab": {
          "base_uri": "https://localhost:8080/",
          "height": 54
        }
      },
      "source": [
        "import uproot_methods\n",
        "gen_p4 = uproot_methods.TLorentzVectorArray.from_ptetaphim(tinypt_g,\n",
        "                                                                 tinyeta_g,\n",
        "                                                                 tinyphi_g,\n",
        "                                                                 tinym_g)\n",
        "\n",
        "rec_p4 = uproot_methods.TLorentzVectorArray.from_ptetaphim(tinypt_r,\n",
        "                                                                 tinyeta_r,\n",
        "                                                                 tinyphi_r,\n",
        "                                                                 tinym_r)\n",
        "\n",
        "gen_p4"
      ],
      "execution_count": 0,
      "outputs": [
        {
          "output_type": "execute_result",
          "data": {
            "text/plain": [
              "<JaggedArrayMethods [[] [PtEtaPhiMassLorentzVector(pt=75.976, eta=-3.1845, phi=0.71017, mass=11.44)] [PtEtaPhiMassLorentzVector(pt=118.32, eta=0.41223, phi=0.52777, mass=16.551) PtEtaPhiMassLorentzVector(pt=51.276, eta=-1.4612, phi=-2.5487, mass=7.9145) PtEtaPhiMassLorentzVector(pt=45.146, eta=1.9652, phi=-2.5019, mass=4.2738)] ... [PtEtaPhiMassLorentzVector(pt=228.78, eta=-2.0697, phi=-1.347, mass=22.93) PtEtaPhiMassLorentzVector(pt=218.57, eta=-2.9979, phi=1.511, mass=21.12) PtEtaPhiMassLorentzVector(pt=65.961, eta=-0.45201, phi=-3.1022, mass=15.321)] [PtEtaPhiMassLorentzVector(pt=476.74, eta=-0.52776, phi=1.2726, mass=36.079) PtEtaPhiMassLorentzVector(pt=424.23, eta=-1.2552, phi=-2.1106, mass=35.803) PtEtaPhiMassLorentzVector(pt=45.801, eta=-1.6887, phi=-1.5376, mass=12.43)] [PtEtaPhiMassLorentzVector(pt=351.32, eta=1.7364, phi=1.1619, mass=29.821) PtEtaPhiMassLorentzVector(pt=334.36, eta=-0.32011, phi=-1.8938, mass=41.513) PtEtaPhiMassLorentzVector(pt=72.398, eta=-1.2214, phi=-2.7096, mass=10.234)]] at 0x7fd7a0f79b70>"
            ]
          },
          "metadata": {
            "tags": []
          },
          "execution_count": 5
        }
      ]
    },
    {
      "cell_type": "code",
      "metadata": {
        "id": "H90eSFM_cpIi",
        "colab_type": "code",
        "colab": {}
      },
      "source": [
        "\n",
        "pairs = gen_p4.cross(rec_p4)"
      ],
      "execution_count": 0,
      "outputs": []
    },
    {
      "cell_type": "code",
      "metadata": {
        "id": "sBmcKS3PcrdS",
        "colab_type": "code",
        "outputId": "1ab84c2d-3d18-40ba-ca3b-ccdcb95ef85e",
        "colab": {
          "base_uri": "https://localhost:8080/",
          "height": 309
        }
      },
      "source": [
        "\n",
        "R_VEC = pairs.i0.delta_r(pairs.i1)\n",
        "plt.hist(R_VEC.flatten(), bins=80, range=(-0.05,0.5))\n",
        "plt.xlabel(r\"$\\Delta R$\")"
      ],
      "execution_count": 0,
      "outputs": [
        {
          "output_type": "execute_result",
          "data": {
            "text/plain": [
              "Text(0.5, 0, '$\\\\Delta R$')"
            ]
          },
          "metadata": {
            "tags": []
          },
          "execution_count": 7
        },
        {
          "output_type": "display_data",
          "data": {
            "image/png": "[encoded data removed]",
            "text/plain": [
              "<Figure size 432x288 with 1 Axes>"
            ]
          },
          "metadata": {
            "tags": [],
            "needs_background": "light"
          }
        }
      ]
    },
    {
      "cell_type": "code",
      "metadata": {
        "id": "HBeJO4UTctuv",
        "colab_type": "code",
        "colab": {}
      },
      "source": [
        "from scipy import optimize\n",
        "#print(optimize.minimize(R_VEC.flatten(), x0=0.2))\n",
        "R_mask_4V = (R_VEC < 0.25)\n",
        "gen_matched = pairs.i0[R_mask_4V]\n",
        "rec_matched = pairs.i1[R_mask_4V]"
      ],
      "execution_count": 0,
      "outputs": []
    },
    {
      "cell_type": "code",
      "metadata": {
        "id": "TG9WoBvbT6kI",
        "colab_type": "code",
        "outputId": "ef82e7e9-145f-4364-a177-bb34b0a061b4",
        "colab": {
          "base_uri": "https://localhost:8080/",
          "height": 34
        }
      },
      "source": [
        "len(R_mask_4V), len(pairs.i0), len(gen_matched), len(gen_matched[gen_matched.counts >=1]), len(rec_matched[gen_matched.counts >=1]), "
      ],
      "execution_count": 0,
      "outputs": [
        {
          "output_type": "execute_result",
          "data": {
            "text/plain": [
              "(2413566, 2413566, 2413566, 2044879, 2044879)"
            ]
          },
          "metadata": {
            "tags": []
          },
          "execution_count": 9
        }
      ]
    },
    {
      "cell_type": "code",
      "metadata": {
        "id": "qznDEVoySZFb",
        "colab_type": "code",
        "outputId": "87d22f2f-2010-4f77-8e69-a237556047be",
        "colab": {
          "base_uri": "https://localhost:8080/",
          "height": 54
        }
      },
      "source": [
        "gen_matched = gen_matched[gen_matched.counts > 1]\n",
        "rec_matched = rec_matched[rec_matched.counts > 1]\n",
        "# rec_matched\n",
        "# gen_matched = gen_matched[gen_matched.counts == 3]\n",
        "# rec_matched = rec_matched[rec_matched.counts == 3]\n",
        "rec_matched"
      ],
      "execution_count": 0,
      "outputs": [
        {
          "output_type": "execute_result",
          "data": {
            "text/plain": [
              "<JaggedArrayMethods [[PtEtaPhiMassLorentzVector(pt=112.42, eta=0.40757, phi=0.51733, mass=16.196) PtEtaPhiMassLorentzVector(pt=53.633, eta=-1.4433, phi=-2.5153, mass=10.745)] [PtEtaPhiMassLorentzVector(pt=121.26, eta=1.5352, phi=-1.3251, mass=15.256) PtEtaPhiMassLorentzVector(pt=120.14, eta=-1.0669, phi=1.6009, mass=12.73)] [PtEtaPhiMassLorentzVector(pt=253.25, eta=-0.55412, phi=1.4269, mass=26.085) PtEtaPhiMassLorentzVector(pt=233.21, eta=-0.63057, phi=-1.6538, mass=20.519)] ... [PtEtaPhiMassLorentzVector(pt=222.81, eta=-2.0704, phi=-1.3446, mass=25.187) PtEtaPhiMassLorentzVector(pt=178.06, eta=-2.9557, phi=1.4334, mass=28.338) PtEtaPhiMassLorentzVector(pt=61.106, eta=-0.47791, phi=-3.1118, mass=10.734)] [PtEtaPhiMassLorentzVector(pt=443.06, eta=-0.52893, phi=1.2682, mass=35.775) PtEtaPhiMassLorentzVector(pt=400.87, eta=-1.2418, phi=-2.1192, mass=45.646) PtEtaPhiMassLorentzVector(pt=45.533, eta=-1.6562, phi=-1.5072, mass=10.936)] [PtEtaPhiMassLorentzVector(pt=346.69, eta=1.7368, phi=1.1696, mass=31.007) PtEtaPhiMassLorentzVector(pt=316.05, eta=-0.317, phi=-1.9018, mass=38.876) PtEtaPhiMassLorentzVector(pt=60.006, eta=-1.2168, phi=-2.7169, mass=8.5222)]] at 0x7fd7a0f8a240>"
            ]
          },
          "metadata": {
            "tags": []
          },
          "execution_count": 10
        }
      ]
    },
    {
      "cell_type": "code",
      "metadata": {
        "id": "3cwcw9E9cxgp",
        "colab_type": "code",
        "outputId": "6cc7c74f-f7bf-4584-bd1d-4d8e1fc30031",
        "colab": {
          "base_uri": "https://localhost:8080/",
          "height": 34
        }
      },
      "source": [
        "len(R_mask_4V), len(pairs.i0), len(gen_matched), len(gen_matched[gen_matched.counts >=1]), len(rec_matched[gen_matched.counts >=1]), "
      ],
      "execution_count": 0,
      "outputs": [
        {
          "output_type": "execute_result",
          "data": {
            "text/plain": [
              "(2413566, 2413566, 1806613, 1806613, 1806613)"
            ]
          },
          "metadata": {
            "tags": []
          },
          "execution_count": 11
        }
      ]
    },
    {
      "cell_type": "code",
      "metadata": {
        "id": "7NcvRfzWUBxX",
        "colab_type": "code",
        "colab": {}
      },
      "source": [
        "\n",
        "# rec_sorted = np.argsort( rec_matched.pt.any())\n",
        "# #ge "
      ],
      "execution_count": 0,
      "outputs": []
    },
    {
      "cell_type": "code",
      "metadata": {
        "id": "a7xI_Bb2x17q",
        "colab_type": "code",
        "colab": {}
      },
      "source": [
        "# rec_sorted = rec_matched.pt[rec_matched.pt.argsort()]\n",
        "# gen_sorted = gen_matched.pt[gen_matched.pt.argsort()]"
      ],
      "execution_count": 0,
      "outputs": []
    },
    {
      "cell_type": "code",
      "metadata": {
        "id": "tDkXJQqamUd7",
        "colab_type": "code",
        "outputId": "a6e38628-a075-4d7a-89ad-e0e3e4f48d9c",
        "colab": {
          "base_uri": "https://localhost:8080/",
          "height": 442
        }
      },
      "source": [
        "# rec_ordered = tinypt_r[np.argsort(- tinypt_r)]"
      ],
      "execution_count": 0,
      "outputs": [
        {
          "output_type": "error",
          "ename": "ValueError",
          "evalue": "ignored",
          "traceback": [
            "\u001b[0;31m---------------------------------------------------------------------------\u001b[0m",
            "\u001b[0;31mTypeError\u001b[0m                                 Traceback (most recent call last)",
            "\u001b[0;32m/usr/local/lib/python3.6/dist-packages/numpy/core/fromnumeric.py\u001b[0m in \u001b[0;36m_wrapfunc\u001b[0;34m(obj, method, *args, **kwds)\u001b[0m\n\u001b[1;32m     60\u001b[0m     \u001b[0;32mtry\u001b[0m\u001b[0;34m:\u001b[0m\u001b[0;34m\u001b[0m\u001b[0;34m\u001b[0m\u001b[0m\n\u001b[0;32m---> 61\u001b[0;31m         \u001b[0;32mreturn\u001b[0m \u001b[0mbound\u001b[0m\u001b[0;34m(\u001b[0m\u001b[0;34m*\u001b[0m\u001b[0margs\u001b[0m\u001b[0;34m,\u001b[0m \u001b[0;34m**\u001b[0m\u001b[0mkwds\u001b[0m\u001b[0;34m)\u001b[0m\u001b[0;34m\u001b[0m\u001b[0;34m\u001b[0m\u001b[0m\n\u001b[0m\u001b[1;32m     62\u001b[0m     \u001b[0;32mexcept\u001b[0m \u001b[0mTypeError\u001b[0m\u001b[0;34m:\u001b[0m\u001b[0;34m\u001b[0m\u001b[0;34m\u001b[0m\u001b[0m\n",
            "\u001b[0;31mTypeError\u001b[0m: argsort() got an unexpected keyword argument 'axis'",
            "\nDuring handling of the above exception, another exception occurred:\n",
            "\u001b[0;31mValueError\u001b[0m                                Traceback (most recent call last)",
            "\u001b[0;32m<ipython-input-15-c2d90c36103d>\u001b[0m in \u001b[0;36m<module>\u001b[0;34m()\u001b[0m\n\u001b[0;32m----> 1\u001b[0;31m \u001b[0mrec_ordered\u001b[0m \u001b[0;34m=\u001b[0m \u001b[0mtinypt_r\u001b[0m\u001b[0;34m[\u001b[0m\u001b[0mnp\u001b[0m\u001b[0;34m.\u001b[0m\u001b[0margsort\u001b[0m\u001b[0;34m(\u001b[0m\u001b[0;34m-\u001b[0m \u001b[0mtinypt_r\u001b[0m\u001b[0;34m)\u001b[0m\u001b[0;34m]\u001b[0m\u001b[0;34m\u001b[0m\u001b[0;34m\u001b[0m\u001b[0m\n\u001b[0m",
            "\u001b[0;32m<__array_function__ internals>\u001b[0m in \u001b[0;36margsort\u001b[0;34m(*args, **kwargs)\u001b[0m\n",
            "\u001b[0;32m/usr/local/lib/python3.6/dist-packages/numpy/core/fromnumeric.py\u001b[0m in \u001b[0;36margsort\u001b[0;34m(a, axis, kind, order)\u001b[0m\n\u001b[1;32m   1103\u001b[0m \u001b[0;34m\u001b[0m\u001b[0m\n\u001b[1;32m   1104\u001b[0m     \"\"\"\n\u001b[0;32m-> 1105\u001b[0;31m     \u001b[0;32mreturn\u001b[0m \u001b[0m_wrapfunc\u001b[0m\u001b[0;34m(\u001b[0m\u001b[0ma\u001b[0m\u001b[0;34m,\u001b[0m \u001b[0;34m'argsort'\u001b[0m\u001b[0;34m,\u001b[0m \u001b[0maxis\u001b[0m\u001b[0;34m=\u001b[0m\u001b[0maxis\u001b[0m\u001b[0;34m,\u001b[0m \u001b[0mkind\u001b[0m\u001b[0;34m=\u001b[0m\u001b[0mkind\u001b[0m\u001b[0;34m,\u001b[0m \u001b[0morder\u001b[0m\u001b[0;34m=\u001b[0m\u001b[0morder\u001b[0m\u001b[0;34m)\u001b[0m\u001b[0;34m\u001b[0m\u001b[0;34m\u001b[0m\u001b[0m\n\u001b[0m\u001b[1;32m   1106\u001b[0m \u001b[0;34m\u001b[0m\u001b[0m\n\u001b[1;32m   1107\u001b[0m \u001b[0;34m\u001b[0m\u001b[0m\n",
            "\u001b[0;32m/usr/local/lib/python3.6/dist-packages/numpy/core/fromnumeric.py\u001b[0m in \u001b[0;36m_wrapfunc\u001b[0;34m(obj, method, *args, **kwds)\u001b[0m\n\u001b[1;32m     68\u001b[0m         \u001b[0;31m# Call _wrapit from within the except clause to ensure a potential\u001b[0m\u001b[0;34m\u001b[0m\u001b[0;34m\u001b[0m\u001b[0;34m\u001b[0m\u001b[0m\n\u001b[1;32m     69\u001b[0m         \u001b[0;31m# exception has a traceback chain.\u001b[0m\u001b[0;34m\u001b[0m\u001b[0;34m\u001b[0m\u001b[0;34m\u001b[0m\u001b[0m\n\u001b[0;32m---> 70\u001b[0;31m         \u001b[0;32mreturn\u001b[0m \u001b[0m_wrapit\u001b[0m\u001b[0;34m(\u001b[0m\u001b[0mobj\u001b[0m\u001b[0;34m,\u001b[0m \u001b[0mmethod\u001b[0m\u001b[0;34m,\u001b[0m \u001b[0;34m*\u001b[0m\u001b[0margs\u001b[0m\u001b[0;34m,\u001b[0m \u001b[0;34m**\u001b[0m\u001b[0mkwds\u001b[0m\u001b[0;34m)\u001b[0m\u001b[0;34m\u001b[0m\u001b[0;34m\u001b[0m\u001b[0m\n\u001b[0m\u001b[1;32m     71\u001b[0m \u001b[0;34m\u001b[0m\u001b[0m\n\u001b[1;32m     72\u001b[0m \u001b[0;34m\u001b[0m\u001b[0m\n",
            "\u001b[0;32m/usr/local/lib/python3.6/dist-packages/numpy/core/fromnumeric.py\u001b[0m in \u001b[0;36m_wrapit\u001b[0;34m(obj, method, *args, **kwds)\u001b[0m\n\u001b[1;32m     45\u001b[0m     \u001b[0;32mexcept\u001b[0m \u001b[0mAttributeError\u001b[0m\u001b[0;34m:\u001b[0m\u001b[0;34m\u001b[0m\u001b[0;34m\u001b[0m\u001b[0m\n\u001b[1;32m     46\u001b[0m         \u001b[0mwrap\u001b[0m \u001b[0;34m=\u001b[0m \u001b[0;32mNone\u001b[0m\u001b[0;34m\u001b[0m\u001b[0;34m\u001b[0m\u001b[0m\n\u001b[0;32m---> 47\u001b[0;31m     \u001b[0mresult\u001b[0m \u001b[0;34m=\u001b[0m \u001b[0mgetattr\u001b[0m\u001b[0;34m(\u001b[0m\u001b[0masarray\u001b[0m\u001b[0;34m(\u001b[0m\u001b[0mobj\u001b[0m\u001b[0;34m)\u001b[0m\u001b[0;34m,\u001b[0m \u001b[0mmethod\u001b[0m\u001b[0;34m)\u001b[0m\u001b[0;34m(\u001b[0m\u001b[0;34m*\u001b[0m\u001b[0margs\u001b[0m\u001b[0;34m,\u001b[0m \u001b[0;34m**\u001b[0m\u001b[0mkwds\u001b[0m\u001b[0;34m)\u001b[0m\u001b[0;34m\u001b[0m\u001b[0;34m\u001b[0m\u001b[0m\n\u001b[0m\u001b[1;32m     48\u001b[0m     \u001b[0;32mif\u001b[0m \u001b[0mwrap\u001b[0m\u001b[0;34m:\u001b[0m\u001b[0;34m\u001b[0m\u001b[0;34m\u001b[0m\u001b[0m\n\u001b[1;32m     49\u001b[0m         \u001b[0;32mif\u001b[0m \u001b[0;32mnot\u001b[0m \u001b[0misinstance\u001b[0m\u001b[0;34m(\u001b[0m\u001b[0mresult\u001b[0m\u001b[0;34m,\u001b[0m \u001b[0mmu\u001b[0m\u001b[0;34m.\u001b[0m\u001b[0mndarray\u001b[0m\u001b[0;34m)\u001b[0m\u001b[0;34m:\u001b[0m\u001b[0;34m\u001b[0m\u001b[0;34m\u001b[0m\u001b[0m\n",
            "\u001b[0;31mValueError\u001b[0m: The truth value of an array with more than one element is ambiguous. Use a.any() or a.all()"
          ]
        }
      ]
    },
    {
      "cell_type": "code",
      "metadata": {
        "id": "a-N2qSLzpDqY",
        "colab_type": "code",
        "outputId": "f99eef8b-fa3e-4655-fe52-8604309031af",
        "colab": {
          "base_uri": "https://localhost:8080/",
          "height": 34
        }
      },
      "source": [
        "import numpy as np\n",
        "some_list = [[1],[4],[3,4,7,0], [13,1,52,3], [9]]\n",
        "flat_list = [item for sublist in some_list for item in sublist]\n",
        "\n",
        "# which means:\n",
        "# flat_list = []\n",
        "# for sublist in l:\n",
        "#     for item in sublist:\n",
        "#         flat_list.append(item)\n",
        "flat_list"
      ],
      "execution_count": 0,
      "outputs": [
        {
          "output_type": "execute_result",
          "data": {
            "text/plain": [
              "[1, 4, 3, 4, 7, 0, 13, 1, 52, 3, 9]"
            ]
          },
          "metadata": {
            "tags": []
          },
          "execution_count": 7
        }
      ]
    },
    {
      "cell_type": "code",
      "metadata": {
        "id": "O-cmoznXqOs6",
        "colab_type": "code",
        "outputId": "005488f3-797e-47a7-9ec4-28c219f58e44",
        "colab": {
          "base_uri": "https://localhost:8080/",
          "height": 167
        }
      },
      "source": [
        "gen_matched"
      ],
      "execution_count": 0,
      "outputs": [
        {
          "output_type": "error",
          "ename": "NameError",
          "evalue": "ignored",
          "traceback": [
            "\u001b[0;31m---------------------------------------------------------------------------\u001b[0m",
            "\u001b[0;31mNameError\u001b[0m                                 Traceback (most recent call last)",
            "\u001b[0;32m<ipython-input-8-2ff635fba204>\u001b[0m in \u001b[0;36m<module>\u001b[0;34m()\u001b[0m\n\u001b[0;32m----> 1\u001b[0;31m \u001b[0mgen_matched\u001b[0m\u001b[0;34m\u001b[0m\u001b[0;34m\u001b[0m\u001b[0m\n\u001b[0m",
            "\u001b[0;31mNameError\u001b[0m: name 'gen_matched' is not defined"
          ]
        }
      ]
    },
    {
      "cell_type": "code",
      "metadata": {
        "id": "0izvCD5Dc5UD",
        "colab_type": "code",
        "colab": {}
      },
      "source": [
        "def ptcut(gen_matched_pt, rec_matched_pt, minGeV):\n",
        "  \"\"\"Enter the min pt for the defined bins. Output: arrays of the gen jets and rec jets for that pt range\n",
        "  The binning fot pt provided in the analysis note is [40, 60, 80, 140, 200, 260, 320, 400, 1500, 3500]\"\"\"\n",
        "  if minGeV == 40:\n",
        "    less_60_maskg = gen_matched.pt <= 60\n",
        "    less_60_maskr = rec_matched.pt <= 60\n",
        "    greater_40_maskg = gen_matched.pt >40\n",
        "    greater_40_maskr = rec_matched.pt >40\n",
        "    counts_ml = (less_60_maskg.counts == less_60_maskr.counts)\n",
        "    counts_mg = (greater_40_maskg.counts == greater_40_maskr)\n",
        "    return gen_matched.pt[less_60_maskg & greater_40_maskg], rec_matched.pt[less_60_maskr & greater_40_maskr]\n",
        "  elif minGeV == 60:\n",
        "      less_80_maskg = gen_matched.pt <= 80\n",
        "      less_80_maskr = rec_matched.pt <= 80\n",
        "      greater_60_maskg = gen_matched.pt >60\n",
        "      greater_60_maskr = rec_matched.pt >60\n",
        "      return gen_matched.pt[less_80_maskg & greater_60_maskg], rec_matched.pt[less_80_maskr & greater_60_maskr]\n",
        "  elif minGeV == 80:\n",
        "      less_140_maskg = gen_matched.pt <= 140\n",
        "      less_140_maskr = rec_matched.pt <= 140\n",
        "      greater_80_maskg = gen_matched.pt >80\n",
        "      greater_80_maskr = rec_matched.pt >80\n",
        "      return gen_matched.pt[less_140_maskg & greater_80_maskg], rec_matched.pt[less_140_maskr & greater_80_maskr]\n",
        "  elif minGeV == 140:\n",
        "      less_200_maskg = gen_matched.pt <= 200\n",
        "      less_200_maskr = rec_matched.pt <= 200\n",
        "      greater_140_maskg = gen_matched.pt >140\n",
        "      greater_140_maskr = rec_matched.pt >140\n",
        "      return gen_matched.pt[less_200_maskg & greater_140_maskg], rec_matched.pt[less_200_maskr & greater_140_maskr]\n",
        "  elif minGeV == 200:\n",
        "      less_260_maskg = gen_matched.pt <= 260\n",
        "      less_260_maskr = rec_matched.pt <= 260\n",
        "      greater_200_maskg = gen_matched.pt >200\n",
        "      greater_200_maskr = rec_matched.pt >200\n",
        "      return gen_matched.pt[less_260_maskg & greater_200_maskg], rec_matched.pt[less_260_maskr & greater_200_maskr]\n",
        "  elif minGeV == 260:\n",
        "      less_320_maskg = gen_matched.pt <= 320\n",
        "      less_320_maskr = rec_matched.pt <= 320\n",
        "      greater_260_maskg = gen_matched.pt >260\n",
        "      greater_260_maskr = rec_matched.pt >260\n",
        "      return gen_matched.pt[less_320_maskg & greater_260_maskg], rec_matched.pt[less_320_maskr & greater_260_maskr]\n",
        "  elif minGeV == 320:\n",
        "      less_400_maskg = gen_matched.pt <= 400\n",
        "      less_400_maskr = rec_matched.pt <= 400\n",
        "      greater_320_maskg = gen_matched.pt >320\n",
        "      greater_320_maskr = rec_matched.pt >320\n",
        "      return gen_matched.pt[less_400_maskg & greater_320_maskg], rec_matched.pt[less_400_maskr & greater_320_maskr]\n",
        "\n",
        "  elif minGeV == 400:\n",
        "      less_1500_maskg = gen_matched.pt <= 1500\n",
        "      less_1500_maskr = rec_matched.pt <= 1500\n",
        "      greater_400_maskg = gen_matched.pt >400\n",
        "      greater_400_maskr = rec_matched.pt >400\n",
        "      return gen_matched.pt[less_1500_maskg & greater_400_maskg], rec_matched.pt[less_1500_maskr & greater_400_maskr]\n",
        "\n",
        "  elif minGeV == 1500:\n",
        "      less_2000_maskg = gen_matched.pt <= 2000\n",
        "      less_2000_maskr = rec_matched.pt <= 2000\n",
        "      greater_1500_maskg = gen_matched.pt >1500\n",
        "      greater_1500_maskr = rec_matched.pt >1500\n",
        "      return gen_matched.pt[less_2000_maskg & greater_1500_maskg], rec_matched.pt[less_2000_maskr & greater_1500_maskr]\n",
        "\n",
        "\n",
        "gen_pt_40, rec_pt_40 = ptcut(gen_matched.pt, rec_matched.pt, 40)\n",
        "gen_pt_60, rec_pt_60 = ptcut(gen_matched.pt, rec_matched.pt, 60)\n",
        "gen_pt_80, rec_pt_80 = ptcut(gen_matched.pt, rec_matched.pt, 80)\n",
        "gen_pt_140, rec_pt_140 = ptcut(gen_matched.pt, rec_matched.pt, 140)\n",
        "gen_pt_200, rec_pt_200 = ptcut(gen_matched.pt, rec_matched.pt, 200)\n",
        "gen_pt_260, rec_pt_260 = ptcut(gen_matched.pt, rec_matched.pt, 260)\n",
        "gen_pt_320, rec_pt_320 = ptcut(gen_matched.pt, rec_matched.pt, 320)\n",
        "gen_pt_400, rec_pt_400 = ptcut(gen_matched.pt, rec_matched.pt, 400)\n",
        "gen_pt_1500, rec_pt_1500 = ptcut(gen_matched.pt, rec_matched.pt, 1500)\n",
        "#gen_pt_2000, rec_pt_2000 = ptcut(gen_matched.pt, rec_matched.pt, 2000)"
      ],
      "execution_count": 0,
      "outputs": []
    },
    {
      "cell_type": "code",
      "metadata": {
        "id": "OCnBJRpjBR1m",
        "colab_type": "code",
        "outputId": "221cef01-f268-4fcc-d44f-5cb06dc29756",
        "colab": {
          "base_uri": "https://localhost:8080/",
          "height": 548
        }
      },
      "source": [
        "gen_list = [gen_pt_40,gen_pt_60, gen_pt_80, gen_pt_140, gen_pt_140, gen_pt_200, gen_pt_260, gen_pt_320, gen_pt_400, gen_pt_1500]\n",
        "rec_list = [rec_pt_40, rec_pt_60, rec_pt_80, rec_pt_140, rec_pt_200, rec_pt_260, rec_pt_320, rec_pt_400, rec_pt_1500]\n",
        "import pandas as pd\n",
        "\n",
        "df_bins = {'rec_pt_40':rec_pt_40, 'rec_pt_60' : rec_pt_60, 'rec_pt_80':rec_pt_80, 'rec_pt_140' : rec_pt_140, 'rec_pt_200': rec_pt_200, 'rec_pt_260': rec_pt_260, 'rec_pt_320': rec_pt_320, 'rec_pt_400':rec_pt_400, 'rec_pt_1500':rec_pt_1500}\n",
        "rec_2_bins = pd.DataFrame(data=df_bins)\n",
        "rec_2_bins.head(100)"
      ],
      "execution_count": 0,
      "outputs": [
        {
          "output_type": "execute_result",
          "data": {
            "text/html": [
              "<div>\n",
              "<style scoped>\n",
              "    .dataframe tbody tr th:only-of-type {\n",
              "        vertical-align: middle;\n",
              "    }\n",
              "\n",
              "    .dataframe tbody tr th {\n",
              "        vertical-align: top;\n",
              "    }\n",
              "\n",
              "    .dataframe thead th {\n",
              "        text-align: right;\n",
              "    }\n",
              "</style>\n",
              "<table border=\"1\" class=\"dataframe\">\n",
              "  <thead>\n",
              "    <tr style=\"text-align: right;\">\n",
              "      <th></th>\n",
              "      <th>rec_pt_40</th>\n",
              "      <th>rec_pt_60</th>\n",
              "      <th>rec_pt_80</th>\n",
              "      <th>rec_pt_140</th>\n",
              "      <th>rec_pt_200</th>\n",
              "      <th>rec_pt_260</th>\n",
              "      <th>rec_pt_320</th>\n",
              "      <th>rec_pt_400</th>\n",
              "      <th>rec_pt_1500</th>\n",
              "    </tr>\n",
              "  </thead>\n",
              "  <tbody>\n",
              "    <tr>\n",
              "      <th>0</th>\n",
              "      <td>[53.632893]</td>\n",
              "      <td>[]</td>\n",
              "      <td>[112.41561]</td>\n",
              "      <td>[]</td>\n",
              "      <td>[]</td>\n",
              "      <td>[]</td>\n",
              "      <td>[]</td>\n",
              "      <td>[]</td>\n",
              "      <td>[]</td>\n",
              "    </tr>\n",
              "    <tr>\n",
              "      <th>1</th>\n",
              "      <td>[]</td>\n",
              "      <td>[]</td>\n",
              "      <td>[121.256424, 120.13538]</td>\n",
              "      <td>[]</td>\n",
              "      <td>[]</td>\n",
              "      <td>[]</td>\n",
              "      <td>[]</td>\n",
              "      <td>[]</td>\n",
              "      <td>[]</td>\n",
              "    </tr>\n",
              "    <tr>\n",
              "      <th>2</th>\n",
              "      <td>[]</td>\n",
              "      <td>[]</td>\n",
              "      <td>[]</td>\n",
              "      <td>[]</td>\n",
              "      <td>[253.25385, 233.20999]</td>\n",
              "      <td>[]</td>\n",
              "      <td>[]</td>\n",
              "      <td>[]</td>\n",
              "      <td>[]</td>\n",
              "    </tr>\n",
              "    <tr>\n",
              "      <th>3</th>\n",
              "      <td>[]</td>\n",
              "      <td>[]</td>\n",
              "      <td>[123.69235, 95.44822]</td>\n",
              "      <td>[]</td>\n",
              "      <td>[]</td>\n",
              "      <td>[]</td>\n",
              "      <td>[]</td>\n",
              "      <td>[]</td>\n",
              "      <td>[]</td>\n",
              "    </tr>\n",
              "    <tr>\n",
              "      <th>4</th>\n",
              "      <td>[]</td>\n",
              "      <td>[]</td>\n",
              "      <td>[119.81133, 99.59366]</td>\n",
              "      <td>[]</td>\n",
              "      <td>[]</td>\n",
              "      <td>[]</td>\n",
              "      <td>[]</td>\n",
              "      <td>[406.5426, 410.78568]</td>\n",
              "      <td>[]</td>\n",
              "    </tr>\n",
              "    <tr>\n",
              "      <th>...</th>\n",
              "      <td>...</td>\n",
              "      <td>...</td>\n",
              "      <td>...</td>\n",
              "      <td>...</td>\n",
              "      <td>...</td>\n",
              "      <td>...</td>\n",
              "      <td>...</td>\n",
              "      <td>...</td>\n",
              "      <td>...</td>\n",
              "    </tr>\n",
              "    <tr>\n",
              "      <th>95</th>\n",
              "      <td>[]</td>\n",
              "      <td>[74.929634]</td>\n",
              "      <td>[]</td>\n",
              "      <td>[140.2266]</td>\n",
              "      <td>[]</td>\n",
              "      <td>[]</td>\n",
              "      <td>[]</td>\n",
              "      <td>[]</td>\n",
              "      <td>[]</td>\n",
              "    </tr>\n",
              "    <tr>\n",
              "      <th>96</th>\n",
              "      <td>[]</td>\n",
              "      <td>[]</td>\n",
              "      <td>[]</td>\n",
              "      <td>[]</td>\n",
              "      <td>[250.44748, 235.71236]</td>\n",
              "      <td>[]</td>\n",
              "      <td>[]</td>\n",
              "      <td>[]</td>\n",
              "      <td>[]</td>\n",
              "    </tr>\n",
              "    <tr>\n",
              "      <th>97</th>\n",
              "      <td>[]</td>\n",
              "      <td>[62.055943]</td>\n",
              "      <td>[]</td>\n",
              "      <td>[]</td>\n",
              "      <td>[]</td>\n",
              "      <td>[304.3964, 296.63696]</td>\n",
              "      <td>[]</td>\n",
              "      <td>[]</td>\n",
              "      <td>[]</td>\n",
              "    </tr>\n",
              "    <tr>\n",
              "      <th>98</th>\n",
              "      <td>[]</td>\n",
              "      <td>[]</td>\n",
              "      <td>[138.72992]</td>\n",
              "      <td>[]</td>\n",
              "      <td>[]</td>\n",
              "      <td>[302.40894]</td>\n",
              "      <td>[350.1041]</td>\n",
              "      <td>[]</td>\n",
              "      <td>[]</td>\n",
              "    </tr>\n",
              "    <tr>\n",
              "      <th>99</th>\n",
              "      <td>[]</td>\n",
              "      <td>[75.62619]</td>\n",
              "      <td>[]</td>\n",
              "      <td>[165.83696]</td>\n",
              "      <td>[200.24866]</td>\n",
              "      <td>[]</td>\n",
              "      <td>[]</td>\n",
              "      <td>[]</td>\n",
              "      <td>[]</td>\n",
              "    </tr>\n",
              "  </tbody>\n",
              "</table>\n",
              "<p>100 rows × 9 columns</p>\n",
              "</div>"
            ],
            "text/plain": [
              "      rec_pt_40    rec_pt_60  ...             rec_pt_400 rec_pt_1500\n",
              "0   [53.632893]           []  ...                     []          []\n",
              "1            []           []  ...                     []          []\n",
              "2            []           []  ...                     []          []\n",
              "3            []           []  ...                     []          []\n",
              "4            []           []  ...  [406.5426, 410.78568]          []\n",
              "..          ...          ...  ...                    ...         ...\n",
              "95           []  [74.929634]  ...                     []          []\n",
              "96           []           []  ...                     []          []\n",
              "97           []  [62.055943]  ...                     []          []\n",
              "98           []           []  ...                     []          []\n",
              "99           []   [75.62619]  ...                     []          []\n",
              "\n",
              "[100 rows x 9 columns]"
            ]
          },
          "metadata": {
            "tags": []
          },
          "execution_count": 13
        }
      ]
    },
    {
      "cell_type": "code",
      "metadata": {
        "id": "GKxql2RdECOv",
        "colab_type": "code",
        "outputId": "dbdb1261-8b1d-4235-d179-5b0fbd47984f",
        "colab": {
          "base_uri": "https://localhost:8080/",
          "height": 34
        }
      },
      "source": [
        "def rec_order_flip(rec_bin_list):\n",
        "  rec_order = []\n",
        "\n",
        "  for event in range(len(rec_bin_list)):\n",
        "    event_order = list(np.argsort(- rec_bin_list[event]))\n",
        "    rec_order.append(event_order)\n",
        "    event +=1\n",
        "    return rec_order\n",
        "rec_140_def = rec_order_flip(rec_pt_140)\n",
        "rec_140_def"
      ],
      "execution_count": 0,
      "outputs": [
        {
          "output_type": "execute_result",
          "data": {
            "text/plain": [
              "[[]]"
            ]
          },
          "metadata": {
            "tags": []
          },
          "execution_count": 47
        }
      ]
    },
    {
      "cell_type": "code",
      "metadata": {
        "id": "FqOZxmgdHiJD",
        "colab_type": "code",
        "outputId": "f110392e-f720-4190-d022-649e0255697c",
        "colab": {
          "base_uri": "https://localhost:8080/",
          "height": 325
        }
      },
      "source": [
        "def flip_prob(rec_ordered_list):\n",
        "  flipl = []\n",
        "  for event in rec_ordered_list:\n",
        "    if event[0] != 0:\n",
        "      flipl.append(1)\n",
        "  event +=1\n",
        "  prob = len(flipl)/len(rec_ordered_list) * 100\n",
        "  return prob\n",
        "flip_prob(rec_140_def)"
      ],
      "execution_count": 0,
      "outputs": [
        {
          "output_type": "error",
          "ename": "TypeError",
          "evalue": "ignored",
          "traceback": [
            "\u001b[0;31m---------------------------------------------------------------------------\u001b[0m",
            "\u001b[0;31mTypeError\u001b[0m                                 Traceback (most recent call last)",
            "\u001b[0;32m<ipython-input-45-e0228cad91c4>\u001b[0m in \u001b[0;36m<module>\u001b[0;34m()\u001b[0m\n\u001b[1;32m      7\u001b[0m   \u001b[0mprob\u001b[0m \u001b[0;34m=\u001b[0m \u001b[0mlen\u001b[0m\u001b[0;34m(\u001b[0m\u001b[0mflipl\u001b[0m\u001b[0;34m)\u001b[0m\u001b[0;34m/\u001b[0m\u001b[0mlen\u001b[0m\u001b[0;34m(\u001b[0m\u001b[0mrec_ordered_list\u001b[0m\u001b[0;34m)\u001b[0m \u001b[0;34m*\u001b[0m \u001b[0;36m100\u001b[0m\u001b[0;34m\u001b[0m\u001b[0;34m\u001b[0m\u001b[0m\n\u001b[1;32m      8\u001b[0m   \u001b[0;32mreturn\u001b[0m \u001b[0mprob\u001b[0m\u001b[0;34m\u001b[0m\u001b[0;34m\u001b[0m\u001b[0m\n\u001b[0;32m----> 9\u001b[0;31m \u001b[0mflip_prob\u001b[0m\u001b[0;34m(\u001b[0m\u001b[0mrec_140_def\u001b[0m\u001b[0;34m)\u001b[0m\u001b[0;34m\u001b[0m\u001b[0;34m\u001b[0m\u001b[0m\n\u001b[0m",
            "\u001b[0;32m<ipython-input-45-e0228cad91c4>\u001b[0m in \u001b[0;36mflip_prob\u001b[0;34m(rec_ordered_list)\u001b[0m\n\u001b[1;32m      1\u001b[0m \u001b[0;32mdef\u001b[0m \u001b[0mflip_prob\u001b[0m\u001b[0;34m(\u001b[0m\u001b[0mrec_ordered_list\u001b[0m\u001b[0;34m)\u001b[0m\u001b[0;34m:\u001b[0m\u001b[0;34m\u001b[0m\u001b[0;34m\u001b[0m\u001b[0m\n\u001b[1;32m      2\u001b[0m   \u001b[0mflipl\u001b[0m \u001b[0;34m=\u001b[0m \u001b[0;34m[\u001b[0m\u001b[0;34m]\u001b[0m\u001b[0;34m\u001b[0m\u001b[0;34m\u001b[0m\u001b[0m\n\u001b[0;32m----> 3\u001b[0;31m   \u001b[0;32mfor\u001b[0m \u001b[0mevent\u001b[0m \u001b[0;32min\u001b[0m \u001b[0mrec_ordered_list\u001b[0m\u001b[0;34m:\u001b[0m\u001b[0;34m\u001b[0m\u001b[0;34m\u001b[0m\u001b[0m\n\u001b[0m\u001b[1;32m      4\u001b[0m     \u001b[0;32mif\u001b[0m \u001b[0mevent\u001b[0m\u001b[0;34m[\u001b[0m\u001b[0;36m0\u001b[0m\u001b[0;34m]\u001b[0m \u001b[0;34m!=\u001b[0m \u001b[0;36m0\u001b[0m\u001b[0;34m:\u001b[0m\u001b[0;34m\u001b[0m\u001b[0;34m\u001b[0m\u001b[0m\n\u001b[1;32m      5\u001b[0m       \u001b[0mflipl\u001b[0m\u001b[0;34m.\u001b[0m\u001b[0mappend\u001b[0m\u001b[0;34m(\u001b[0m\u001b[0;36m1\u001b[0m\u001b[0;34m)\u001b[0m\u001b[0;34m\u001b[0m\u001b[0;34m\u001b[0m\u001b[0m\n",
            "\u001b[0;31mTypeError\u001b[0m: 'NoneType' object is not iterable"
          ]
        }
      ]
    },
    {
      "cell_type": "code",
      "metadata": {
        "id": "HK8J4T2qHf_c",
        "colab_type": "code",
        "colab": {}
      },
      "source": [
        "# rec_pt_40 = rec_2_bins['rec_pt_40']\n",
        "# rec_pt_140 = rec_2_bins['rec_pt_140']\n",
        "rec_pt_40, rec_pt_60, rec_pt_80, rec_pt_140, rec_pt_200, rec_pt_260, rec_pt_320, rec_pt_400, rec_pt_1500 = rec_2_bins['rec_pt_40'], rec_2_bins['rec_pt_60'], rec_2_bins['rec_pt_80'], rec_2_bins['rec_pt_140'], rec_2_bins['rec_pt_200'], rec_2_bins['rec_pt_260'], rec_2_bins['rec_pt_320'], rec_2_bins['rec_pt_400'], rec_2_bins['rec_pt_1500'] "
      ],
      "execution_count": 0,
      "outputs": []
    },
    {
      "cell_type": "code",
      "metadata": {
        "id": "4fjYmYbUDzh5",
        "colab_type": "code",
        "colab": {}
      },
      "source": [
        "rec_order_40 = []\n",
        "for event in range(len(kk2)):\n",
        "  event_order = list(np.argsort(- kk2[event]))\n",
        "  rec_order_40.append(event_order)\n",
        "  event +=1\n",
        "rec_order_40"
      ],
      "execution_count": 0,
      "outputs": []
    },
    {
      "cell_type": "markdown",
      "metadata": {
        "id": "11-ADroiWH61",
        "colab_type": "text"
      },
      "source": [
        "## Do them for all the bins"
      ]
    },
    {
      "cell_type": "code",
      "metadata": {
        "id": "V8LQV6mDUFAN",
        "colab_type": "code",
        "colab": {}
      },
      "source": [
        "rec_order_40 = []\n",
        "for event in range(len(rec_pt_40)):\n",
        "  event_order_40 = list(np.argsort(- rec_pt_40[event]))\n",
        "  rec_order_40.append(event_order_40)\n",
        "  event +=1\n",
        "\n",
        "rec_order_60 = []\n",
        "for event in range(len(rec_pt_60)):\n",
        "  event_order_60 = list(np.argsort(- rec_pt_60[event]))\n",
        "  rec_order_60.append(event_order_60)\n",
        "  event +=1\n",
        "\n",
        "rec_order_80 = []\n",
        "for event in range(len(rec_pt_80)):\n",
        "  event_order_80 = list(np.argsort(- rec_pt_80[event]))\n",
        "  rec_order_80.append(event_order_80)\n",
        "  event +=1\n",
        "\n",
        "rec_order_140 = []\n",
        "for event in range(len(rec_pt_140)):\n",
        "  event_order_140 = list(np.argsort(- rec_pt_140[event]))\n",
        "  rec_order_140.append(event_order_140)\n",
        "  event +=1\n",
        "\n",
        "rec_order_200 = []\n",
        "for event in range(len(rec_pt_200)):\n",
        "  event_order_200 = list(np.argsort(- rec_pt_200[event]))\n",
        "  rec_order_200.append(event_order_200)\n",
        "  event +=1\n",
        "\n",
        "rec_order_260 = []\n",
        "for event in range(len(rec_pt_260)):\n",
        "  event_order_260 = list(np.argsort(- rec_pt_260[event]))\n",
        "  rec_order_260.append(event_order_260)\n",
        "  event +=1\n",
        "\n",
        "\n",
        "rec_order_320 = []\n",
        "for event in range(len(rec_pt_320)):\n",
        "  event_order_320 = list(np.argsort(- rec_pt_320[event]))\n",
        "  rec_order_320.append(event_order_320)\n",
        "  event +=1\n",
        "\n",
        "\n",
        "rec_order_400 = []\n",
        "for event in range(len(rec_pt_40)):\n",
        "  event_order_400 = list(np.argsort(- rec_pt_400[event]))\n",
        "  rec_order_400.append(event_order_400)\n",
        "  event +=1\n",
        "\n",
        "rec_order_1500 = []\n",
        "for event in range(len(rec_pt_1500)):\n",
        "  event_order_1500 = list(np.argsort(- rec_pt_1500[event]))\n",
        "  rec_order_1500.append(event_order_1500)\n",
        "  event +=1\n",
        "\n"
      ],
      "execution_count": 0,
      "outputs": []
    },
    {
      "cell_type": "code",
      "metadata": {
        "id": "nUZQWRm6JC9y",
        "colab_type": "code",
        "colab": {}
      },
      "source": [
        "rec_order_140 = []\n",
        "for event in range(len(kk3)):\n",
        "  event_order = list(np.argsort(- kk3[event]))\n",
        "  rec_order_140.append(event_order)\n",
        "  event +=1\n",
        "rec_order_140"
      ],
      "execution_count": 0,
      "outputs": []
    },
    {
      "cell_type": "code",
      "metadata": {
        "id": "4eB6lm2rTKXU",
        "colab_type": "code",
        "colab": {}
      },
      "source": [
        "rec_order_40 = [x for x in rec_order_40 if x != []] # a lot of the events will clearly be empty for that pt range, so we take nonempty lists\n",
        "rec_order_60 = [x for x in rec_order_60 if x != []]\n",
        "rec_order_80 = [x for x in rec_order_80 if x != []]\n",
        "rec_order_140 = [x for x in rec_order_140 if x != []]\n",
        "rec_order_200 = [x for x in rec_order_200 if x != []]\n",
        "rec_order_260 = [x for x in rec_order_260 if x != []]\n",
        "rec_order_320 = [x for x in rec_order_320 if x != []]\n",
        "rec_order_400 = [x for x in rec_order_400 if x != []]\n",
        "rec_order_1500 = [x for x in rec_order_1500 if x != []]"
      ],
      "execution_count": 0,
      "outputs": []
    },
    {
      "cell_type": "code",
      "metadata": {
        "id": "v7Vacu_7E1DP",
        "colab_type": "code",
        "colab": {}
      },
      "source": [
        "flipl_40 =[]\n",
        "for event in rec_order_40:\n",
        "  if event[0] != 0:\n",
        "    flipl_40.append(1)\n",
        "\n",
        "\n",
        "flipl_60 =[]\n",
        "for event in rec_order_60:\n",
        "  if event[0] != 0:\n",
        "    flipl_60.append(1)\n",
        "\n",
        "\n",
        "flipl_80 =[]\n",
        "for event in rec_order_80:\n",
        "  if event[0] != 0:\n",
        "    flipl_80.append(1)\n",
        "\n",
        "\n",
        "flipl_140 =[]\n",
        "for event in rec_order_140:\n",
        "  if event[0] != 0:\n",
        "    flipl_140.append(1)\n",
        "\n"
      ],
      "execution_count": 0,
      "outputs": []
    },
    {
      "cell_type": "code",
      "metadata": {
        "id": "C85x4f3AY-5V",
        "colab_type": "code",
        "colab": {}
      },
      "source": [
        "flipl_200 =[]\n",
        "for event in rec_order_200:\n",
        "  if event[0] != 0:\n",
        "    flipl_200.append(1)\n",
        "\n",
        "\n",
        "flipl_260 =[]\n",
        "for event in rec_order_260:\n",
        "  if event[0] != 0:\n",
        "    flipl_260.append(1)\n",
        "\n",
        "\n",
        "flipl_320 =[]\n",
        "for event in rec_order_320:\n",
        "  if event[0] != 0:\n",
        "    flipl_320.append(1)\n",
        "\n",
        "\n",
        "flipl_400 =[]\n",
        "for event in rec_order_400:\n",
        "  if event[0] != 0:\n",
        "    flipl_400.append(1)\n",
        "\n",
        "\n",
        "\n",
        "flipl_1500 =[]\n",
        "for event in rec_order_1500:\n",
        "  if event[0] != 0:\n",
        "    flipl_1500.append(1)\n",
        "\n",
        "\n",
        "\n"
      ],
      "execution_count": 0,
      "outputs": []
    },
    {
      "cell_type": "code",
      "metadata": {
        "id": "yoMkKhiCVmOF",
        "colab_type": "code",
        "colab": {}
      },
      "source": [
        "kk3_l = [] #just converting to list\n",
        "for event in range(len(rec_pt_140)):\n",
        "  listevent = list(kk3[event])\n",
        "  kk3_l.append(listevent)\n",
        "  event +=1\n",
        "kk3_l"
      ],
      "execution_count": 0,
      "outputs": []
    },
    {
      "cell_type": "code",
      "metadata": {
        "id": "8cJOcWRJUU9z",
        "colab_type": "code",
        "colab": {}
      },
      "source": [
        "kk3_l =  [x for x in kk3_l if x != []]\n",
        "kk3_l # this is length of nonempty events in this bin"
      ],
      "execution_count": 0,
      "outputs": []
    },
    {
      "cell_type": "markdown",
      "metadata": {
        "id": "pHtpB9gUBBQo",
        "colab_type": "text"
      },
      "source": [
        ""
      ]
    },
    {
      "cell_type": "code",
      "metadata": {
        "id": "eGldx9-qUG7F",
        "colab_type": "code",
        "outputId": "145c141e-0aa1-4270-c4f2-711cfdb966ed",
        "colab": {
          "base_uri": "https://localhost:8080/",
          "height": 34
        }
      },
      "source": [
        "len(flipl_140)/len(kk3_l) *100"
      ],
      "execution_count": 0,
      "outputs": [
        {
          "output_type": "execute_result",
          "data": {
            "text/plain": [
              "6.269046582498912"
            ]
          },
          "metadata": {
            "tags": []
          },
          "execution_count": 148
        }
      ]
    },
    {
      "cell_type": "code",
      "metadata": {
        "id": "9lLV1hGgZcyg",
        "colab_type": "code",
        "outputId": "f1dc8636-851f-45cb-9d93-52b960f5dc67",
        "colab": {
          "base_uri": "https://localhost:8080/",
          "height": 34
        }
      },
      "source": [
        "len(flipl_140)/len(rec_order_140) *100   #giving us the same result! so we can do this for all bins... 6.269046582498912 for tiny"
      ],
      "execution_count": 0,
      "outputs": [
        {
          "output_type": "execute_result",
          "data": {
            "text/plain": [
              "6.322914076268529"
            ]
          },
          "metadata": {
            "tags": []
          },
          "execution_count": 18
        }
      ]
    },
    {
      "cell_type": "code",
      "metadata": {
        "id": "R7A1zu3PZpRg",
        "colab_type": "code",
        "outputId": "a2251edc-bae4-4896-b3e1-613da369c890",
        "colab": {
          "base_uri": "https://localhost:8080/",
          "height": 54
        }
      },
      "source": [
        "print(\"flipping probabilites are: {} {} {} {} {} {} {} {} {}\".format(len(flipl_40)/len(rec_order_40) *100, len(flipl_60)/len(rec_order_60) *100, len(flipl_80)/len(rec_order_80) *100, len(flipl_140)/len(rec_order_140) *100, len(flipl_200)/len(rec_order_200) *100, len(flipl_260)/len(rec_order_260) *100, len(flipl_320)/len(rec_order_320) *100, len(flipl_400)/len(rec_order_400) *100, len(flipl_1500)/len(rec_order_1500) *100         ))"
      ],
      "execution_count": 0,
      "outputs": [
        {
          "output_type": "stream",
          "text": [
            "flipping probabilites are: 7.0985306556063295 6.2008060148167194 7.80440332940247 6.322914076268529 5.658557748599147 5.238605763542029 5.715319859422981 12.733574173377058 12.56076602013258\n"
          ],
          "name": "stdout"
        }
      ]
    },
    {
      "cell_type": "code",
      "metadata": {
        "id": "ftLcIp0ObUar",
        "colab_type": "code",
        "outputId": "3d6cb388-b2b0-40f3-fd44-8cd097481cb3",
        "colab": {
          "base_uri": "https://localhost:8080/",
          "height": 54
        }
      },
      "source": [
        "print(\"flipping probabilites errors are: {} {} {} {} {} {} {} {} {}\".format(np.sqrt(len(flipl_40))/len(rec_order_40) *100, np.sqrt(len(flipl_60))/len(rec_order_60) *100, np.sqrt(len(flipl_80))/len(rec_order_80) *100, np.sqrt(len(flipl_140))/len(rec_order_140) *100, np.sqrt(len(flipl_200))/len(rec_order_200) *100, np.sqrt(len(flipl_260))/len(rec_order_260) *100, np.sqrt(len(flipl_320))/len(rec_order_320) *100, np.sqrt(len(flipl_400))/len(rec_order_400) *100, np.sqrt(len(flipl_1500))/len(rec_order_1500) *100         ))"
      ],
      "execution_count": 0,
      "outputs": [
        {
          "output_type": "stream",
          "text": [
            "flipping probabilites errors are: 0.036246254063469686 0.03374141761642115 0.02989205690947357 0.03375498916690805 0.0384562358332758 0.043340169796492016 0.047163232720354324 0.050260889061571286 0.2483509671770546\n"
          ],
          "name": "stdout"
        }
      ]
    },
    {
      "cell_type": "code",
      "metadata": {
        "id": "L1pAXmEEFmin",
        "colab_type": "code",
        "outputId": "e0e0c6b2-79ee-4616-de95-a55fe042cec8",
        "colab": {
          "base_uri": "https://localhost:8080/",
          "height": 34
        }
      },
      "source": [
        "len(kk3_l), len(rec_order_140)"
      ],
      "execution_count": 0,
      "outputs": [
        {
          "output_type": "execute_result",
          "data": {
            "text/plain": [
              "(4594, 4594)"
            ]
          },
          "metadata": {
            "tags": []
          },
          "execution_count": 39
        }
      ]
    },
    {
      "cell_type": "code",
      "metadata": {
        "id": "v9b-bAp4gp3v",
        "colab_type": "code",
        "outputId": "1d5ca80e-af58-493a-e276-1dcc78df19e0",
        "colab": {
          "base_uri": "https://localhost:8080/",
          "height": 173
        }
      },
      "source": [
        ""
      ],
      "execution_count": 0,
      "outputs": [
        {
          "output_type": "execute_result",
          "data": {
            "text/plain": [
              "[7.247665629168519,\n",
              " 6.967657911873236,\n",
              " 7.7752012003819395,\n",
              " 6.269046582498912,\n",
              " 4.937888198757764,\n",
              " 4.676573426573427,\n",
              " 6.020696142991533,\n",
              " 12.843590367307225,\n",
              " 16.94915254237288]"
            ]
          },
          "metadata": {
            "tags": []
          },
          "execution_count": 152
        }
      ]
    },
    {
      "cell_type": "code",
      "metadata": {
        "id": "-Md3IFSIUQFo",
        "colab_type": "code",
        "outputId": "68e593eb-950b-4f75-a9ac-c74f647b1949",
        "colab": {
          "base_uri": "https://localhost:8080/",
          "height": 296
        }
      },
      "source": [
        "x = np.asarray([40,60,80,140,200,260, 320, 400, 1500])\n",
        "y = np.asarray([len(flipl_40)/len(rec_order_40) *100, len(flipl_60)/len(rec_order_60) *100, len(flipl_80)/len(rec_order_80) *100, len(flipl_140)/len(rec_order_140) *100, len(flipl_200)/len(rec_order_200) *100, len(flipl_260)/len(rec_order_260) *100, len(flipl_320)/len(rec_order_320) *100, len(flipl_400)/len(rec_order_400) *100, len(flipl_1500)/len(rec_order_1500) *100])\n",
        "\n",
        "err = np.asarray([np.sqrt(len(flipl_40))/len(rec_order_40) *100, np.sqrt(len(flipl_60))/len(rec_order_60) *100, np.sqrt(len(flipl_80))/len(rec_order_80) *100, np.sqrt(len(flipl_140))/len(rec_order_140) *100, np.sqrt(len(flipl_200))/len(rec_order_200) *100, np.sqrt(len(flipl_260))/len(rec_order_260) *100, np.sqrt(len(flipl_320))/len(rec_order_320) *100, np.sqrt(len(flipl_400))/len(rec_order_400) *100, np.sqrt(len(flipl_1500))/len(rec_order_1500) *100 ])\n",
        "\n",
        "plt.errorbar(x, y, err, fmt='.')\n",
        "plt.xlabel(\"pt bins\")\n",
        "plt.ylabel('flipping probabilies')"
      ],
      "execution_count": 0,
      "outputs": [
        {
          "output_type": "execute_result",
          "data": {
            "text/plain": [
              "Text(0, 0.5, 'flipping probabilies')"
            ]
          },
          "metadata": {
            "tags": []
          },
          "execution_count": 153
        },
        {
          "output_type": "display_data",
          "data": {
            "image/png": "[encoded data removed]",
            "text/plain": [
              "<Figure size 432x288 with 1 Axes>"
            ]
          },
          "metadata": {
            "tags": [],
            "needs_background": "light"
          }
        }
      ]
    },
    {
      "cell_type": "code",
      "metadata": {
        "id": "d5KQJE7ihgrX",
        "colab_type": "code",
        "outputId": "a9e5f0bd-718a-4dad-efa0-7102e89c2605",
        "colab": {
          "base_uri": "https://localhost:8080/",
          "height": 296
        }
      },
      "source": [
        "x = np.asarray([len(flipl_40),len(flipl_60),len(flipl_80),len(flipl_140),len(flipl_200),len(flipl_260), len(flipl_320), len(flipl_400), len(flipl_1500)])\n",
        "y = np.asarray([len(flipl_40)/len(rec_order_40) *100, len(flipl_60)/len(rec_order_60) *100, len(flipl_80)/len(rec_order_80) *100, len(flipl_140)/len(rec_order_140) *100, len(flipl_200)/len(rec_order_200) *100, len(flipl_260)/len(rec_order_260) *100, len(flipl_320)/len(rec_order_320) *100, len(flipl_400)/len(rec_order_400) *100, len(flipl_1500)/len(rec_order_1500) *100])\n",
        "\n",
        "err = np.asarray([np.sqrt(len(flipl_40))/len(rec_order_40) *100, np.sqrt(len(flipl_60))/len(rec_order_60) *100, np.sqrt(len(flipl_80))/len(rec_order_80) *100, np.sqrt(len(flipl_140))/len(rec_order_140) *100, np.sqrt(len(flipl_200))/len(rec_order_200) *100, np.sqrt(len(flipl_260))/len(rec_order_260) *100, np.sqrt(len(flipl_320))/len(rec_order_320) *100, np.sqrt(len(flipl_400))/len(rec_order_400) *100, np.sqrt(len(flipl_1500))/len(rec_order_1500) *100 ])\n",
        "\n",
        "plt.errorbar(x, y, err, fmt='.')\n",
        "plt.xlabel(\"number of flips (i.e successes, or k)\")\n",
        "plt.ylabel('flipping probabilies')"
      ],
      "execution_count": 0,
      "outputs": [
        {
          "output_type": "execute_result",
          "data": {
            "text/plain": [
              "Text(0, 0.5, 'flipping probabilies')"
            ]
          },
          "metadata": {
            "tags": []
          },
          "execution_count": 156
        },
        {
          "output_type": "display_data",
          "data": {
            "image/png": "[encoded data removed]",
            "text/plain": [
              "<Figure size 432x288 with 1 Axes>"
            ]
          },
          "metadata": {
            "tags": [],
            "needs_background": "light"
          }
        }
      ]
    },
    {
      "cell_type": "code",
      "metadata": {
        "id": "42BlQHzHjRUl",
        "colab_type": "code",
        "outputId": "1db86459-eebf-479e-e665-a3cdc8e79a20",
        "colab": {
          "base_uri": "https://localhost:8080/",
          "height": 489
        }
      },
      "source": [
        "from scipy.stats import binom\n",
        "n=len(rec_order_40)\n",
        "p =len(flipl_40)\n",
        "\n",
        "mean, var, skew, kurt = binom.stats(n, p, moments='mvsk')\n",
        "fig, ax = plt.subplots(1, 1)\n",
        "x = np.arange(binom.ppf(0.01, n, p), binom.ppf(0.99, n, p))\n",
        "ax.plot(x, binom.pmf(x, n, p), 'bo', ms=8, label='binom pmf')\n",
        "ax.vlines(x, 0, binom.pmf(x, n, p), colors='b', lw=5, alpha=0.5)"
      ],
      "execution_count": 0,
      "outputs": [
        {
          "output_type": "error",
          "ename": "ValueError",
          "evalue": "ignored",
          "traceback": [
            "\u001b[0;31m---------------------------------------------------------------------------\u001b[0m",
            "\u001b[0;31mValueError\u001b[0m                                Traceback (most recent call last)",
            "\u001b[0;32m<ipython-input-159-c9828a53a885>\u001b[0m in \u001b[0;36m<module>\u001b[0;34m()\u001b[0m\n\u001b[1;32m      5\u001b[0m \u001b[0mmean\u001b[0m\u001b[0;34m,\u001b[0m \u001b[0mvar\u001b[0m\u001b[0;34m,\u001b[0m \u001b[0mskew\u001b[0m\u001b[0;34m,\u001b[0m \u001b[0mkurt\u001b[0m \u001b[0;34m=\u001b[0m \u001b[0mbinom\u001b[0m\u001b[0;34m.\u001b[0m\u001b[0mstats\u001b[0m\u001b[0;34m(\u001b[0m\u001b[0mn\u001b[0m\u001b[0;34m,\u001b[0m \u001b[0mp\u001b[0m\u001b[0;34m,\u001b[0m \u001b[0mmoments\u001b[0m\u001b[0;34m=\u001b[0m\u001b[0;34m'mvsk'\u001b[0m\u001b[0;34m)\u001b[0m\u001b[0;34m\u001b[0m\u001b[0;34m\u001b[0m\u001b[0m\n\u001b[1;32m      6\u001b[0m \u001b[0mfig\u001b[0m\u001b[0;34m,\u001b[0m \u001b[0max\u001b[0m \u001b[0;34m=\u001b[0m \u001b[0mplt\u001b[0m\u001b[0;34m.\u001b[0m\u001b[0msubplots\u001b[0m\u001b[0;34m(\u001b[0m\u001b[0;36m1\u001b[0m\u001b[0;34m,\u001b[0m \u001b[0;36m1\u001b[0m\u001b[0;34m)\u001b[0m\u001b[0;34m\u001b[0m\u001b[0;34m\u001b[0m\u001b[0m\n\u001b[0;32m----> 7\u001b[0;31m \u001b[0mx\u001b[0m \u001b[0;34m=\u001b[0m \u001b[0mnp\u001b[0m\u001b[0;34m.\u001b[0m\u001b[0marange\u001b[0m\u001b[0;34m(\u001b[0m\u001b[0mbinom\u001b[0m\u001b[0;34m.\u001b[0m\u001b[0mppf\u001b[0m\u001b[0;34m(\u001b[0m\u001b[0;36m0.01\u001b[0m\u001b[0;34m,\u001b[0m \u001b[0mn\u001b[0m\u001b[0;34m,\u001b[0m \u001b[0mp\u001b[0m\u001b[0;34m)\u001b[0m\u001b[0;34m,\u001b[0m \u001b[0mbinom\u001b[0m\u001b[0;34m.\u001b[0m\u001b[0mppf\u001b[0m\u001b[0;34m(\u001b[0m\u001b[0;36m0.99\u001b[0m\u001b[0;34m,\u001b[0m \u001b[0mn\u001b[0m\u001b[0;34m,\u001b[0m \u001b[0mp\u001b[0m\u001b[0;34m)\u001b[0m\u001b[0;34m)\u001b[0m\u001b[0;34m\u001b[0m\u001b[0;34m\u001b[0m\u001b[0m\n\u001b[0m\u001b[1;32m      8\u001b[0m \u001b[0max\u001b[0m\u001b[0;34m.\u001b[0m\u001b[0mplot\u001b[0m\u001b[0;34m(\u001b[0m\u001b[0mx\u001b[0m\u001b[0;34m,\u001b[0m \u001b[0mbinom\u001b[0m\u001b[0;34m.\u001b[0m\u001b[0mpmf\u001b[0m\u001b[0;34m(\u001b[0m\u001b[0mx\u001b[0m\u001b[0;34m,\u001b[0m \u001b[0mn\u001b[0m\u001b[0;34m,\u001b[0m \u001b[0mp\u001b[0m\u001b[0;34m)\u001b[0m\u001b[0;34m,\u001b[0m \u001b[0;34m'bo'\u001b[0m\u001b[0;34m,\u001b[0m \u001b[0mms\u001b[0m\u001b[0;34m=\u001b[0m\u001b[0;36m8\u001b[0m\u001b[0;34m,\u001b[0m \u001b[0mlabel\u001b[0m\u001b[0;34m=\u001b[0m\u001b[0;34m'binom pmf'\u001b[0m\u001b[0;34m)\u001b[0m\u001b[0;34m\u001b[0m\u001b[0;34m\u001b[0m\u001b[0m\n\u001b[1;32m      9\u001b[0m \u001b[0max\u001b[0m\u001b[0;34m.\u001b[0m\u001b[0mvlines\u001b[0m\u001b[0;34m(\u001b[0m\u001b[0mx\u001b[0m\u001b[0;34m,\u001b[0m \u001b[0;36m0\u001b[0m\u001b[0;34m,\u001b[0m \u001b[0mbinom\u001b[0m\u001b[0;34m.\u001b[0m\u001b[0mpmf\u001b[0m\u001b[0;34m(\u001b[0m\u001b[0mx\u001b[0m\u001b[0;34m,\u001b[0m \u001b[0mn\u001b[0m\u001b[0;34m,\u001b[0m \u001b[0mp\u001b[0m\u001b[0;34m)\u001b[0m\u001b[0;34m,\u001b[0m \u001b[0mcolors\u001b[0m\u001b[0;34m=\u001b[0m\u001b[0;34m'b'\u001b[0m\u001b[0;34m,\u001b[0m \u001b[0mlw\u001b[0m\u001b[0;34m=\u001b[0m\u001b[0;36m5\u001b[0m\u001b[0;34m,\u001b[0m \u001b[0malpha\u001b[0m\u001b[0;34m=\u001b[0m\u001b[0;36m0.5\u001b[0m\u001b[0;34m)\u001b[0m\u001b[0;34m\u001b[0m\u001b[0;34m\u001b[0m\u001b[0m\n",
            "\u001b[0;31mValueError\u001b[0m: arange: cannot compute length"
          ]
        },
        {
          "output_type": "display_data",
          "data": {
            "image/png": "[encoded data removed]",
            "text/plain": [
              "<Figure size 432x288 with 1 Axes>"
            ]
          },
          "metadata": {
            "tags": [],
            "needs_background": "light"
          }
        }
      ]
    },
    {
      "cell_type": "code",
      "metadata": {
        "id": "PytNbtPwoxNS",
        "colab_type": "code",
        "colab": {}
      },
      "source": [
        ""
      ],
      "execution_count": 0,
      "outputs": []
    },
    {
      "cell_type": "code",
      "metadata": {
        "id": "rcL38nyAdQa2",
        "colab_type": "code",
        "outputId": "01ada2a7-3361-4db8-bca4-4246b9ef7f9a",
        "colab": {
          "base_uri": "https://localhost:8080/",
          "height": 191
        }
      },
      "source": [
        "\n",
        "import pandas as pd\n",
        "d1_2 = {'g_pt':gen_matched.pt,'g_eta':gen_matched.eta,'g_phi':gen_matched.phi, 'Target': np.zeros(len(gen_matched.pt))}\n",
        "gen_2 = pd.DataFrame(data=d1_2)\n",
        "d2_2 = {'r_pt':rec_matched.pt,'r_eta':rec_matched.eta,'r_phi':rec_matched.phi, 'Target': np.ones(len(rec_matched.pt))}\n",
        "rec_2 = pd.DataFrame(data=d2_2)\n",
        "rec_2.head()"
      ],
      "execution_count": 0,
      "outputs": [
        {
          "output_type": "execute_result",
          "data": {
            "text/html": [
              "<div>\n",
              "<style scoped>\n",
              "    .dataframe tbody tr th:only-of-type {\n",
              "        vertical-align: middle;\n",
              "    }\n",
              "\n",
              "    .dataframe tbody tr th {\n",
              "        vertical-align: top;\n",
              "    }\n",
              "\n",
              "    .dataframe thead th {\n",
              "        text-align: right;\n",
              "    }\n",
              "</style>\n",
              "<table border=\"1\" class=\"dataframe\">\n",
              "  <thead>\n",
              "    <tr style=\"text-align: right;\">\n",
              "      <th></th>\n",
              "      <th>r_pt</th>\n",
              "      <th>r_eta</th>\n",
              "      <th>r_phi</th>\n",
              "      <th>Target</th>\n",
              "    </tr>\n",
              "  </thead>\n",
              "  <tbody>\n",
              "    <tr>\n",
              "      <th>0</th>\n",
              "      <td>[112.41561, 53.632893]</td>\n",
              "      <td>[0.40757012, -1.4433419]</td>\n",
              "      <td>[0.51733214, -2.5153487]</td>\n",
              "      <td>1.0</td>\n",
              "    </tr>\n",
              "    <tr>\n",
              "      <th>1</th>\n",
              "      <td>[121.256424, 120.13538]</td>\n",
              "      <td>[1.5352086, -1.0668906]</td>\n",
              "      <td>[-1.3250614, 1.6008844]</td>\n",
              "      <td>1.0</td>\n",
              "    </tr>\n",
              "    <tr>\n",
              "      <th>2</th>\n",
              "      <td>[253.25385, 233.20999]</td>\n",
              "      <td>[-0.55411977, -0.63057166]</td>\n",
              "      <td>[1.426914, -1.6538477]</td>\n",
              "      <td>1.0</td>\n",
              "    </tr>\n",
              "    <tr>\n",
              "      <th>3</th>\n",
              "      <td>[123.69235, 95.44822]</td>\n",
              "      <td>[0.5667756, -0.54535687]</td>\n",
              "      <td>[1.6817439, -1.4599955]</td>\n",
              "      <td>1.0</td>\n",
              "    </tr>\n",
              "    <tr>\n",
              "      <th>4</th>\n",
              "      <td>[406.5426, 410.78568, 119.81133, 99.59366]</td>\n",
              "      <td>[1.5647848, 0.078979164, 0.7690975, 1.0881207]</td>\n",
              "      <td>[2.241232, -0.89358115, -0.6583826, 2.6040707]</td>\n",
              "      <td>1.0</td>\n",
              "    </tr>\n",
              "  </tbody>\n",
              "</table>\n",
              "</div>"
            ],
            "text/plain": [
              "                                         r_pt  ... Target\n",
              "0                      [112.41561, 53.632893]  ...    1.0\n",
              "1                     [121.256424, 120.13538]  ...    1.0\n",
              "2                      [253.25385, 233.20999]  ...    1.0\n",
              "3                       [123.69235, 95.44822]  ...    1.0\n",
              "4  [406.5426, 410.78568, 119.81133, 99.59366]  ...    1.0\n",
              "\n",
              "[5 rows x 4 columns]"
            ]
          },
          "metadata": {
            "tags": []
          },
          "execution_count": 19
        }
      ]
    },
    {
      "cell_type": "code",
      "metadata": {
        "id": "VqFYC7KFqjm9",
        "colab_type": "code",
        "colab": {}
      },
      "source": [
        "kk=d1_2[\"g_pt\"]\n",
        "rr = d2_2[\"r_pt\"]"
      ],
      "execution_count": 0,
      "outputs": []
    },
    {
      "cell_type": "code",
      "metadata": {
        "id": "brxhVyNLqW00",
        "colab_type": "code",
        "colab": {}
      },
      "source": [
        "gen_order=[]\n",
        "for event in range(len(kk)):\n",
        "  event_order = list(np.argsort(- kk[event]))\n",
        "  gen_order.append(event_order)\n",
        "  event +=1"
      ],
      "execution_count": 0,
      "outputs": []
    },
    {
      "cell_type": "code",
      "metadata": {
        "id": "wBrcWorbvdX-",
        "colab_type": "code",
        "colab": {}
      },
      "source": [
        "gen_order # a good summary is that np.argsort or argmax does not work on jagged arrays, however, it does work when looping on jagged \n",
        "#jagged arrays since esach event is a list"
      ],
      "execution_count": 0,
      "outputs": []
    },
    {
      "cell_type": "code",
      "metadata": {
        "id": "JyfPQ3HCdo-q",
        "colab_type": "code",
        "colab": {}
      },
      "source": [
        "rec_order=[]\n",
        "for event in range(len(rr)):\n",
        "  event_order_r = list(np.argsort(- rr[event]))\n",
        "  rec_order.append(event_order_r)\n",
        "  event +=1"
      ],
      "execution_count": 0,
      "outputs": []
    },
    {
      "cell_type": "code",
      "metadata": {
        "id": "OLXGf2g1eURY",
        "colab_type": "code",
        "colab": {}
      },
      "source": [
        "rec_order"
      ],
      "execution_count": 0,
      "outputs": []
    },
    {
      "cell_type": "markdown",
      "metadata": {
        "id": "B-Z1d3Xg3ifU",
        "colab_type": "text"
      },
      "source": [
        "## probability in event-by-event basis"
      ]
    },
    {
      "cell_type": "code",
      "metadata": {
        "id": "mfPZ-Ek_eWib",
        "colab_type": "code",
        "colab": {}
      },
      "source": [
        "# for each event, if the first jet is not the jet with the highest pt, append 1 to the list of \"flipping events\"\n",
        "flipl=[]\n",
        "for event in rec_order:\n",
        "  if event[0] != 0:\n",
        "    flipl.append(1)\n"
      ],
      "execution_count": 0,
      "outputs": []
    },
    {
      "cell_type": "code",
      "metadata": {
        "id": "UGnMrXPQ5CeD",
        "colab_type": "code",
        "outputId": "64b9572e-130c-4066-902a-74d40555516b",
        "colab": {
          "base_uri": "https://localhost:8080/",
          "height": 53
        }
      },
      "source": [
        "len(rec_order), len(flipl), \n",
        "print(\"the flipping probability of the highest pt jet in rec jets (i.e. the number of times that the highest pt jet is not in the first slot is: \", len(flipl)/len(rec_order))"
      ],
      "execution_count": 0,
      "outputs": [
        {
          "output_type": "stream",
          "text": [
            "the flipping probability of the highest pt jet in rec jets (i.e. the number of times that the highest pt jet is not in the first slot is:  0.1537874074476832\n"
          ],
          "name": "stdout"
        }
      ]
    },
    {
      "cell_type": "code",
      "metadata": {
        "id": "FkcxbJp07y_H",
        "colab_type": "code",
        "outputId": "0b891c49-21a4-4abd-801b-f8ef4c814d1e",
        "colab": {
          "base_uri": "https://localhost:8080/",
          "height": 34
        }
      },
      "source": [
        "rr.tolist()[4]"
      ],
      "execution_count": 0,
      "outputs": [
        {
          "output_type": "execute_result",
          "data": {
            "text/plain": [
              "[406.5426025390625, 410.7856750488281, 119.81133270263672, 99.59365844726562]"
            ]
          },
          "metadata": {
            "tags": []
          },
          "execution_count": 149
        }
      ]
    },
    {
      "cell_type": "code",
      "metadata": {
        "id": "-dQ_drdw8YOQ",
        "colab_type": "code",
        "outputId": "5cbf5b2b-5416-4ac4-859b-770c1c13fa1c",
        "colab": {
          "base_uri": "https://localhost:8080/",
          "height": 34
        }
      },
      "source": [
        "gen_order_jagged[4]"
      ],
      "execution_count": 0,
      "outputs": [
        {
          "output_type": "execute_result",
          "data": {
            "text/plain": [
              "array([0, 1, 2, 3])"
            ]
          },
          "metadata": {
            "tags": []
          },
          "execution_count": 152
        }
      ]
    },
    {
      "cell_type": "code",
      "metadata": {
        "id": "XNWcrMI767JP",
        "colab_type": "code",
        "outputId": "92360ef0-2353-4d58-c89e-d6dbbed7db1c",
        "colab": {
          "base_uri": "https://localhost:8080/",
          "height": 34
        }
      },
      "source": [
        "gen_order_jagged=ak.fromiter(gen_order)\n",
        "rr[gen_order_jagged][4]"
      ],
      "execution_count": 0,
      "outputs": [
        {
          "output_type": "execute_result",
          "data": {
            "text/plain": [
              "array([406.5426 , 410.78568, 119.81133,  99.59366], dtype=float32)"
            ]
          },
          "metadata": {
            "tags": []
          },
          "execution_count": 150
        }
      ]
    },
    {
      "cell_type": "code",
      "metadata": {
        "id": "Igb4ME9N7spK",
        "colab_type": "code",
        "outputId": "8533f838-b2ee-4957-e0ed-2749426ac6ff",
        "colab": {
          "base_uri": "https://localhost:8080/",
          "height": 1000
        }
      },
      "source": [
        "\n",
        "gen_order"
      ],
      "execution_count": 0,
      "outputs": [
        {
          "output_type": "execute_result",
          "data": {
            "text/plain": [
              "[array([0, 1]),\n",
              " array([0, 1]),\n",
              " array([0, 1]),\n",
              " array([0, 1]),\n",
              " array([0, 1, 2, 3]),\n",
              " array([0, 1]),\n",
              " array([0, 1]),\n",
              " array([0, 1]),\n",
              " array([0, 1, 2, 3]),\n",
              " array([0, 1, 2, 3, 4, 5]),\n",
              " array([0, 1, 2, 3]),\n",
              " array([0, 1]),\n",
              " array([0, 1]),\n",
              " array([0, 1]),\n",
              " array([0, 1, 2]),\n",
              " array([0, 1, 2, 3]),\n",
              " array([0, 1, 2, 3, 4, 5, 6, 7]),\n",
              " array([0, 1, 2, 3]),\n",
              " array([0, 1, 2, 3]),\n",
              " array([0, 1]),\n",
              " array([0]),\n",
              " array([0, 1, 2]),\n",
              " array([0, 1, 2, 3, 4, 5]),\n",
              " array([0, 1, 2]),\n",
              " array([0, 1, 2, 3, 4, 5]),\n",
              " array([0, 1]),\n",
              " array([0, 1]),\n",
              " array([0, 1, 2]),\n",
              " array([0, 1, 2, 3, 4, 5]),\n",
              " array([0, 1, 2, 3]),\n",
              " array([0, 1, 2]),\n",
              " array([0, 1]),\n",
              " array([0, 1]),\n",
              " array([0]),\n",
              " array([0, 1, 2]),\n",
              " array([0, 1]),\n",
              " array([0, 1, 2]),\n",
              " array([0, 1]),\n",
              " array([0, 1, 2, 3, 4]),\n",
              " array([0, 1, 2, 3]),\n",
              " array([0, 1, 2]),\n",
              " array([0, 1]),\n",
              " array([0, 1]),\n",
              " array([0, 1]),\n",
              " array([0, 1]),\n",
              " array([0, 1]),\n",
              " array([0, 1, 2]),\n",
              " array([0, 1, 2]),\n",
              " array([0, 1]),\n",
              " array([0, 1, 2]),\n",
              " array([0, 1]),\n",
              " array([0, 1]),\n",
              " array([0, 1, 2]),\n",
              " array([0, 1, 2]),\n",
              " array([0, 1, 2]),\n",
              " array([0, 1, 2, 3, 4, 5]),\n",
              " array([0, 1, 2]),\n",
              " array([0, 1]),\n",
              " array([0, 1, 2]),\n",
              " array([0, 1]),\n",
              " array([0, 1, 2]),\n",
              " array([0, 1]),\n",
              " array([0, 1]),\n",
              " array([0, 1]),\n",
              " array([0, 1, 2]),\n",
              " array([0, 1]),\n",
              " array([0, 1]),\n",
              " array([0, 1, 2, 3, 4, 5]),\n",
              " array([0, 1, 2]),\n",
              " array([0, 1]),\n",
              " array([0, 1]),\n",
              " array([0, 1]),\n",
              " array([0, 1, 2]),\n",
              " array([0, 1]),\n",
              " array([0, 1]),\n",
              " array([0, 1]),\n",
              " array([0, 1, 2]),\n",
              " array([0, 1, 2]),\n",
              " array([0, 1, 2]),\n",
              " array([0, 1]),\n",
              " array([0, 1, 2]),\n",
              " array([0, 1, 2]),\n",
              " array([0, 1]),\n",
              " array([0]),\n",
              " array([0, 1]),\n",
              " array([0]),\n",
              " array([0, 1, 2, 3]),\n",
              " array([0]),\n",
              " array([0, 1]),\n",
              " array([0]),\n",
              " array([0, 1, 2]),\n",
              " array([0, 1]),\n",
              " array([0, 1]),\n",
              " array([0, 1]),\n",
              " array([0, 1, 2]),\n",
              " array([0, 1]),\n",
              " array([0, 1, 2]),\n",
              " array([0, 1]),\n",
              " array([0, 1, 2, 3]),\n",
              " array([0, 1, 2]),\n",
              " array([0, 1]),\n",
              " array([0, 1]),\n",
              " array([0, 1]),\n",
              " array([0, 1, 2]),\n",
              " array([0]),\n",
              " array([0, 1, 2]),\n",
              " array([0]),\n",
              " array([0, 1, 2]),\n",
              " array([0]),\n",
              " array([0, 1, 2, 3]),\n",
              " array([0, 1]),\n",
              " array([0, 1]),\n",
              " array([0, 1]),\n",
              " array([0, 1, 2]),\n",
              " array([0, 1]),\n",
              " array([0, 1, 2]),\n",
              " array([0, 1, 2, 3, 4]),\n",
              " array([0, 1]),\n",
              " array([0, 1]),\n",
              " array([0, 1, 2]),\n",
              " array([0, 1, 2, 3]),\n",
              " array([0, 1, 2]),\n",
              " array([0, 1]),\n",
              " array([0, 1, 2]),\n",
              " array([0, 1, 2, 3, 4]),\n",
              " array([0]),\n",
              " array([0, 1]),\n",
              " array([0, 1]),\n",
              " array([0, 1, 2]),\n",
              " array([0, 1, 2, 3]),\n",
              " array([0, 1, 2, 3]),\n",
              " array([0, 1]),\n",
              " array([0, 1, 2, 3, 4, 5]),\n",
              " array([0, 1, 2]),\n",
              " array([0, 1, 2]),\n",
              " array([0, 1, 2, 3, 4]),\n",
              " array([0, 1]),\n",
              " array([0, 1, 2]),\n",
              " array([0, 1]),\n",
              " array([0, 1]),\n",
              " array([0, 1, 2]),\n",
              " array([0, 1, 2]),\n",
              " array([0, 1]),\n",
              " array([0, 1, 2, 3]),\n",
              " array([0, 1, 2, 3, 4]),\n",
              " array([0]),\n",
              " array([0, 1, 2]),\n",
              " array([0]),\n",
              " array([0, 1, 2]),\n",
              " array([0, 1]),\n",
              " array([0, 1]),\n",
              " array([0]),\n",
              " array([0]),\n",
              " array([0, 1]),\n",
              " array([0, 1]),\n",
              " array([0, 1]),\n",
              " array([0]),\n",
              " array([0, 1, 2]),\n",
              " array([0, 1]),\n",
              " array([0, 1, 2]),\n",
              " array([0, 1]),\n",
              " array([0, 1]),\n",
              " array([0, 1, 2]),\n",
              " array([0]),\n",
              " array([0, 1, 2]),\n",
              " array([0, 1]),\n",
              " array([0, 1, 2, 3]),\n",
              " array([0, 1, 2]),\n",
              " array([0, 1, 2]),\n",
              " array([0, 1, 2, 3]),\n",
              " array([0, 1, 2]),\n",
              " array([0, 1]),\n",
              " array([0]),\n",
              " array([0]),\n",
              " array([0, 1, 2]),\n",
              " array([0, 1, 2, 3, 4, 5]),\n",
              " array([0, 1]),\n",
              " array([0, 1]),\n",
              " array([0, 1, 2]),\n",
              " array([0, 1, 2]),\n",
              " array([0, 1]),\n",
              " array([0, 1]),\n",
              " array([0, 1]),\n",
              " array([0, 1, 2]),\n",
              " array([0, 1]),\n",
              " array([0, 1]),\n",
              " array([0, 1, 2, 3]),\n",
              " array([0, 1]),\n",
              " array([0, 1]),\n",
              " array([0, 1, 2, 3]),\n",
              " array([0, 1]),\n",
              " array([0, 1, 2]),\n",
              " array([0, 1, 2]),\n",
              " array([0, 1, 2, 3]),\n",
              " array([0]),\n",
              " array([0, 1]),\n",
              " array([0, 1, 2]),\n",
              " array([0, 1]),\n",
              " array([0, 1]),\n",
              " array([0, 1, 2, 3, 4]),\n",
              " array([0, 1]),\n",
              " array([0, 1, 2]),\n",
              " array([0, 1, 2]),\n",
              " array([0]),\n",
              " array([0, 1, 2, 3, 4, 5, 6, 7, 8]),\n",
              " array([0, 1]),\n",
              " array([0, 1]),\n",
              " array([0, 1, 2, 3]),\n",
              " array([0, 1, 2, 3, 4, 5, 6]),\n",
              " array([0, 1]),\n",
              " array([0, 1]),\n",
              " array([0, 1, 2]),\n",
              " array([0, 1, 2]),\n",
              " array([0, 1]),\n",
              " array([0, 1, 2]),\n",
              " array([0, 1, 2, 3, 4]),\n",
              " array([0, 1]),\n",
              " array([0, 1, 2]),\n",
              " array([0]),\n",
              " array([0, 1, 2]),\n",
              " array([0, 1]),\n",
              " array([0, 1, 2]),\n",
              " array([0, 1, 2]),\n",
              " array([0, 1]),\n",
              " array([0, 1]),\n",
              " array([0, 1]),\n",
              " array([0]),\n",
              " array([0, 1, 2, 3]),\n",
              " array([0, 1, 2]),\n",
              " array([0, 1]),\n",
              " array([0, 1, 2]),\n",
              " array([0, 1, 2, 3]),\n",
              " array([0, 1, 2, 3]),\n",
              " array([0, 1, 2]),\n",
              " array([0, 1, 2]),\n",
              " array([0]),\n",
              " array([0, 1]),\n",
              " array([0, 1]),\n",
              " array([0, 1, 2]),\n",
              " array([0, 1]),\n",
              " array([0, 1]),\n",
              " array([0, 1, 2]),\n",
              " array([0, 1, 2, 3, 4]),\n",
              " array([0, 1, 2]),\n",
              " array([0]),\n",
              " array([0, 1, 2]),\n",
              " array([0, 1, 2]),\n",
              " array([0, 1]),\n",
              " array([0, 1]),\n",
              " array([0, 1]),\n",
              " array([0, 1, 2, 3, 4]),\n",
              " array([0]),\n",
              " array([0, 1]),\n",
              " array([0, 1, 2]),\n",
              " array([0, 1, 2]),\n",
              " array([0, 1, 2, 3]),\n",
              " array([0, 1]),\n",
              " array([0, 1, 2, 3]),\n",
              " array([0, 1, 2, 3, 4]),\n",
              " array([0, 1, 2, 3, 4]),\n",
              " array([0, 1, 2, 3]),\n",
              " array([0, 1, 2, 3]),\n",
              " array([0, 1, 2]),\n",
              " array([0, 1, 2]),\n",
              " array([0]),\n",
              " array([0, 1]),\n",
              " array([0, 1]),\n",
              " array([0]),\n",
              " array([0, 1, 2, 3, 4, 5]),\n",
              " array([0, 1]),\n",
              " array([0, 1, 2, 3, 4]),\n",
              " array([0, 1]),\n",
              " array([0, 1]),\n",
              " array([0, 1, 2]),\n",
              " array([0, 1, 2, 3, 4]),\n",
              " array([0, 1]),\n",
              " array([0, 1, 2, 3]),\n",
              " array([0, 1, 2]),\n",
              " array([0, 1, 2]),\n",
              " array([0, 1]),\n",
              " array([0, 1, 2]),\n",
              " array([0, 1]),\n",
              " array([0, 1, 2]),\n",
              " array([0, 1, 2, 3]),\n",
              " array([0, 1, 2, 3]),\n",
              " array([0, 1, 2]),\n",
              " array([0, 1]),\n",
              " array([0, 1, 2, 3]),\n",
              " array([0, 1, 2, 3, 4]),\n",
              " array([0, 1, 2]),\n",
              " array([0, 1, 2]),\n",
              " array([0, 1, 2]),\n",
              " array([0, 1]),\n",
              " array([0, 1]),\n",
              " array([0, 1]),\n",
              " array([0]),\n",
              " array([0, 1]),\n",
              " array([0, 1]),\n",
              " array([0, 1, 2]),\n",
              " array([0, 1, 2, 3]),\n",
              " array([0, 1]),\n",
              " array([0, 1]),\n",
              " array([0, 1, 2]),\n",
              " array([0, 1, 2]),\n",
              " array([0, 1]),\n",
              " array([0, 1, 2, 3, 4]),\n",
              " array([0, 1, 2, 3, 4]),\n",
              " array([0, 1, 2]),\n",
              " array([0, 1, 2]),\n",
              " array([0, 1, 2]),\n",
              " array([0, 1]),\n",
              " array([0, 1]),\n",
              " array([0, 1, 2, 3]),\n",
              " array([0, 1]),\n",
              " array([0, 1, 2, 3, 4]),\n",
              " array([0, 1]),\n",
              " array([0]),\n",
              " array([0, 1]),\n",
              " array([0, 1, 2, 3, 4, 5]),\n",
              " array([0, 1, 2]),\n",
              " array([0, 1, 2]),\n",
              " array([0, 1, 2]),\n",
              " array([0]),\n",
              " array([0, 1, 2]),\n",
              " array([0, 1]),\n",
              " array([0, 1, 2]),\n",
              " array([0]),\n",
              " array([0, 1, 2]),\n",
              " array([0]),\n",
              " array([0, 1, 2]),\n",
              " array([0, 1, 2, 3, 4]),\n",
              " array([0, 1, 2, 3, 4, 5]),\n",
              " array([0, 1, 2]),\n",
              " array([0, 1]),\n",
              " array([0, 1, 2, 3]),\n",
              " array([0]),\n",
              " array([0]),\n",
              " array([0, 1, 2]),\n",
              " array([0, 1]),\n",
              " array([0, 1, 2, 3]),\n",
              " array([0, 1, 2, 3]),\n",
              " array([0, 1, 2, 3, 4]),\n",
              " array([0, 1, 2]),\n",
              " array([0, 1]),\n",
              " array([0, 1, 2, 3]),\n",
              " array([0, 1]),\n",
              " array([0, 1]),\n",
              " array([0, 1, 2]),\n",
              " array([0, 1]),\n",
              " array([0, 1]),\n",
              " array([0, 1]),\n",
              " array([0, 1, 2, 3]),\n",
              " array([0, 1, 2]),\n",
              " array([0, 1]),\n",
              " array([0, 1]),\n",
              " array([0, 1]),\n",
              " array([0, 1]),\n",
              " array([0, 1]),\n",
              " array([0]),\n",
              " array([0, 1, 2]),\n",
              " array([0, 1]),\n",
              " array([0, 1]),\n",
              " array([0, 1, 2, 3, 4]),\n",
              " array([0, 1]),\n",
              " array([0, 1, 2]),\n",
              " array([0]),\n",
              " array([0, 1]),\n",
              " array([0, 1, 2]),\n",
              " array([0, 1]),\n",
              " array([0, 1, 2, 3]),\n",
              " array([0]),\n",
              " array([0, 1]),\n",
              " array([0, 1]),\n",
              " array([0, 1]),\n",
              " array([0]),\n",
              " array([0]),\n",
              " array([0]),\n",
              " array([0, 1]),\n",
              " array([0, 1]),\n",
              " array([0, 1]),\n",
              " array([0, 1]),\n",
              " array([0, 1, 2]),\n",
              " array([0, 1]),\n",
              " array([0, 1, 2, 3]),\n",
              " array([0, 1]),\n",
              " array([0, 1]),\n",
              " array([0, 1]),\n",
              " array([0, 1, 2, 3]),\n",
              " array([0, 1]),\n",
              " array([0, 1, 2, 3]),\n",
              " array([0]),\n",
              " array([0, 1]),\n",
              " array([0, 1, 2]),\n",
              " array([0, 1]),\n",
              " array([0, 1, 2]),\n",
              " array([0, 1]),\n",
              " array([0, 1, 2, 3, 4, 5]),\n",
              " array([0, 1]),\n",
              " array([0, 1, 2]),\n",
              " array([0, 1, 2, 3]),\n",
              " array([0, 1, 2]),\n",
              " array([0]),\n",
              " array([0]),\n",
              " array([0, 1, 2, 3, 4]),\n",
              " array([0, 1]),\n",
              " array([0, 1, 2]),\n",
              " array([0, 1]),\n",
              " array([0, 1]),\n",
              " array([0, 1]),\n",
              " array([0, 1]),\n",
              " array([0]),\n",
              " array([0, 1]),\n",
              " array([0, 1]),\n",
              " array([0, 1, 2]),\n",
              " array([0, 1, 2]),\n",
              " array([0, 1]),\n",
              " array([0, 1, 2, 3]),\n",
              " array([0, 1, 2]),\n",
              " array([0, 1]),\n",
              " array([0, 1, 2, 3, 4, 5]),\n",
              " array([0, 1]),\n",
              " array([0, 1]),\n",
              " array([0, 1]),\n",
              " array([0, 1]),\n",
              " array([0, 1]),\n",
              " array([0, 1]),\n",
              " array([0, 1, 2]),\n",
              " array([0, 1, 2]),\n",
              " array([0, 1, 2]),\n",
              " array([0, 1, 2, 3]),\n",
              " array([0, 1, 2, 3]),\n",
              " array([0, 1, 2]),\n",
              " array([0]),\n",
              " array([0, 1, 2]),\n",
              " array([0, 1]),\n",
              " array([0, 1, 2, 3, 4]),\n",
              " array([0, 1, 2]),\n",
              " array([0, 1, 2, 3, 4]),\n",
              " array([0, 1]),\n",
              " array([0, 1]),\n",
              " array([0, 1, 2, 3]),\n",
              " array([0, 1, 2]),\n",
              " array([0, 1]),\n",
              " array([0]),\n",
              " array([0, 1, 2, 3]),\n",
              " array([0, 1, 2]),\n",
              " array([0, 1, 2, 3]),\n",
              " array([0, 1, 2]),\n",
              " array([0, 1]),\n",
              " array([0, 1, 2, 3]),\n",
              " array([0, 1, 2]),\n",
              " array([0, 1]),\n",
              " array([0, 1]),\n",
              " array([0]),\n",
              " array([0]),\n",
              " array([0, 1]),\n",
              " array([0]),\n",
              " array([0, 1, 2]),\n",
              " array([0, 1, 2]),\n",
              " array([0, 1, 2]),\n",
              " array([0, 1]),\n",
              " array([0, 1]),\n",
              " array([0, 1]),\n",
              " array([0, 1, 2]),\n",
              " array([0, 1, 2, 3, 4]),\n",
              " array([0, 1]),\n",
              " array([0, 1]),\n",
              " array([0]),\n",
              " array([0, 1, 2, 3]),\n",
              " array([0, 1, 2]),\n",
              " array([0, 1, 2, 3]),\n",
              " array([0, 1, 2]),\n",
              " array([0, 1, 2, 3]),\n",
              " array([0, 1, 2, 3, 4]),\n",
              " array([0, 1]),\n",
              " array([0, 1, 2, 3, 4, 5]),\n",
              " array([0, 1, 2, 3, 4]),\n",
              " array([0, 1]),\n",
              " array([0, 1, 2]),\n",
              " array([0, 1]),\n",
              " array([0, 1, 2, 3]),\n",
              " array([0, 1, 2]),\n",
              " array([0, 1, 2]),\n",
              " array([0, 1, 2]),\n",
              " array([0, 1, 2]),\n",
              " array([0, 1]),\n",
              " array([0, 1, 2]),\n",
              " array([0, 1]),\n",
              " array([0, 1, 2, 3]),\n",
              " array([0, 1]),\n",
              " array([0, 1]),\n",
              " array([0, 1, 2]),\n",
              " array([0, 1, 2]),\n",
              " array([0, 1]),\n",
              " array([0, 1]),\n",
              " array([0]),\n",
              " array([0, 1]),\n",
              " array([0, 1, 2]),\n",
              " array([0, 1]),\n",
              " array([0, 1, 2]),\n",
              " array([0, 1]),\n",
              " array([0, 1, 2]),\n",
              " array([0, 1, 2]),\n",
              " array([0, 1]),\n",
              " array([0, 1, 2, 3]),\n",
              " array([0, 1]),\n",
              " array([0, 1, 2]),\n",
              " array([0, 1, 2]),\n",
              " array([0, 1]),\n",
              " array([0, 1, 2]),\n",
              " array([0, 1, 2]),\n",
              " array([0, 1]),\n",
              " array([0, 1, 2]),\n",
              " array([0, 1, 2, 3]),\n",
              " array([0, 1]),\n",
              " array([0, 1, 2, 3]),\n",
              " array([0, 1, 2, 3, 4, 5]),\n",
              " array([0, 1, 2]),\n",
              " array([0]),\n",
              " array([0, 1]),\n",
              " array([0, 1, 2]),\n",
              " array([0, 1, 2]),\n",
              " array([0, 1]),\n",
              " array([0, 1]),\n",
              " array([0, 1, 2]),\n",
              " array([0, 1]),\n",
              " array([0]),\n",
              " array([0, 1, 2, 3, 4]),\n",
              " array([0, 1, 2]),\n",
              " array([0, 1]),\n",
              " array([0, 1, 2, 3]),\n",
              " array([0, 1, 2]),\n",
              " array([0, 1, 2]),\n",
              " array([0, 1, 2]),\n",
              " array([0, 1, 2]),\n",
              " array([0, 1, 2]),\n",
              " array([0, 1, 2, 3]),\n",
              " array([0, 1]),\n",
              " array([0, 1, 2, 3]),\n",
              " array([0, 1]),\n",
              " array([0]),\n",
              " array([0, 1]),\n",
              " array([0, 1, 2, 3]),\n",
              " array([0, 1]),\n",
              " array([0]),\n",
              " array([0, 1, 2]),\n",
              " array([0]),\n",
              " array([0, 1, 2]),\n",
              " array([0, 1, 2]),\n",
              " array([0, 1]),\n",
              " array([0, 1]),\n",
              " array([0, 1]),\n",
              " array([0, 1, 2]),\n",
              " array([0, 1, 2]),\n",
              " array([0, 1]),\n",
              " array([0, 1, 2, 3]),\n",
              " array([0, 1, 2]),\n",
              " array([0, 1, 2]),\n",
              " array([0]),\n",
              " array([0, 1]),\n",
              " array([0, 1, 2]),\n",
              " array([0, 1, 2]),\n",
              " array([0]),\n",
              " array([0, 1, 2]),\n",
              " array([0, 1]),\n",
              " array([0, 1]),\n",
              " array([0]),\n",
              " array([0, 1, 2]),\n",
              " array([0, 1, 2, 3]),\n",
              " array([0, 1]),\n",
              " array([0, 1, 2, 3, 4]),\n",
              " array([0, 1, 2]),\n",
              " array([0, 1]),\n",
              " array([0, 1]),\n",
              " array([0, 1, 2, 3, 4, 5]),\n",
              " array([0, 1]),\n",
              " array([0, 1]),\n",
              " array([0, 1, 2]),\n",
              " array([0, 1, 2]),\n",
              " array([0, 1]),\n",
              " array([0]),\n",
              " array([0, 1, 2]),\n",
              " array([0, 1, 2, 3]),\n",
              " array([0, 1]),\n",
              " array([0, 1, 2, 3]),\n",
              " array([0, 1, 2, 3]),\n",
              " array([0, 1, 2]),\n",
              " array([0, 1]),\n",
              " array([0, 1]),\n",
              " array([0, 1, 2, 3]),\n",
              " array([0, 1, 2, 3]),\n",
              " array([0, 1]),\n",
              " array([0, 1, 2]),\n",
              " array([0, 1]),\n",
              " array([0, 1]),\n",
              " array([0]),\n",
              " array([0]),\n",
              " array([0, 1, 2]),\n",
              " array([0]),\n",
              " array([0, 1]),\n",
              " array([0, 1]),\n",
              " array([0, 1, 2, 3, 4]),\n",
              " array([0, 1, 2, 3]),\n",
              " array([0, 1, 2, 3]),\n",
              " array([0, 1, 2, 3]),\n",
              " array([0, 1, 2, 3]),\n",
              " array([0, 1, 2]),\n",
              " array([0, 1]),\n",
              " array([0, 1, 2, 3]),\n",
              " array([0]),\n",
              " array([0, 1, 2]),\n",
              " array([0, 1]),\n",
              " array([0]),\n",
              " array([0]),\n",
              " array([0, 1, 2, 3]),\n",
              " array([0, 1]),\n",
              " array([0, 1, 2, 3, 4]),\n",
              " array([0, 1]),\n",
              " array([0, 1]),\n",
              " array([0, 1]),\n",
              " array([0, 1, 2, 3]),\n",
              " array([0, 1, 2, 3]),\n",
              " array([0, 1]),\n",
              " array([0, 1]),\n",
              " array([0, 1, 2, 3]),\n",
              " array([0, 1, 2, 3]),\n",
              " array([0, 1]),\n",
              " array([0, 1]),\n",
              " array([0, 1, 2]),\n",
              " array([0]),\n",
              " array([0, 1]),\n",
              " array([0, 1]),\n",
              " array([0, 1, 2]),\n",
              " array([0, 1, 2]),\n",
              " array([0, 1, 2, 3]),\n",
              " array([0, 1]),\n",
              " array([0, 1]),\n",
              " array([0, 1]),\n",
              " array([0, 1]),\n",
              " array([0, 1, 2, 3, 4]),\n",
              " array([0, 1, 2]),\n",
              " array([0, 1, 2, 3]),\n",
              " array([0, 1, 2]),\n",
              " array([0, 1, 2]),\n",
              " array([0, 1]),\n",
              " array([0, 1]),\n",
              " array([0, 1]),\n",
              " array([0, 1]),\n",
              " array([0, 1]),\n",
              " array([0, 1]),\n",
              " array([0, 1]),\n",
              " array([0, 1]),\n",
              " array([0, 1]),\n",
              " array([0]),\n",
              " array([0, 1]),\n",
              " array([0, 1]),\n",
              " array([0, 1]),\n",
              " array([0, 1, 2]),\n",
              " array([0, 1]),\n",
              " array([0, 1, 2, 3, 4]),\n",
              " array([0, 1]),\n",
              " array([0, 1]),\n",
              " array([0, 1]),\n",
              " array([0, 1]),\n",
              " array([0, 1]),\n",
              " array([0, 1, 2]),\n",
              " array([0, 1, 2, 3]),\n",
              " array([0, 1, 2]),\n",
              " array([0, 1, 2, 3, 4]),\n",
              " array([0]),\n",
              " array([0, 1]),\n",
              " array([0, 1]),\n",
              " array([0, 1]),\n",
              " array([0]),\n",
              " array([0, 1]),\n",
              " array([0, 1]),\n",
              " array([0, 1]),\n",
              " array([0, 1]),\n",
              " array([0, 1, 2]),\n",
              " array([0, 1, 2, 3]),\n",
              " array([0, 1]),\n",
              " array([0, 1, 2]),\n",
              " array([0, 1, 2]),\n",
              " array([0, 1]),\n",
              " array([0, 1]),\n",
              " array([0, 1, 2]),\n",
              " array([0, 1, 2]),\n",
              " array([0, 1, 2]),\n",
              " array([0, 1, 2, 3]),\n",
              " array([0, 1, 2, 3, 4]),\n",
              " array([0, 1, 2, 3, 4]),\n",
              " array([0, 1]),\n",
              " array([0, 1]),\n",
              " array([0, 1, 2, 3]),\n",
              " array([0, 1, 2]),\n",
              " array([0, 1, 2]),\n",
              " array([0, 1, 2]),\n",
              " array([0, 1, 2, 3, 4]),\n",
              " array([0]),\n",
              " array([0, 1, 2]),\n",
              " array([0, 1]),\n",
              " array([0, 1]),\n",
              " array([0, 1, 2, 3]),\n",
              " array([0, 1, 2, 3, 4]),\n",
              " array([0]),\n",
              " array([0, 1, 2]),\n",
              " array([0]),\n",
              " array([0, 1, 2]),\n",
              " array([0, 1]),\n",
              " array([0, 1]),\n",
              " array([0, 1, 2]),\n",
              " array([0, 1, 2, 3]),\n",
              " array([0, 1]),\n",
              " array([0, 1, 2, 3]),\n",
              " array([0]),\n",
              " array([0, 1]),\n",
              " array([0, 1, 2, 3, 4, 5]),\n",
              " array([0, 1]),\n",
              " array([0, 1]),\n",
              " array([0, 1]),\n",
              " array([0, 1]),\n",
              " array([0, 1]),\n",
              " array([0, 1]),\n",
              " array([0]),\n",
              " array([0, 1, 2]),\n",
              " array([0, 1, 2]),\n",
              " array([0, 1, 2, 3]),\n",
              " array([0, 1]),\n",
              " array([0]),\n",
              " array([0, 1, 2, 3, 4]),\n",
              " array([0]),\n",
              " array([0, 1]),\n",
              " array([0, 1, 2, 3]),\n",
              " array([0, 1]),\n",
              " array([0, 1, 2, 3]),\n",
              " array([0, 1, 2]),\n",
              " array([0, 1]),\n",
              " array([0, 1]),\n",
              " array([0]),\n",
              " array([0, 1, 2]),\n",
              " array([0, 1, 2]),\n",
              " array([0, 1, 2, 3, 4]),\n",
              " array([0, 1, 2]),\n",
              " array([0, 1, 2, 3]),\n",
              " array([0, 1, 2, 3]),\n",
              " array([0, 1, 2]),\n",
              " array([0]),\n",
              " array([0, 1, 2]),\n",
              " array([0, 1, 2]),\n",
              " array([0]),\n",
              " array([0]),\n",
              " array([0, 1, 2, 3, 4]),\n",
              " array([0, 1, 2, 3]),\n",
              " array([0, 1]),\n",
              " array([0]),\n",
              " array([0]),\n",
              " array([0, 1, 2, 3, 4, 5]),\n",
              " array([0, 1, 2]),\n",
              " array([0, 1]),\n",
              " array([0]),\n",
              " array([0]),\n",
              " array([0, 1]),\n",
              " array([0, 1, 2, 3]),\n",
              " array([0, 1, 2]),\n",
              " array([0, 1]),\n",
              " array([0, 1, 2]),\n",
              " array([0, 1]),\n",
              " array([0, 1, 2]),\n",
              " array([0, 1, 2]),\n",
              " array([0, 1]),\n",
              " array([0, 1]),\n",
              " array([0, 1, 2, 3, 4, 5]),\n",
              " array([0, 1]),\n",
              " array([0, 1]),\n",
              " array([0]),\n",
              " array([0, 1, 2, 3]),\n",
              " array([0, 1]),\n",
              " array([0, 1]),\n",
              " array([0, 1, 2, 3]),\n",
              " array([0, 1, 2]),\n",
              " array([0, 1]),\n",
              " array([0, 1, 2, 3, 4]),\n",
              " array([0]),\n",
              " array([0, 1]),\n",
              " array([0, 1, 2, 3]),\n",
              " array([0, 1]),\n",
              " array([0, 1]),\n",
              " array([0, 1]),\n",
              " array([0, 1, 2, 3, 4, 5]),\n",
              " array([0, 1, 2, 3]),\n",
              " array([0]),\n",
              " array([0]),\n",
              " array([0, 1, 2, 3, 4]),\n",
              " array([0, 1]),\n",
              " array([0, 1]),\n",
              " array([0]),\n",
              " array([0, 1, 2]),\n",
              " array([0, 1, 2, 3, 4]),\n",
              " array([0, 1, 2, 3]),\n",
              " array([0]),\n",
              " array([0]),\n",
              " array([0, 1, 2, 3]),\n",
              " array([0, 1]),\n",
              " array([0, 1]),\n",
              " array([0, 1, 2, 3]),\n",
              " array([0]),\n",
              " array([0, 1, 2]),\n",
              " array([0]),\n",
              " array([0, 1, 2]),\n",
              " array([0, 1]),\n",
              " array([0, 1, 2, 3, 4]),\n",
              " array([0, 1]),\n",
              " array([0, 1, 2]),\n",
              " array([0, 1]),\n",
              " array([0, 1]),\n",
              " array([0, 1]),\n",
              " array([0, 1]),\n",
              " array([0, 1, 2, 3]),\n",
              " array([0, 1, 2]),\n",
              " array([0, 1, 2]),\n",
              " array([0]),\n",
              " array([0, 1, 2]),\n",
              " array([0, 1, 2, 3]),\n",
              " array([0, 1, 2, 3]),\n",
              " array([0, 1, 2, 3, 4]),\n",
              " array([0]),\n",
              " array([0, 1, 2]),\n",
              " array([0, 1, 2]),\n",
              " array([0, 1]),\n",
              " array([0, 1]),\n",
              " array([0, 1, 2, 3, 4]),\n",
              " array([0, 1, 2]),\n",
              " array([0, 1, 2]),\n",
              " array([0, 1]),\n",
              " array([0, 1, 2, 3, 4, 5]),\n",
              " array([0, 1, 2, 3]),\n",
              " array([0]),\n",
              " array([0, 1]),\n",
              " array([0, 1, 2]),\n",
              " array([0, 1]),\n",
              " array([0, 1, 2, 3, 4]),\n",
              " array([0, 1, 2, 3]),\n",
              " array([0, 1, 2]),\n",
              " array([0, 1, 2, 3]),\n",
              " array([0, 1]),\n",
              " array([0, 1, 2]),\n",
              " array([0, 1]),\n",
              " array([0, 1]),\n",
              " array([0, 1, 2]),\n",
              " array([0, 1]),\n",
              " array([0, 1]),\n",
              " array([0]),\n",
              " array([0, 1]),\n",
              " array([0, 1, 2]),\n",
              " array([0, 1]),\n",
              " array([0, 1]),\n",
              " array([0, 1]),\n",
              " array([0, 1]),\n",
              " array([0, 1]),\n",
              " array([0, 1]),\n",
              " array([0, 1]),\n",
              " array([0, 1, 2]),\n",
              " array([0, 1, 2]),\n",
              " array([0, 1, 2]),\n",
              " array([0, 1, 2]),\n",
              " array([0]),\n",
              " array([0, 1]),\n",
              " array([0, 1, 2]),\n",
              " array([0]),\n",
              " array([0]),\n",
              " array([0, 1]),\n",
              " array([0, 1]),\n",
              " array([0, 1, 2]),\n",
              " array([0, 1, 2, 3]),\n",
              " array([0]),\n",
              " array([0, 1, 2]),\n",
              " array([0, 1, 2, 3]),\n",
              " array([0, 1]),\n",
              " array([0]),\n",
              " array([0, 1]),\n",
              " array([0, 1]),\n",
              " array([0, 1, 2, 3, 4, 5, 6, 7]),\n",
              " array([0, 1, 2, 3, 4, 5]),\n",
              " array([0, 1]),\n",
              " array([0, 1, 2]),\n",
              " array([0, 1]),\n",
              " array([0, 1]),\n",
              " array([0]),\n",
              " array([0, 1]),\n",
              " array([0]),\n",
              " array([0, 1]),\n",
              " array([0, 1, 2]),\n",
              " array([0, 1, 2]),\n",
              " array([0, 1, 2]),\n",
              " array([0, 1, 2]),\n",
              " array([0, 1, 2]),\n",
              " array([0, 1, 2]),\n",
              " array([0]),\n",
              " array([0, 1, 2, 3]),\n",
              " array([0, 1]),\n",
              " array([0]),\n",
              " array([0, 1, 2]),\n",
              " array([0, 1]),\n",
              " array([0, 1, 2]),\n",
              " array([0, 1, 2, 3, 4]),\n",
              " array([0, 1, 2, 3]),\n",
              " array([0, 1, 2, 3]),\n",
              " array([0]),\n",
              " array([0, 1, 2, 3]),\n",
              " array([0]),\n",
              " array([0]),\n",
              " array([0, 1]),\n",
              " array([0, 1, 2]),\n",
              " array([0, 1, 2, 3, 4]),\n",
              " array([0, 1, 2, 3, 4]),\n",
              " array([0]),\n",
              " array([0, 1, 2, 3, 4]),\n",
              " array([0, 1, 2]),\n",
              " array([0, 1]),\n",
              " array([0]),\n",
              " array([0, 1, 2]),\n",
              " array([0, 1]),\n",
              " array([0, 1]),\n",
              " array([0, 1, 2]),\n",
              " array([0, 1]),\n",
              " array([0, 1, 2]),\n",
              " array([0, 1, 2, 3, 4, 5]),\n",
              " array([0, 1, 2]),\n",
              " array([0, 1, 2]),\n",
              " array([0, 1, 2]),\n",
              " array([0, 1, 2, 3, 4, 5]),\n",
              " array([0, 1]),\n",
              " array([0]),\n",
              " array([0, 1]),\n",
              " array([0]),\n",
              " array([0, 1]),\n",
              " array([0, 1]),\n",
              " array([0, 1, 2, 3, 4, 5, 6]),\n",
              " array([0, 1]),\n",
              " array([0, 1]),\n",
              " array([0]),\n",
              " array([0, 1, 2]),\n",
              " array([0, 1]),\n",
              " array([0, 1]),\n",
              " array([0, 1, 2, 3]),\n",
              " array([0, 1]),\n",
              " array([0]),\n",
              " array([0, 1, 2]),\n",
              " array([0, 1, 2, 3]),\n",
              " array([0, 1]),\n",
              " array([0, 1, 2]),\n",
              " array([0, 1, 2]),\n",
              " array([0, 1]),\n",
              " array([0]),\n",
              " array([0, 1, 2, 3, 4]),\n",
              " array([0, 1, 2]),\n",
              " array([0, 1, 2]),\n",
              " array([0, 1]),\n",
              " array([0, 1]),\n",
              " array([0, 1]),\n",
              " array([0, 1, 2, 3]),\n",
              " array([0, 1]),\n",
              " array([0, 1]),\n",
              " array([0, 1]),\n",
              " array([0, 1, 2, 3]),\n",
              " array([0, 1, 2, 3, 4]),\n",
              " array([0, 1, 2, 3]),\n",
              " array([0, 1]),\n",
              " array([0, 1]),\n",
              " array([0, 1, 2, 3]),\n",
              " array([0, 1]),\n",
              " array([0, 1]),\n",
              " array([0, 1, 2, 3, 4]),\n",
              " array([0]),\n",
              " array([0, 1]),\n",
              " array([0, 1]),\n",
              " array([0, 1, 2]),\n",
              " array([0, 1]),\n",
              " array([0, 1]),\n",
              " array([0, 1, 2]),\n",
              " array([0, 1, 2, 3]),\n",
              " array([0, 1, 2]),\n",
              " array([0, 1]),\n",
              " array([0, 1]),\n",
              " array([0, 1, 2]),\n",
              " array([0, 1, 2]),\n",
              " array([0, 1, 2]),\n",
              " array([0, 1]),\n",
              " array([0]),\n",
              " array([0, 1, 2, 3]),\n",
              " array([0, 1, 2, 3]),\n",
              " array([0, 1, 2, 3, 4, 5]),\n",
              " array([0, 1]),\n",
              " array([0, 1, 2, 3, 4, 5]),\n",
              " array([0, 1, 2, 3]),\n",
              " array([0, 1, 2]),\n",
              " array([0, 1, 2]),\n",
              " array([0, 1, 2]),\n",
              " array([0, 1, 2, 3, 4, 5]),\n",
              " array([0, 1]),\n",
              " ...]"
            ]
          },
          "metadata": {
            "tags": []
          },
          "execution_count": 155
        }
      ]
    },
    {
      "cell_type": "code",
      "metadata": {
        "id": "1R9Xg-YydT12",
        "colab_type": "code",
        "outputId": "d4faccfe-2133-4cba-aa46-73a916888ca4",
        "colab": {
          "base_uri": "https://localhost:8080/",
          "height": 231
        }
      },
      "source": [
        "kl_2.columns = [\"pt\", \"eta\", \"phi\", \"Target\"]\n",
        "#kl_t[21834306:21834310] #here is where gen changes to rec\n",
        "#kl_2_final = kl_2.sample(frac=1).reset_index(drop=True)\n",
        "kl_2_final = kl_2\n",
        "kl_2"
      ],
      "execution_count": 0,
      "outputs": [
        {
          "output_type": "error",
          "ename": "NameError",
          "evalue": "ignored",
          "traceback": [
            "\u001b[0;31m---------------------------------------------------------------------------\u001b[0m",
            "\u001b[0;31mNameError\u001b[0m                                 Traceback (most recent call last)",
            "\u001b[0;32m<ipython-input-28-584357cb520f>\u001b[0m in \u001b[0;36m<module>\u001b[0;34m()\u001b[0m\n\u001b[0;32m----> 1\u001b[0;31m \u001b[0mkl_2\u001b[0m\u001b[0;34m.\u001b[0m\u001b[0mcolumns\u001b[0m \u001b[0;34m=\u001b[0m \u001b[0;34m[\u001b[0m\u001b[0;34m\"pt\"\u001b[0m\u001b[0;34m,\u001b[0m \u001b[0;34m\"eta\"\u001b[0m\u001b[0;34m,\u001b[0m \u001b[0;34m\"phi\"\u001b[0m\u001b[0;34m,\u001b[0m \u001b[0;34m\"Target\"\u001b[0m\u001b[0;34m]\u001b[0m\u001b[0;34m\u001b[0m\u001b[0;34m\u001b[0m\u001b[0m\n\u001b[0m\u001b[1;32m      2\u001b[0m \u001b[0;31m#kl_t[21834306:21834310] #here is where gen changes to rec\u001b[0m\u001b[0;34m\u001b[0m\u001b[0;34m\u001b[0m\u001b[0;34m\u001b[0m\u001b[0m\n\u001b[1;32m      3\u001b[0m \u001b[0;31m#kl_2_final = kl_2.sample(frac=1).reset_index(drop=True)\u001b[0m\u001b[0;34m\u001b[0m\u001b[0;34m\u001b[0m\u001b[0;34m\u001b[0m\u001b[0m\n\u001b[1;32m      4\u001b[0m \u001b[0mkl_2_final\u001b[0m \u001b[0;34m=\u001b[0m \u001b[0mkl_2\u001b[0m\u001b[0;34m\u001b[0m\u001b[0;34m\u001b[0m\u001b[0m\n\u001b[1;32m      5\u001b[0m \u001b[0mkl_2\u001b[0m\u001b[0;34m\u001b[0m\u001b[0;34m\u001b[0m\u001b[0m\n",
            "\u001b[0;31mNameError\u001b[0m: name 'kl_2' is not defined"
          ]
        }
      ]
    },
    {
      "cell_type": "code",
      "metadata": {
        "id": "W19IX0nYSN3L",
        "colab_type": "code",
        "outputId": "d1f2f69f-b9b3-4446-f1db-2f47fa825248",
        "colab": {
          "base_uri": "https://localhost:8080/",
          "height": 102
        }
      },
      "source": [
        "import awkward as ak\n",
        "a = ak.fromiter(kl_2)\n",
        "df = ak.topandas(a, flatten=False)\n",
        "df"
      ],
      "execution_count": 0,
      "outputs": [
        {
          "output_type": "execute_result",
          "data": {
            "text/plain": [
              "0        pt\n",
              "1       eta\n",
              "2       phi\n",
              "3    Target\n",
              "dtype: awkward"
            ]
          },
          "metadata": {
            "tags": []
          },
          "execution_count": 53
        }
      ]
    },
    {
      "cell_type": "code",
      "metadata": {
        "id": "NS2EdyNaRAyu",
        "colab_type": "code",
        "outputId": "6cf6c1cd-fbe0-415b-e9f7-bee4782792e6",
        "colab": {
          "base_uri": "https://localhost:8080/",
          "height": 316
        }
      },
      "source": [
        "from scipy.stats import zscore\n",
        "scaler  = StandardScaler()\n",
        "#scaler.fit(kl_2[\"pt\"])\n",
        "ptmean = np.mean(kl_2[\"pt\"].flatten())"
      ],
      "execution_count": 0,
      "outputs": [
        {
          "output_type": "error",
          "ename": "AttributeError",
          "evalue": "ignored",
          "traceback": [
            "\u001b[0;31m---------------------------------------------------------------------------\u001b[0m",
            "\u001b[0;31mAttributeError\u001b[0m                            Traceback (most recent call last)",
            "\u001b[0;32m<ipython-input-42-44e158d9a6ba>\u001b[0m in \u001b[0;36m<module>\u001b[0;34m()\u001b[0m\n\u001b[1;32m      2\u001b[0m \u001b[0mscaler\u001b[0m  \u001b[0;34m=\u001b[0m \u001b[0mStandardScaler\u001b[0m\u001b[0;34m(\u001b[0m\u001b[0;34m)\u001b[0m\u001b[0;34m\u001b[0m\u001b[0;34m\u001b[0m\u001b[0m\n\u001b[1;32m      3\u001b[0m \u001b[0;31m#scaler.fit(kl_2[\"pt\"])\u001b[0m\u001b[0;34m\u001b[0m\u001b[0;34m\u001b[0m\u001b[0;34m\u001b[0m\u001b[0m\n\u001b[0;32m----> 4\u001b[0;31m \u001b[0mptmean\u001b[0m \u001b[0;34m=\u001b[0m \u001b[0mnp\u001b[0m\u001b[0;34m.\u001b[0m\u001b[0mmean\u001b[0m\u001b[0;34m(\u001b[0m\u001b[0mkl_2\u001b[0m\u001b[0;34m[\u001b[0m\u001b[0;34m\"pt\"\u001b[0m\u001b[0;34m]\u001b[0m\u001b[0;34m.\u001b[0m\u001b[0mflatten\u001b[0m\u001b[0;34m(\u001b[0m\u001b[0;34m)\u001b[0m\u001b[0;34m)\u001b[0m\u001b[0;34m\u001b[0m\u001b[0;34m\u001b[0m\u001b[0m\n\u001b[0m",
            "\u001b[0;32m/usr/local/lib/python3.6/dist-packages/pandas/core/generic.py\u001b[0m in \u001b[0;36m__getattr__\u001b[0;34m(self, name)\u001b[0m\n\u001b[1;32m   5177\u001b[0m             \u001b[0;32mif\u001b[0m \u001b[0mself\u001b[0m\u001b[0;34m.\u001b[0m\u001b[0m_info_axis\u001b[0m\u001b[0;34m.\u001b[0m\u001b[0m_can_hold_identifiers_and_holds_name\u001b[0m\u001b[0;34m(\u001b[0m\u001b[0mname\u001b[0m\u001b[0;34m)\u001b[0m\u001b[0;34m:\u001b[0m\u001b[0;34m\u001b[0m\u001b[0;34m\u001b[0m\u001b[0m\n\u001b[1;32m   5178\u001b[0m                 \u001b[0;32mreturn\u001b[0m \u001b[0mself\u001b[0m\u001b[0;34m[\u001b[0m\u001b[0mname\u001b[0m\u001b[0;34m]\u001b[0m\u001b[0;34m\u001b[0m\u001b[0;34m\u001b[0m\u001b[0m\n\u001b[0;32m-> 5179\u001b[0;31m             \u001b[0;32mreturn\u001b[0m \u001b[0mobject\u001b[0m\u001b[0;34m.\u001b[0m\u001b[0m__getattribute__\u001b[0m\u001b[0;34m(\u001b[0m\u001b[0mself\u001b[0m\u001b[0;34m,\u001b[0m \u001b[0mname\u001b[0m\u001b[0;34m)\u001b[0m\u001b[0;34m\u001b[0m\u001b[0;34m\u001b[0m\u001b[0m\n\u001b[0m\u001b[1;32m   5180\u001b[0m \u001b[0;34m\u001b[0m\u001b[0m\n\u001b[1;32m   5181\u001b[0m     \u001b[0;32mdef\u001b[0m \u001b[0m__setattr__\u001b[0m\u001b[0;34m(\u001b[0m\u001b[0mself\u001b[0m\u001b[0;34m,\u001b[0m \u001b[0mname\u001b[0m\u001b[0;34m,\u001b[0m \u001b[0mvalue\u001b[0m\u001b[0;34m)\u001b[0m\u001b[0;34m:\u001b[0m\u001b[0;34m\u001b[0m\u001b[0;34m\u001b[0m\u001b[0m\n",
            "\u001b[0;31mAttributeError\u001b[0m: 'Series' object has no attribute 'flatten'"
          ]
        }
      ]
    },
    {
      "cell_type": "code",
      "metadata": {
        "id": "L-ps0q_ySMGY",
        "colab_type": "code",
        "outputId": "c4689ede-c7a5-42dc-c7c7-0e4987d2cee1",
        "colab": {
          "base_uri": "https://localhost:8080/",
          "height": 340
        }
      },
      "source": [
        "from sklearn.preprocessing import StandardScaler\n",
        "scaler = StandardScaler()\n",
        "scaler.fit_transform(np.array(kl_2_final),object)"
      ],
      "execution_count": 0,
      "outputs": [
        {
          "output_type": "error",
          "ename": "ValueError",
          "evalue": "ignored",
          "traceback": [
            "\u001b[0;31m---------------------------------------------------------------------------\u001b[0m",
            "\u001b[0;31mValueError\u001b[0m                                Traceback (most recent call last)",
            "\u001b[0;32m<ipython-input-33-21680df2585f>\u001b[0m in \u001b[0;36m<module>\u001b[0;34m()\u001b[0m\n\u001b[1;32m      1\u001b[0m \u001b[0;32mfrom\u001b[0m \u001b[0msklearn\u001b[0m\u001b[0;34m.\u001b[0m\u001b[0mpreprocessing\u001b[0m \u001b[0;32mimport\u001b[0m \u001b[0mStandardScaler\u001b[0m\u001b[0;34m\u001b[0m\u001b[0;34m\u001b[0m\u001b[0m\n\u001b[1;32m      2\u001b[0m \u001b[0mscaler\u001b[0m \u001b[0;34m=\u001b[0m \u001b[0mStandardScaler\u001b[0m\u001b[0;34m(\u001b[0m\u001b[0;34m)\u001b[0m\u001b[0;34m\u001b[0m\u001b[0;34m\u001b[0m\u001b[0m\n\u001b[0;32m----> 3\u001b[0;31m \u001b[0mscaler\u001b[0m\u001b[0;34m.\u001b[0m\u001b[0mfit_transform\u001b[0m\u001b[0;34m(\u001b[0m\u001b[0mnp\u001b[0m\u001b[0;34m.\u001b[0m\u001b[0marray\u001b[0m\u001b[0;34m(\u001b[0m\u001b[0mkl_2_final\u001b[0m\u001b[0;34m)\u001b[0m\u001b[0;34m,\u001b[0m\u001b[0mobject\u001b[0m\u001b[0;34m)\u001b[0m\u001b[0;34m\u001b[0m\u001b[0;34m\u001b[0m\u001b[0m\n\u001b[0m",
            "\u001b[0;32m/usr/local/lib/python3.6/dist-packages/sklearn/base.py\u001b[0m in \u001b[0;36mfit_transform\u001b[0;34m(self, X, y, **fit_params)\u001b[0m\n\u001b[1;32m    572\u001b[0m         \u001b[0;32melse\u001b[0m\u001b[0;34m:\u001b[0m\u001b[0;34m\u001b[0m\u001b[0;34m\u001b[0m\u001b[0m\n\u001b[1;32m    573\u001b[0m             \u001b[0;31m# fit method of arity 2 (supervised transformation)\u001b[0m\u001b[0;34m\u001b[0m\u001b[0;34m\u001b[0m\u001b[0;34m\u001b[0m\u001b[0m\n\u001b[0;32m--> 574\u001b[0;31m             \u001b[0;32mreturn\u001b[0m \u001b[0mself\u001b[0m\u001b[0;34m.\u001b[0m\u001b[0mfit\u001b[0m\u001b[0;34m(\u001b[0m\u001b[0mX\u001b[0m\u001b[0;34m,\u001b[0m \u001b[0my\u001b[0m\u001b[0;34m,\u001b[0m \u001b[0;34m**\u001b[0m\u001b[0mfit_params\u001b[0m\u001b[0;34m)\u001b[0m\u001b[0;34m.\u001b[0m\u001b[0mtransform\u001b[0m\u001b[0;34m(\u001b[0m\u001b[0mX\u001b[0m\u001b[0;34m)\u001b[0m\u001b[0;34m\u001b[0m\u001b[0;34m\u001b[0m\u001b[0m\n\u001b[0m\u001b[1;32m    575\u001b[0m \u001b[0;34m\u001b[0m\u001b[0m\n\u001b[1;32m    576\u001b[0m \u001b[0;34m\u001b[0m\u001b[0m\n",
            "\u001b[0;32m/usr/local/lib/python3.6/dist-packages/sklearn/preprocessing/_data.py\u001b[0m in \u001b[0;36mfit\u001b[0;34m(self, X, y)\u001b[0m\n\u001b[1;32m    667\u001b[0m         \u001b[0;31m# Reset internal state before fitting\u001b[0m\u001b[0;34m\u001b[0m\u001b[0;34m\u001b[0m\u001b[0;34m\u001b[0m\u001b[0m\n\u001b[1;32m    668\u001b[0m         \u001b[0mself\u001b[0m\u001b[0;34m.\u001b[0m\u001b[0m_reset\u001b[0m\u001b[0;34m(\u001b[0m\u001b[0;34m)\u001b[0m\u001b[0;34m\u001b[0m\u001b[0;34m\u001b[0m\u001b[0m\n\u001b[0;32m--> 669\u001b[0;31m         \u001b[0;32mreturn\u001b[0m \u001b[0mself\u001b[0m\u001b[0;34m.\u001b[0m\u001b[0mpartial_fit\u001b[0m\u001b[0;34m(\u001b[0m\u001b[0mX\u001b[0m\u001b[0;34m,\u001b[0m \u001b[0my\u001b[0m\u001b[0;34m)\u001b[0m\u001b[0;34m\u001b[0m\u001b[0;34m\u001b[0m\u001b[0m\n\u001b[0m\u001b[1;32m    670\u001b[0m \u001b[0;34m\u001b[0m\u001b[0m\n\u001b[1;32m    671\u001b[0m     \u001b[0;32mdef\u001b[0m \u001b[0mpartial_fit\u001b[0m\u001b[0;34m(\u001b[0m\u001b[0mself\u001b[0m\u001b[0;34m,\u001b[0m \u001b[0mX\u001b[0m\u001b[0;34m,\u001b[0m \u001b[0my\u001b[0m\u001b[0;34m=\u001b[0m\u001b[0;32mNone\u001b[0m\u001b[0;34m)\u001b[0m\u001b[0;34m:\u001b[0m\u001b[0;34m\u001b[0m\u001b[0;34m\u001b[0m\u001b[0m\n",
            "\u001b[0;32m/usr/local/lib/python3.6/dist-packages/sklearn/preprocessing/_data.py\u001b[0m in \u001b[0;36mpartial_fit\u001b[0;34m(self, X, y)\u001b[0m\n\u001b[1;32m    698\u001b[0m         X = check_array(X, accept_sparse=('csr', 'csc'),\n\u001b[1;32m    699\u001b[0m                         \u001b[0mestimator\u001b[0m\u001b[0;34m=\u001b[0m\u001b[0mself\u001b[0m\u001b[0;34m,\u001b[0m \u001b[0mdtype\u001b[0m\u001b[0;34m=\u001b[0m\u001b[0mFLOAT_DTYPES\u001b[0m\u001b[0;34m,\u001b[0m\u001b[0;34m\u001b[0m\u001b[0;34m\u001b[0m\u001b[0m\n\u001b[0;32m--> 700\u001b[0;31m                         force_all_finite='allow-nan')\n\u001b[0m\u001b[1;32m    701\u001b[0m \u001b[0;34m\u001b[0m\u001b[0m\n\u001b[1;32m    702\u001b[0m         \u001b[0;31m# Even in the case of `with_mean=False`, we update the mean anyway\u001b[0m\u001b[0;34m\u001b[0m\u001b[0;34m\u001b[0m\u001b[0;34m\u001b[0m\u001b[0m\n",
            "\u001b[0;32m/usr/local/lib/python3.6/dist-packages/sklearn/utils/validation.py\u001b[0m in \u001b[0;36mcheck_array\u001b[0;34m(array, accept_sparse, accept_large_sparse, dtype, order, copy, force_all_finite, ensure_2d, allow_nd, ensure_min_samples, ensure_min_features, warn_on_dtype, estimator)\u001b[0m\n\u001b[1;32m    529\u001b[0m                     \u001b[0marray\u001b[0m \u001b[0;34m=\u001b[0m \u001b[0marray\u001b[0m\u001b[0;34m.\u001b[0m\u001b[0mastype\u001b[0m\u001b[0;34m(\u001b[0m\u001b[0mdtype\u001b[0m\u001b[0;34m,\u001b[0m \u001b[0mcasting\u001b[0m\u001b[0;34m=\u001b[0m\u001b[0;34m\"unsafe\"\u001b[0m\u001b[0;34m,\u001b[0m \u001b[0mcopy\u001b[0m\u001b[0;34m=\u001b[0m\u001b[0;32mFalse\u001b[0m\u001b[0;34m)\u001b[0m\u001b[0;34m\u001b[0m\u001b[0;34m\u001b[0m\u001b[0m\n\u001b[1;32m    530\u001b[0m                 \u001b[0;32melse\u001b[0m\u001b[0;34m:\u001b[0m\u001b[0;34m\u001b[0m\u001b[0;34m\u001b[0m\u001b[0m\n\u001b[0;32m--> 531\u001b[0;31m                     \u001b[0marray\u001b[0m \u001b[0;34m=\u001b[0m \u001b[0mnp\u001b[0m\u001b[0;34m.\u001b[0m\u001b[0masarray\u001b[0m\u001b[0;34m(\u001b[0m\u001b[0marray\u001b[0m\u001b[0;34m,\u001b[0m \u001b[0morder\u001b[0m\u001b[0;34m=\u001b[0m\u001b[0morder\u001b[0m\u001b[0;34m,\u001b[0m \u001b[0mdtype\u001b[0m\u001b[0;34m=\u001b[0m\u001b[0mdtype\u001b[0m\u001b[0;34m)\u001b[0m\u001b[0;34m\u001b[0m\u001b[0;34m\u001b[0m\u001b[0m\n\u001b[0m\u001b[1;32m    532\u001b[0m             \u001b[0;32mexcept\u001b[0m \u001b[0mComplexWarning\u001b[0m\u001b[0;34m:\u001b[0m\u001b[0;34m\u001b[0m\u001b[0;34m\u001b[0m\u001b[0m\n\u001b[1;32m    533\u001b[0m                 raise ValueError(\"Complex data not supported\\n\"\n",
            "\u001b[0;32m/usr/local/lib/python3.6/dist-packages/numpy/core/_asarray.py\u001b[0m in \u001b[0;36masarray\u001b[0;34m(a, dtype, order)\u001b[0m\n\u001b[1;32m     83\u001b[0m \u001b[0;34m\u001b[0m\u001b[0m\n\u001b[1;32m     84\u001b[0m     \"\"\"\n\u001b[0;32m---> 85\u001b[0;31m     \u001b[0;32mreturn\u001b[0m \u001b[0marray\u001b[0m\u001b[0;34m(\u001b[0m\u001b[0ma\u001b[0m\u001b[0;34m,\u001b[0m \u001b[0mdtype\u001b[0m\u001b[0;34m,\u001b[0m \u001b[0mcopy\u001b[0m\u001b[0;34m=\u001b[0m\u001b[0;32mFalse\u001b[0m\u001b[0;34m,\u001b[0m \u001b[0morder\u001b[0m\u001b[0;34m=\u001b[0m\u001b[0morder\u001b[0m\u001b[0;34m)\u001b[0m\u001b[0;34m\u001b[0m\u001b[0;34m\u001b[0m\u001b[0m\n\u001b[0m\u001b[1;32m     86\u001b[0m \u001b[0;34m\u001b[0m\u001b[0m\n\u001b[1;32m     87\u001b[0m \u001b[0;34m\u001b[0m\u001b[0m\n",
            "\u001b[0;31mValueError\u001b[0m: setting an array element with a sequence."
          ]
        }
      ]
    },
    {
      "cell_type": "code",
      "metadata": {
        "id": "DqPvueWddxx2",
        "colab_type": "code",
        "outputId": "9e7db24e-4082-43a1-d5cd-fff8765b1ce8",
        "colab": {
          "base_uri": "https://localhost:8080/",
          "height": 231
        }
      },
      "source": [
        "from scipy.stats import zscore\n",
        "kl_2_final[\"pt\"] = zscore(kl_2_final[\"pt\"])\n",
        "kl_2_final[\"eta\"] = zscore(kl_2_final[\"eta\"])\n",
        "kl_2_final[\"phi\"] = zscore(kl_2_final[\"phi\"])\n",
        "kl_2_final"
      ],
      "execution_count": 0,
      "outputs": [
        {
          "output_type": "error",
          "ename": "NameError",
          "evalue": "ignored",
          "traceback": [
            "\u001b[0;31m---------------------------------------------------------------------------\u001b[0m",
            "\u001b[0;31mNameError\u001b[0m                                 Traceback (most recent call last)",
            "\u001b[0;32m<ipython-input-29-b0b663076731>\u001b[0m in \u001b[0;36m<module>\u001b[0;34m()\u001b[0m\n\u001b[1;32m      1\u001b[0m \u001b[0;32mfrom\u001b[0m \u001b[0mscipy\u001b[0m\u001b[0;34m.\u001b[0m\u001b[0mstats\u001b[0m \u001b[0;32mimport\u001b[0m \u001b[0mzscore\u001b[0m\u001b[0;34m\u001b[0m\u001b[0;34m\u001b[0m\u001b[0m\n\u001b[0;32m----> 2\u001b[0;31m \u001b[0mkl_2_final\u001b[0m\u001b[0;34m[\u001b[0m\u001b[0;34m\"pt\"\u001b[0m\u001b[0;34m]\u001b[0m \u001b[0;34m=\u001b[0m \u001b[0mzscore\u001b[0m\u001b[0;34m(\u001b[0m\u001b[0mkl_2_final\u001b[0m\u001b[0;34m[\u001b[0m\u001b[0;34m\"pt\"\u001b[0m\u001b[0;34m]\u001b[0m\u001b[0;34m)\u001b[0m\u001b[0;34m\u001b[0m\u001b[0;34m\u001b[0m\u001b[0m\n\u001b[0m\u001b[1;32m      3\u001b[0m \u001b[0mkl_2_final\u001b[0m\u001b[0;34m[\u001b[0m\u001b[0;34m\"eta\"\u001b[0m\u001b[0;34m]\u001b[0m \u001b[0;34m=\u001b[0m \u001b[0mzscore\u001b[0m\u001b[0;34m(\u001b[0m\u001b[0mkl_2_final\u001b[0m\u001b[0;34m[\u001b[0m\u001b[0;34m\"eta\"\u001b[0m\u001b[0;34m]\u001b[0m\u001b[0;34m)\u001b[0m\u001b[0;34m\u001b[0m\u001b[0;34m\u001b[0m\u001b[0m\n\u001b[1;32m      4\u001b[0m \u001b[0mkl_2_final\u001b[0m\u001b[0;34m[\u001b[0m\u001b[0;34m\"phi\"\u001b[0m\u001b[0;34m]\u001b[0m \u001b[0;34m=\u001b[0m \u001b[0mzscore\u001b[0m\u001b[0;34m(\u001b[0m\u001b[0mkl_2_final\u001b[0m\u001b[0;34m[\u001b[0m\u001b[0;34m\"phi\"\u001b[0m\u001b[0;34m]\u001b[0m\u001b[0;34m)\u001b[0m\u001b[0;34m\u001b[0m\u001b[0;34m\u001b[0m\u001b[0m\n\u001b[1;32m      5\u001b[0m \u001b[0mkl_2_final\u001b[0m\u001b[0;34m\u001b[0m\u001b[0;34m\u001b[0m\u001b[0m\n",
            "\u001b[0;31mNameError\u001b[0m: name 'kl_2_final' is not defined"
          ]
        }
      ]
    },
    {
      "cell_type": "code",
      "metadata": {
        "id": "T7l6tKv7d8zX",
        "colab_type": "code",
        "outputId": "fe69db87-0613-47a3-b7ac-e3078a5199fc",
        "colab": {
          "base_uri": "https://localhost:8080/",
          "height": 204
        }
      },
      "source": [
        "from sklearn.model_selection import train_test_split\n",
        "train_df2, test_df2 = train_test_split(kl_2_final, test_size=0.2, shuffle=True)\n",
        "\n",
        "train_y_df2 = train_df2.Target\n",
        "test_y_df2 = test_df2.Target\n",
        "print(\"training targets: \", train_y_df2.head(), \"testing targets: \", test_y_df2.head())"
      ],
      "execution_count": 0,
      "outputs": [
        {
          "output_type": "stream",
          "text": [
            "training targets:  16147465    1.0\n",
            "7893285     0.0\n",
            "16307460    1.0\n",
            "13612231    1.0\n",
            "17804152    1.0\n",
            "Name: Target, dtype: float64 testing targets:  15821372    1.0\n",
            "16468254    1.0\n",
            "17081398    1.0\n",
            "12772499    1.0\n",
            "3157209     0.0\n",
            "Name: Target, dtype: float64\n"
          ],
          "name": "stdout"
        }
      ]
    },
    {
      "cell_type": "code",
      "metadata": {
        "id": "Bs8SmnaFeVm-",
        "colab_type": "code",
        "outputId": "48e26dc5-d4d7-46e3-eca3-dfb0b6acd7af",
        "colab": {
          "base_uri": "https://localhost:8080/",
          "height": 204
        }
      },
      "source": [
        "train_x_df2 = train_df2[[\"pt\", \"eta\", \"phi\"]]\n",
        "test_x_df2 = test_df2[[\"pt\", \"eta\", \"phi\"]]\n",
        "print(\"training data: \", train_x_df2.head(), \"testing data\", test_x_df2.head())\n"
      ],
      "execution_count": 0,
      "outputs": [
        {
          "output_type": "stream",
          "text": [
            "training data:                  pt       eta       phi\n",
            "16147465  0.916656 -0.275281  0.089595\n",
            "7893285   2.234483 -0.166803 -0.120416\n",
            "16307460 -0.372647 -0.359560  1.538359\n",
            "13612231 -0.349315 -1.530136  0.438931\n",
            "17804152  0.120955  0.051915 -0.171761 testing data                 pt       eta       phi\n",
            "15821372  0.257889  1.543315 -1.058260\n",
            "16468254 -0.487503 -0.627251 -1.643881\n",
            "17081398 -0.116564 -1.119826 -0.427323\n",
            "12772499 -0.348870 -1.545228  1.711443\n",
            "3157209  -0.629160 -1.306092 -0.070541\n"
          ],
          "name": "stdout"
        }
      ]
    },
    {
      "cell_type": "markdown",
      "metadata": {
        "id": "Du5N_8PQjm3N",
        "colab_type": "text"
      },
      "source": [
        "## Here"
      ]
    },
    {
      "cell_type": "code",
      "metadata": {
        "id": "lB3Yf1BdNwCX",
        "colab_type": "code",
        "colab": {}
      },
      "source": [
        "import numpy as np\n",
        "import pandas as pd\n",
        "from keras.preprocessing import sequence\n",
        "from keras.models import Sequential\n",
        "from keras.layers import Dense, Dropout, Activation, LSTM, CuDNNLSTM\n",
        "from keras.layers import Embedding\n",
        "from keras.layers import GRU\n",
        "from keras.callbacks import EarlyStopping"
      ],
      "execution_count": 0,
      "outputs": []
    },
    {
      "cell_type": "code",
      "metadata": {
        "id": "keQhm2OxACOC",
        "colab_type": "code",
        "outputId": "0dc316f1-ebc9-4ba7-8ee8-8abed1b229de",
        "colab": {
          "base_uri": "https://localhost:8080/",
          "height": 251
        }
      },
      "source": [
        "import pandas as pd\n",
        "d1_2_order ={'g_pt_order':gen_order,'g_eta':gen_matched.eta, 'Target': np.zeros(len(gen_order))}\n",
        "gen_2_order = pd.DataFrame(data=d1_2_order)\n",
        "d2_2_order ={'r_ptorder':rec_order,'r_eta':rec_matched.eta, 'Target': np.ones(len(rec_order))}\n",
        "rec_2_order = pd.DataFrame(data=d2_2_order)\n",
        "rec_2_order.head()"
      ],
      "execution_count": 0,
      "outputs": [
        {
          "output_type": "error",
          "ename": "NameError",
          "evalue": "ignored",
          "traceback": [
            "\u001b[0;31m---------------------------------------------------------------------------\u001b[0m",
            "\u001b[0;31mNameError\u001b[0m                                 Traceback (most recent call last)",
            "\u001b[0;32m<ipython-input-15-698bd83bc811>\u001b[0m in \u001b[0;36m<module>\u001b[0;34m()\u001b[0m\n\u001b[1;32m      1\u001b[0m \u001b[0;32mimport\u001b[0m \u001b[0mpandas\u001b[0m \u001b[0;32mas\u001b[0m \u001b[0mpd\u001b[0m\u001b[0;34m\u001b[0m\u001b[0;34m\u001b[0m\u001b[0m\n\u001b[0;32m----> 2\u001b[0;31m \u001b[0md1_2_order\u001b[0m \u001b[0;34m=\u001b[0m\u001b[0;34m{\u001b[0m\u001b[0;34m'g_pt_order'\u001b[0m\u001b[0;34m:\u001b[0m\u001b[0mgen_order\u001b[0m\u001b[0;34m,\u001b[0m\u001b[0;34m'g_eta'\u001b[0m\u001b[0;34m:\u001b[0m\u001b[0mgen_matched\u001b[0m\u001b[0;34m.\u001b[0m\u001b[0meta\u001b[0m\u001b[0;34m,\u001b[0m \u001b[0;34m'Target'\u001b[0m\u001b[0;34m:\u001b[0m \u001b[0mnp\u001b[0m\u001b[0;34m.\u001b[0m\u001b[0mzeros\u001b[0m\u001b[0;34m(\u001b[0m\u001b[0mlen\u001b[0m\u001b[0;34m(\u001b[0m\u001b[0mgen_order\u001b[0m\u001b[0;34m)\u001b[0m\u001b[0;34m)\u001b[0m\u001b[0;34m}\u001b[0m\u001b[0;34m\u001b[0m\u001b[0;34m\u001b[0m\u001b[0m\n\u001b[0m\u001b[1;32m      3\u001b[0m \u001b[0mgen_2_order\u001b[0m \u001b[0;34m=\u001b[0m \u001b[0mpd\u001b[0m\u001b[0;34m.\u001b[0m\u001b[0mDataFrame\u001b[0m\u001b[0;34m(\u001b[0m\u001b[0mdata\u001b[0m\u001b[0;34m=\u001b[0m\u001b[0md1_2_order\u001b[0m\u001b[0;34m)\u001b[0m\u001b[0;34m\u001b[0m\u001b[0;34m\u001b[0m\u001b[0m\n\u001b[1;32m      4\u001b[0m \u001b[0md2_2_order\u001b[0m \u001b[0;34m=\u001b[0m\u001b[0;34m{\u001b[0m\u001b[0;34m'r_ptorder'\u001b[0m\u001b[0;34m:\u001b[0m\u001b[0mrec_order\u001b[0m\u001b[0;34m,\u001b[0m\u001b[0;34m'r_eta'\u001b[0m\u001b[0;34m:\u001b[0m\u001b[0mrec_matched\u001b[0m\u001b[0;34m.\u001b[0m\u001b[0meta\u001b[0m\u001b[0;34m,\u001b[0m \u001b[0;34m'Target'\u001b[0m\u001b[0;34m:\u001b[0m \u001b[0mnp\u001b[0m\u001b[0;34m.\u001b[0m\u001b[0mones\u001b[0m\u001b[0;34m(\u001b[0m\u001b[0mlen\u001b[0m\u001b[0;34m(\u001b[0m\u001b[0mrec_order\u001b[0m\u001b[0;34m)\u001b[0m\u001b[0;34m)\u001b[0m\u001b[0;34m}\u001b[0m\u001b[0;34m\u001b[0m\u001b[0;34m\u001b[0m\u001b[0m\n\u001b[1;32m      5\u001b[0m \u001b[0mrec_2_order\u001b[0m \u001b[0;34m=\u001b[0m \u001b[0mpd\u001b[0m\u001b[0;34m.\u001b[0m\u001b[0mDataFrame\u001b[0m\u001b[0;34m(\u001b[0m\u001b[0mdata\u001b[0m\u001b[0;34m=\u001b[0m\u001b[0md2_2_order\u001b[0m\u001b[0;34m)\u001b[0m\u001b[0;34m\u001b[0m\u001b[0;34m\u001b[0m\u001b[0m\n",
            "\u001b[0;31mNameError\u001b[0m: name 'gen_order' is not defined"
          ]
        }
      ]
    },
    {
      "cell_type": "code",
      "metadata": {
        "id": "cPuTITDx1DXM",
        "colab_type": "code",
        "colab": {}
      },
      "source": [
        "r = rec_sorted\n",
        "g= gen_sorted"
      ],
      "execution_count": 0,
      "outputs": []
    },
    {
      "cell_type": "code",
      "metadata": {
        "id": "KH_Qpt-cyuo8",
        "colab_type": "code",
        "outputId": "2c1ec77c-0a4d-42ff-a777-4ebec23b4f03",
        "colab": {
          "base_uri": "https://localhost:8080/",
          "height": 204
        }
      },
      "source": [
        "import pandas as pd\n",
        "d1_2_order ={'g_pt_order': g, 'Target': np.zeros(len(gen_sorted))}\n",
        "gen_2_order = pd.DataFrame(data=d1_2_order)\n",
        "d2_2_order ={'r_ptorder': r,'Target': np.ones(len(rec_sorted))}\n",
        "rec_2_order = pd.DataFrame(data=d2_2_order)\n",
        "rec_2_order.head()"
      ],
      "execution_count": 0,
      "outputs": [
        {
          "output_type": "execute_result",
          "data": {
            "text/html": [
              "<div>\n",
              "<style scoped>\n",
              "    .dataframe tbody tr th:only-of-type {\n",
              "        vertical-align: middle;\n",
              "    }\n",
              "\n",
              "    .dataframe tbody tr th {\n",
              "        vertical-align: top;\n",
              "    }\n",
              "\n",
              "    .dataframe thead th {\n",
              "        text-align: right;\n",
              "    }\n",
              "</style>\n",
              "<table border=\"1\" class=\"dataframe\">\n",
              "  <thead>\n",
              "    <tr style=\"text-align: right;\">\n",
              "      <th></th>\n",
              "      <th>r_ptorder</th>\n",
              "      <th>Target</th>\n",
              "    </tr>\n",
              "  </thead>\n",
              "  <tbody>\n",
              "    <tr>\n",
              "      <th>0</th>\n",
              "      <td>[228.00363, 203.0757, 56.99478]</td>\n",
              "      <td>1.0</td>\n",
              "    </tr>\n",
              "    <tr>\n",
              "      <th>1</th>\n",
              "      <td>[104.07147, 68.664246, 66.245026]</td>\n",
              "      <td>1.0</td>\n",
              "    </tr>\n",
              "    <tr>\n",
              "      <th>2</th>\n",
              "      <td>[123.06193, 89.984245, 46.26375]</td>\n",
              "      <td>1.0</td>\n",
              "    </tr>\n",
              "    <tr>\n",
              "      <th>3</th>\n",
              "      <td>[154.72932, 119.78563, 101.61238]</td>\n",
              "      <td>1.0</td>\n",
              "    </tr>\n",
              "    <tr>\n",
              "      <th>4</th>\n",
              "      <td>[198.40178, 155.59593, 44.195312]</td>\n",
              "      <td>1.0</td>\n",
              "    </tr>\n",
              "  </tbody>\n",
              "</table>\n",
              "</div>"
            ],
            "text/plain": [
              "                           r_ptorder  Target\n",
              "0    [228.00363, 203.0757, 56.99478]     1.0\n",
              "1  [104.07147, 68.664246, 66.245026]     1.0\n",
              "2   [123.06193, 89.984245, 46.26375]     1.0\n",
              "3  [154.72932, 119.78563, 101.61238]     1.0\n",
              "4  [198.40178, 155.59593, 44.195312]     1.0"
            ]
          },
          "metadata": {
            "tags": []
          },
          "execution_count": 107
        }
      ]
    },
    {
      "cell_type": "code",
      "metadata": {
        "id": "KYlldlELBPz_",
        "colab_type": "code",
        "colab": {}
      },
      "source": [
        "sl_2_order = np.concatenate((gen_2_order,rec_2_order))\n",
        "kl_2_order = pd.DataFrame(sl_2_order)\n"
      ],
      "execution_count": 0,
      "outputs": []
    },
    {
      "cell_type": "code",
      "metadata": {
        "id": "LYtAOghoA6wj",
        "colab_type": "code",
        "outputId": "461ddf9a-7284-4aa2-b06b-0d06d8d7bb27",
        "colab": {
          "base_uri": "https://localhost:8080/",
          "height": 419
        }
      },
      "source": [
        "kl_2_order.columns = [\"pt\", \"Target\"]\n",
        "#kl_t[21834306:21834310] #here is where gen changes to rec\n",
        "#kl_2_final = kl_2.sample(frac=1).reset_index(drop=True)\n",
        "kl_2_final = kl_2_order\n",
        "kl_2_final"
      ],
      "execution_count": 0,
      "outputs": [
        {
          "output_type": "execute_result",
          "data": {
            "text/html": [
              "<div>\n",
              "<style scoped>\n",
              "    .dataframe tbody tr th:only-of-type {\n",
              "        vertical-align: middle;\n",
              "    }\n",
              "\n",
              "    .dataframe tbody tr th {\n",
              "        vertical-align: top;\n",
              "    }\n",
              "\n",
              "    .dataframe thead th {\n",
              "        text-align: right;\n",
              "    }\n",
              "</style>\n",
              "<table border=\"1\" class=\"dataframe\">\n",
              "  <thead>\n",
              "    <tr style=\"text-align: right;\">\n",
              "      <th></th>\n",
              "      <th>pt</th>\n",
              "      <th>Target</th>\n",
              "    </tr>\n",
              "  </thead>\n",
              "  <tbody>\n",
              "    <tr>\n",
              "      <th>0</th>\n",
              "      <td>[266.27475, 221.19942, 67.371635]</td>\n",
              "      <td>0</td>\n",
              "    </tr>\n",
              "    <tr>\n",
              "      <th>1</th>\n",
              "      <td>[88.84725, 69.667465, 61.54047]</td>\n",
              "      <td>0</td>\n",
              "    </tr>\n",
              "    <tr>\n",
              "      <th>2</th>\n",
              "      <td>[133.72725, 99.35083, 58.404396]</td>\n",
              "      <td>0</td>\n",
              "    </tr>\n",
              "    <tr>\n",
              "      <th>3</th>\n",
              "      <td>[156.86055, 141.24367, 112.18314]</td>\n",
              "      <td>0</td>\n",
              "    </tr>\n",
              "    <tr>\n",
              "      <th>4</th>\n",
              "      <td>[196.69061, 187.26602, 51.457775]</td>\n",
              "      <td>0</td>\n",
              "    </tr>\n",
              "    <tr>\n",
              "      <th>...</th>\n",
              "      <td>...</td>\n",
              "      <td>...</td>\n",
              "    </tr>\n",
              "    <tr>\n",
              "      <th>427369</th>\n",
              "      <td>[560.45215, 405.17447, 124.12644]</td>\n",
              "      <td>1</td>\n",
              "    </tr>\n",
              "    <tr>\n",
              "      <th>427370</th>\n",
              "      <td>[139.15634, 109.780014, 64.04927]</td>\n",
              "      <td>1</td>\n",
              "    </tr>\n",
              "    <tr>\n",
              "      <th>427371</th>\n",
              "      <td>[142.75522, 138.53389, 117.197395]</td>\n",
              "      <td>1</td>\n",
              "    </tr>\n",
              "    <tr>\n",
              "      <th>427372</th>\n",
              "      <td>[1822.0026, 1658.026, 134.22263]</td>\n",
              "      <td>1</td>\n",
              "    </tr>\n",
              "    <tr>\n",
              "      <th>427373</th>\n",
              "      <td>[180.42249, 178.31952, 63.802513]</td>\n",
              "      <td>1</td>\n",
              "    </tr>\n",
              "  </tbody>\n",
              "</table>\n",
              "<p>427374 rows × 2 columns</p>\n",
              "</div>"
            ],
            "text/plain": [
              "                                        pt Target\n",
              "0        [266.27475, 221.19942, 67.371635]      0\n",
              "1          [88.84725, 69.667465, 61.54047]      0\n",
              "2         [133.72725, 99.35083, 58.404396]      0\n",
              "3        [156.86055, 141.24367, 112.18314]      0\n",
              "4        [196.69061, 187.26602, 51.457775]      0\n",
              "...                                    ...    ...\n",
              "427369   [560.45215, 405.17447, 124.12644]      1\n",
              "427370   [139.15634, 109.780014, 64.04927]      1\n",
              "427371  [142.75522, 138.53389, 117.197395]      1\n",
              "427372    [1822.0026, 1658.026, 134.22263]      1\n",
              "427373   [180.42249, 178.31952, 63.802513]      1\n",
              "\n",
              "[427374 rows x 2 columns]"
            ]
          },
          "metadata": {
            "tags": []
          },
          "execution_count": 109
        }
      ]
    },
    {
      "cell_type": "code",
      "metadata": {
        "id": "omka6seJ4cXh",
        "colab_type": "code",
        "outputId": "e2391981-70a1-4744-cb4e-5b9a744f327d",
        "colab": {
          "base_uri": "https://localhost:8080/",
          "height": 34
        }
      },
      "source": [
        "data = kl_2_final[\"pt\"]\n",
        "targets = kl_2_final[\"Target\"]\n",
        "type(data)"
      ],
      "execution_count": 0,
      "outputs": [
        {
          "output_type": "execute_result",
          "data": {
            "text/plain": [
              "pandas.core.series.Series"
            ]
          },
          "metadata": {
            "tags": []
          },
          "execution_count": 110
        }
      ]
    },
    {
      "cell_type": "code",
      "metadata": {
        "id": "WWd3ir5Lx1iG",
        "colab_type": "code",
        "outputId": "cfd96e9d-facc-4948-c7c1-5b025ef9b2ef",
        "colab": {
          "base_uri": "https://localhost:8080/",
          "height": 34
        }
      },
      "source": [
        "data[1]"
      ],
      "execution_count": 0,
      "outputs": [
        {
          "output_type": "execute_result",
          "data": {
            "text/plain": [
              "array([88.84725 , 69.667465, 61.54047 ], dtype=float32)"
            ]
          },
          "metadata": {
            "tags": []
          },
          "execution_count": 123
        }
      ]
    },
    {
      "cell_type": "code",
      "metadata": {
        "id": "uhBDscU8z_-W",
        "colab_type": "code",
        "colab": {}
      },
      "source": [
        "for i in range(len(data)):\n",
        "  data[i] = data[i].tolist()"
      ],
      "execution_count": 0,
      "outputs": []
    },
    {
      "cell_type": "code",
      "metadata": {
        "id": "bvPPxujQyadf",
        "colab_type": "code",
        "outputId": "ba1478a2-5fdc-4ffb-c1b2-d04b3dbfce90",
        "colab": {
          "base_uri": "https://localhost:8080/",
          "height": 544
        }
      },
      "source": [
        "event_list=[]\n",
        "for event in range(len(data)):\n",
        "  for jet in range(len(data[event].tolist())):\n",
        "    event_list.append(data[event][jet]) \n",
        "    jet +=1\n",
        "    event +=1\n",
        "    \n",
        "event_list"
      ],
      "execution_count": 0,
      "outputs": [
        {
          "output_type": "error",
          "ename": "KeyError",
          "evalue": "ignored",
          "traceback": [
            "\u001b[0;31m---------------------------------------------------------------------------\u001b[0m",
            "\u001b[0;31mKeyError\u001b[0m                                  Traceback (most recent call last)",
            "\u001b[0;32m<ipython-input-125-0da0231b5d59>\u001b[0m in \u001b[0;36m<module>\u001b[0;34m()\u001b[0m\n\u001b[1;32m      2\u001b[0m \u001b[0;32mfor\u001b[0m \u001b[0mevent\u001b[0m \u001b[0;32min\u001b[0m \u001b[0mrange\u001b[0m\u001b[0;34m(\u001b[0m\u001b[0mlen\u001b[0m\u001b[0;34m(\u001b[0m\u001b[0mdata\u001b[0m\u001b[0;34m)\u001b[0m\u001b[0;34m)\u001b[0m\u001b[0;34m:\u001b[0m\u001b[0;34m\u001b[0m\u001b[0;34m\u001b[0m\u001b[0m\n\u001b[1;32m      3\u001b[0m   \u001b[0;32mfor\u001b[0m \u001b[0mjet\u001b[0m \u001b[0;32min\u001b[0m \u001b[0mrange\u001b[0m\u001b[0;34m(\u001b[0m\u001b[0mlen\u001b[0m\u001b[0;34m(\u001b[0m\u001b[0mdata\u001b[0m\u001b[0;34m[\u001b[0m\u001b[0mevent\u001b[0m\u001b[0;34m]\u001b[0m\u001b[0;34m.\u001b[0m\u001b[0mtolist\u001b[0m\u001b[0;34m(\u001b[0m\u001b[0;34m)\u001b[0m\u001b[0;34m)\u001b[0m\u001b[0;34m)\u001b[0m\u001b[0;34m:\u001b[0m\u001b[0;34m\u001b[0m\u001b[0;34m\u001b[0m\u001b[0m\n\u001b[0;32m----> 4\u001b[0;31m     \u001b[0mevent_list\u001b[0m\u001b[0;34m.\u001b[0m\u001b[0mappend\u001b[0m\u001b[0;34m(\u001b[0m\u001b[0mdata\u001b[0m\u001b[0;34m[\u001b[0m\u001b[0mevent\u001b[0m\u001b[0;34m]\u001b[0m\u001b[0;34m[\u001b[0m\u001b[0mjet\u001b[0m\u001b[0;34m]\u001b[0m\u001b[0;34m)\u001b[0m\u001b[0;34m\u001b[0m\u001b[0;34m\u001b[0m\u001b[0m\n\u001b[0m\u001b[1;32m      5\u001b[0m     \u001b[0mjet\u001b[0m \u001b[0;34m+=\u001b[0m\u001b[0;36m1\u001b[0m\u001b[0;34m\u001b[0m\u001b[0;34m\u001b[0m\u001b[0m\n\u001b[1;32m      6\u001b[0m     \u001b[0mevent\u001b[0m \u001b[0;34m+=\u001b[0m\u001b[0;36m1\u001b[0m\u001b[0;34m\u001b[0m\u001b[0;34m\u001b[0m\u001b[0m\n",
            "\u001b[0;32m/usr/local/lib/python3.6/dist-packages/pandas/core/series.py\u001b[0m in \u001b[0;36m__getitem__\u001b[0;34m(self, key)\u001b[0m\n\u001b[1;32m   1069\u001b[0m         \u001b[0mkey\u001b[0m \u001b[0;34m=\u001b[0m \u001b[0mcom\u001b[0m\u001b[0;34m.\u001b[0m\u001b[0mapply_if_callable\u001b[0m\u001b[0;34m(\u001b[0m\u001b[0mkey\u001b[0m\u001b[0;34m,\u001b[0m \u001b[0mself\u001b[0m\u001b[0;34m)\u001b[0m\u001b[0;34m\u001b[0m\u001b[0;34m\u001b[0m\u001b[0m\n\u001b[1;32m   1070\u001b[0m         \u001b[0;32mtry\u001b[0m\u001b[0;34m:\u001b[0m\u001b[0;34m\u001b[0m\u001b[0;34m\u001b[0m\u001b[0m\n\u001b[0;32m-> 1071\u001b[0;31m             \u001b[0mresult\u001b[0m \u001b[0;34m=\u001b[0m \u001b[0mself\u001b[0m\u001b[0;34m.\u001b[0m\u001b[0mindex\u001b[0m\u001b[0;34m.\u001b[0m\u001b[0mget_value\u001b[0m\u001b[0;34m(\u001b[0m\u001b[0mself\u001b[0m\u001b[0;34m,\u001b[0m \u001b[0mkey\u001b[0m\u001b[0;34m)\u001b[0m\u001b[0;34m\u001b[0m\u001b[0;34m\u001b[0m\u001b[0m\n\u001b[0m\u001b[1;32m   1072\u001b[0m \u001b[0;34m\u001b[0m\u001b[0m\n\u001b[1;32m   1073\u001b[0m             \u001b[0;32mif\u001b[0m \u001b[0;32mnot\u001b[0m \u001b[0mis_scalar\u001b[0m\u001b[0;34m(\u001b[0m\u001b[0mresult\u001b[0m\u001b[0;34m)\u001b[0m\u001b[0;34m:\u001b[0m\u001b[0;34m\u001b[0m\u001b[0;34m\u001b[0m\u001b[0m\n",
            "\u001b[0;32m/usr/local/lib/python3.6/dist-packages/pandas/core/indexes/base.py\u001b[0m in \u001b[0;36mget_value\u001b[0;34m(self, series, key)\u001b[0m\n\u001b[1;32m   4728\u001b[0m         \u001b[0mk\u001b[0m \u001b[0;34m=\u001b[0m \u001b[0mself\u001b[0m\u001b[0;34m.\u001b[0m\u001b[0m_convert_scalar_indexer\u001b[0m\u001b[0;34m(\u001b[0m\u001b[0mk\u001b[0m\u001b[0;34m,\u001b[0m \u001b[0mkind\u001b[0m\u001b[0;34m=\u001b[0m\u001b[0;34m\"getitem\"\u001b[0m\u001b[0;34m)\u001b[0m\u001b[0;34m\u001b[0m\u001b[0;34m\u001b[0m\u001b[0m\n\u001b[1;32m   4729\u001b[0m         \u001b[0;32mtry\u001b[0m\u001b[0;34m:\u001b[0m\u001b[0;34m\u001b[0m\u001b[0;34m\u001b[0m\u001b[0m\n\u001b[0;32m-> 4730\u001b[0;31m             \u001b[0;32mreturn\u001b[0m \u001b[0mself\u001b[0m\u001b[0;34m.\u001b[0m\u001b[0m_engine\u001b[0m\u001b[0;34m.\u001b[0m\u001b[0mget_value\u001b[0m\u001b[0;34m(\u001b[0m\u001b[0ms\u001b[0m\u001b[0;34m,\u001b[0m \u001b[0mk\u001b[0m\u001b[0;34m,\u001b[0m \u001b[0mtz\u001b[0m\u001b[0;34m=\u001b[0m\u001b[0mgetattr\u001b[0m\u001b[0;34m(\u001b[0m\u001b[0mseries\u001b[0m\u001b[0;34m.\u001b[0m\u001b[0mdtype\u001b[0m\u001b[0;34m,\u001b[0m \u001b[0;34m\"tz\"\u001b[0m\u001b[0;34m,\u001b[0m \u001b[0;32mNone\u001b[0m\u001b[0;34m)\u001b[0m\u001b[0;34m)\u001b[0m\u001b[0;34m\u001b[0m\u001b[0;34m\u001b[0m\u001b[0m\n\u001b[0m\u001b[1;32m   4731\u001b[0m         \u001b[0;32mexcept\u001b[0m \u001b[0mKeyError\u001b[0m \u001b[0;32mas\u001b[0m \u001b[0me1\u001b[0m\u001b[0;34m:\u001b[0m\u001b[0;34m\u001b[0m\u001b[0;34m\u001b[0m\u001b[0m\n\u001b[1;32m   4732\u001b[0m             \u001b[0;32mif\u001b[0m \u001b[0mlen\u001b[0m\u001b[0;34m(\u001b[0m\u001b[0mself\u001b[0m\u001b[0;34m)\u001b[0m \u001b[0;34m>\u001b[0m \u001b[0;36m0\u001b[0m \u001b[0;32mand\u001b[0m \u001b[0;34m(\u001b[0m\u001b[0mself\u001b[0m\u001b[0;34m.\u001b[0m\u001b[0mholds_integer\u001b[0m\u001b[0;34m(\u001b[0m\u001b[0;34m)\u001b[0m \u001b[0;32mor\u001b[0m \u001b[0mself\u001b[0m\u001b[0;34m.\u001b[0m\u001b[0mis_boolean\u001b[0m\u001b[0;34m(\u001b[0m\u001b[0;34m)\u001b[0m\u001b[0;34m)\u001b[0m\u001b[0;34m:\u001b[0m\u001b[0;34m\u001b[0m\u001b[0;34m\u001b[0m\u001b[0m\n",
            "\u001b[0;32mpandas/_libs/index.pyx\u001b[0m in \u001b[0;36mpandas._libs.index.IndexEngine.get_value\u001b[0;34m()\u001b[0m\n",
            "\u001b[0;32mpandas/_libs/index.pyx\u001b[0m in \u001b[0;36mpandas._libs.index.IndexEngine.get_value\u001b[0;34m()\u001b[0m\n",
            "\u001b[0;32mpandas/_libs/index.pyx\u001b[0m in \u001b[0;36mpandas._libs.index.IndexEngine.get_loc\u001b[0;34m()\u001b[0m\n",
            "\u001b[0;32mpandas/_libs/hashtable_class_helper.pxi\u001b[0m in \u001b[0;36mpandas._libs.hashtable.Int64HashTable.get_item\u001b[0;34m()\u001b[0m\n",
            "\u001b[0;32mpandas/_libs/hashtable_class_helper.pxi\u001b[0m in \u001b[0;36mpandas._libs.hashtable.Int64HashTable.get_item\u001b[0;34m()\u001b[0m\n",
            "\u001b[0;31mKeyError\u001b[0m: 427374"
          ]
        }
      ]
    },
    {
      "cell_type": "code",
      "metadata": {
        "id": "sZbd6cn3tD53",
        "colab_type": "code",
        "outputId": "ceaa48c0-a463-422e-8d9f-ca235ffcdd42",
        "colab": {
          "base_uri": "https://localhost:8080/",
          "height": 163
        }
      },
      "source": [
        "#data= data.tostring()\n",
        "data.tolist()"
      ],
      "execution_count": 0,
      "outputs": [
        {
          "output_type": "error",
          "ename": "AttributeError",
          "evalue": "ignored",
          "traceback": [
            "\u001b[0;31m---------------------------------------------------------------------------\u001b[0m",
            "\u001b[0;31mAttributeError\u001b[0m                            Traceback (most recent call last)",
            "\u001b[0;32m<ipython-input-105-029e5e20463c>\u001b[0m in \u001b[0;36m<module>\u001b[0;34m()\u001b[0m\n\u001b[0;32m----> 1\u001b[0;31m \u001b[0mdata\u001b[0m\u001b[0;34m.\u001b[0m\u001b[0mtolist\u001b[0m\u001b[0;34m(\u001b[0m\u001b[0;34m)\u001b[0m\u001b[0;34m\u001b[0m\u001b[0;34m\u001b[0m\u001b[0m\n\u001b[0m",
            "\u001b[0;31mAttributeError\u001b[0m: 'list' object has no attribute 'tolist'"
          ]
        }
      ]
    },
    {
      "cell_type": "code",
      "metadata": {
        "id": "CcwKPHgQqC7P",
        "colab_type": "code",
        "outputId": "02deaddc-c1dd-4600-9610-cbb597b710c4",
        "colab": {
          "base_uri": "https://localhost:8080/",
          "height": 374
        }
      },
      "source": [
        "for i in range(len(data)):\n",
        "  data[i] = data[i].flatten()\n",
        "# for line in data:\n",
        "#     Type = line.split(\",\")\n",
        "#     x = Type[1]\n",
        "#     y = Type[2]\n",
        "#     print(x,y)\n",
        "data"
      ],
      "execution_count": 0,
      "outputs": [
        {
          "output_type": "error",
          "ename": "KeyboardInterrupt",
          "evalue": "ignored",
          "traceback": [
            "\u001b[0;31m---------------------------------------------------------------------------\u001b[0m",
            "\u001b[0;31mKeyboardInterrupt\u001b[0m                         Traceback (most recent call last)",
            "\u001b[0;32m<ipython-input-75-3edf50758e04>\u001b[0m in \u001b[0;36m<module>\u001b[0;34m()\u001b[0m\n\u001b[1;32m      1\u001b[0m \u001b[0;32mfor\u001b[0m \u001b[0mi\u001b[0m \u001b[0;32min\u001b[0m \u001b[0mrange\u001b[0m\u001b[0;34m(\u001b[0m\u001b[0mlen\u001b[0m\u001b[0;34m(\u001b[0m\u001b[0mdata\u001b[0m\u001b[0;34m)\u001b[0m\u001b[0;34m)\u001b[0m\u001b[0;34m:\u001b[0m\u001b[0;34m\u001b[0m\u001b[0;34m\u001b[0m\u001b[0m\n\u001b[0;32m----> 2\u001b[0;31m   \u001b[0mdata\u001b[0m\u001b[0;34m[\u001b[0m\u001b[0mi\u001b[0m\u001b[0;34m]\u001b[0m \u001b[0;34m=\u001b[0m \u001b[0mdata\u001b[0m\u001b[0;34m[\u001b[0m\u001b[0mi\u001b[0m\u001b[0;34m]\u001b[0m\u001b[0;34m.\u001b[0m\u001b[0mflatten\u001b[0m\u001b[0;34m(\u001b[0m\u001b[0;34m)\u001b[0m\u001b[0;34m\u001b[0m\u001b[0;34m\u001b[0m\u001b[0m\n\u001b[0m\u001b[1;32m      3\u001b[0m \u001b[0;31m# for line in data:\u001b[0m\u001b[0;34m\u001b[0m\u001b[0;34m\u001b[0m\u001b[0;34m\u001b[0m\u001b[0m\n\u001b[1;32m      4\u001b[0m \u001b[0;31m#     Type = line.split(\",\")\u001b[0m\u001b[0;34m\u001b[0m\u001b[0;34m\u001b[0m\u001b[0;34m\u001b[0m\u001b[0m\n\u001b[1;32m      5\u001b[0m \u001b[0;31m#     x = Type[1]\u001b[0m\u001b[0;34m\u001b[0m\u001b[0;34m\u001b[0m\u001b[0;34m\u001b[0m\u001b[0m\n",
            "\u001b[0;32m/usr/local/lib/python3.6/dist-packages/pandas/core/series.py\u001b[0m in \u001b[0;36m__setitem__\u001b[0;34m(self, key, value)\u001b[0m\n\u001b[1;32m   1244\u001b[0m         \u001b[0msetitem\u001b[0m\u001b[0;34m(\u001b[0m\u001b[0mkey\u001b[0m\u001b[0;34m,\u001b[0m \u001b[0mvalue\u001b[0m\u001b[0;34m)\u001b[0m\u001b[0;34m\u001b[0m\u001b[0;34m\u001b[0m\u001b[0m\n\u001b[1;32m   1245\u001b[0m         \u001b[0;32mif\u001b[0m \u001b[0mcacher_needs_updating\u001b[0m\u001b[0;34m:\u001b[0m\u001b[0;34m\u001b[0m\u001b[0;34m\u001b[0m\u001b[0m\n\u001b[0;32m-> 1246\u001b[0;31m             \u001b[0mself\u001b[0m\u001b[0;34m.\u001b[0m\u001b[0m_maybe_update_cacher\u001b[0m\u001b[0;34m(\u001b[0m\u001b[0;34m)\u001b[0m\u001b[0;34m\u001b[0m\u001b[0;34m\u001b[0m\u001b[0m\n\u001b[0m\u001b[1;32m   1247\u001b[0m \u001b[0;34m\u001b[0m\u001b[0m\n\u001b[1;32m   1248\u001b[0m     \u001b[0;32mdef\u001b[0m \u001b[0m_set_with_engine\u001b[0m\u001b[0;34m(\u001b[0m\u001b[0mself\u001b[0m\u001b[0;34m,\u001b[0m \u001b[0mkey\u001b[0m\u001b[0;34m,\u001b[0m \u001b[0mvalue\u001b[0m\u001b[0;34m)\u001b[0m\u001b[0;34m:\u001b[0m\u001b[0;34m\u001b[0m\u001b[0;34m\u001b[0m\u001b[0m\n",
            "\u001b[0;32m/usr/local/lib/python3.6/dist-packages/pandas/core/generic.py\u001b[0m in \u001b[0;36m_maybe_update_cacher\u001b[0;34m(self, clear, verify_is_copy)\u001b[0m\n\u001b[1;32m   3346\u001b[0m             \u001b[0;32melse\u001b[0m\u001b[0;34m:\u001b[0m\u001b[0;34m\u001b[0m\u001b[0;34m\u001b[0m\u001b[0m\n\u001b[1;32m   3347\u001b[0m                 \u001b[0;32mtry\u001b[0m\u001b[0;34m:\u001b[0m\u001b[0;34m\u001b[0m\u001b[0;34m\u001b[0m\u001b[0m\n\u001b[0;32m-> 3348\u001b[0;31m                     \u001b[0mref\u001b[0m\u001b[0;34m.\u001b[0m\u001b[0m_maybe_cache_changed\u001b[0m\u001b[0;34m(\u001b[0m\u001b[0mcacher\u001b[0m\u001b[0;34m[\u001b[0m\u001b[0;36m0\u001b[0m\u001b[0;34m]\u001b[0m\u001b[0;34m,\u001b[0m \u001b[0mself\u001b[0m\u001b[0;34m)\u001b[0m\u001b[0;34m\u001b[0m\u001b[0;34m\u001b[0m\u001b[0m\n\u001b[0m\u001b[1;32m   3349\u001b[0m                 \u001b[0;32mexcept\u001b[0m \u001b[0mException\u001b[0m\u001b[0;34m:\u001b[0m\u001b[0;34m\u001b[0m\u001b[0;34m\u001b[0m\u001b[0m\n\u001b[1;32m   3350\u001b[0m                     \u001b[0;32mpass\u001b[0m\u001b[0;34m\u001b[0m\u001b[0;34m\u001b[0m\u001b[0m\n",
            "\u001b[0;32m/usr/local/lib/python3.6/dist-packages/pandas/core/generic.py\u001b[0m in \u001b[0;36m_maybe_cache_changed\u001b[0;34m(self, item, value)\u001b[0m\n\u001b[1;32m   3303\u001b[0m         \"\"\"The object has called back to us saying maybe it has changed.\n\u001b[1;32m   3304\u001b[0m         \"\"\"\n\u001b[0;32m-> 3305\u001b[0;31m         \u001b[0mself\u001b[0m\u001b[0;34m.\u001b[0m\u001b[0m_data\u001b[0m\u001b[0;34m.\u001b[0m\u001b[0mset\u001b[0m\u001b[0;34m(\u001b[0m\u001b[0mitem\u001b[0m\u001b[0;34m,\u001b[0m \u001b[0mvalue\u001b[0m\u001b[0;34m)\u001b[0m\u001b[0;34m\u001b[0m\u001b[0;34m\u001b[0m\u001b[0m\n\u001b[0m\u001b[1;32m   3306\u001b[0m \u001b[0;34m\u001b[0m\u001b[0m\n\u001b[1;32m   3307\u001b[0m     \u001b[0;34m@\u001b[0m\u001b[0mproperty\u001b[0m\u001b[0;34m\u001b[0m\u001b[0;34m\u001b[0m\u001b[0m\n",
            "\u001b[0;32m/usr/local/lib/python3.6/dist-packages/pandas/core/internals/managers.py\u001b[0m in \u001b[0;36mset\u001b[0;34m(self, item, value)\u001b[0m\n\u001b[1;32m   1088\u001b[0m             \u001b[0mblk_locs\u001b[0m \u001b[0;34m=\u001b[0m \u001b[0mblklocs\u001b[0m\u001b[0;34m[\u001b[0m\u001b[0mval_locs\u001b[0m\u001b[0;34m.\u001b[0m\u001b[0mindexer\u001b[0m\u001b[0;34m]\u001b[0m\u001b[0;34m\u001b[0m\u001b[0;34m\u001b[0m\u001b[0m\n\u001b[1;32m   1089\u001b[0m             \u001b[0;32mif\u001b[0m \u001b[0mblk\u001b[0m\u001b[0;34m.\u001b[0m\u001b[0mshould_store\u001b[0m\u001b[0;34m(\u001b[0m\u001b[0mvalue\u001b[0m\u001b[0;34m)\u001b[0m\u001b[0;34m:\u001b[0m\u001b[0;34m\u001b[0m\u001b[0;34m\u001b[0m\u001b[0m\n\u001b[0;32m-> 1090\u001b[0;31m                 \u001b[0mblk\u001b[0m\u001b[0;34m.\u001b[0m\u001b[0mset\u001b[0m\u001b[0;34m(\u001b[0m\u001b[0mblk_locs\u001b[0m\u001b[0;34m,\u001b[0m \u001b[0mvalue_getitem\u001b[0m\u001b[0;34m(\u001b[0m\u001b[0mval_locs\u001b[0m\u001b[0;34m)\u001b[0m\u001b[0;34m)\u001b[0m\u001b[0;34m\u001b[0m\u001b[0;34m\u001b[0m\u001b[0m\n\u001b[0m\u001b[1;32m   1091\u001b[0m             \u001b[0;32melse\u001b[0m\u001b[0;34m:\u001b[0m\u001b[0;34m\u001b[0m\u001b[0;34m\u001b[0m\u001b[0m\n\u001b[1;32m   1092\u001b[0m                 \u001b[0munfit_mgr_locs\u001b[0m\u001b[0;34m.\u001b[0m\u001b[0mappend\u001b[0m\u001b[0;34m(\u001b[0m\u001b[0mblk\u001b[0m\u001b[0;34m.\u001b[0m\u001b[0mmgr_locs\u001b[0m\u001b[0;34m.\u001b[0m\u001b[0mas_array\u001b[0m\u001b[0;34m[\u001b[0m\u001b[0mblk_locs\u001b[0m\u001b[0;34m]\u001b[0m\u001b[0;34m)\u001b[0m\u001b[0;34m\u001b[0m\u001b[0;34m\u001b[0m\u001b[0m\n",
            "\u001b[0;32m/usr/local/lib/python3.6/dist-packages/pandas/core/internals/blocks.py\u001b[0m in \u001b[0;36mset\u001b[0;34m(self, locs, values)\u001b[0m\n\u001b[1;32m    378\u001b[0m         \u001b[0;32mNone\u001b[0m\u001b[0;34m\u001b[0m\u001b[0;34m\u001b[0m\u001b[0m\n\u001b[1;32m    379\u001b[0m         \"\"\"\n\u001b[0;32m--> 380\u001b[0;31m         \u001b[0mself\u001b[0m\u001b[0;34m.\u001b[0m\u001b[0mvalues\u001b[0m\u001b[0;34m[\u001b[0m\u001b[0mlocs\u001b[0m\u001b[0;34m]\u001b[0m \u001b[0;34m=\u001b[0m \u001b[0mvalues\u001b[0m\u001b[0;34m\u001b[0m\u001b[0;34m\u001b[0m\u001b[0m\n\u001b[0m\u001b[1;32m    381\u001b[0m \u001b[0;34m\u001b[0m\u001b[0m\n\u001b[1;32m    382\u001b[0m     \u001b[0;32mdef\u001b[0m \u001b[0mdelete\u001b[0m\u001b[0;34m(\u001b[0m\u001b[0mself\u001b[0m\u001b[0;34m,\u001b[0m \u001b[0mloc\u001b[0m\u001b[0;34m)\u001b[0m\u001b[0;34m:\u001b[0m\u001b[0;34m\u001b[0m\u001b[0;34m\u001b[0m\u001b[0m\n",
            "\u001b[0;31mKeyboardInterrupt\u001b[0m: "
          ]
        }
      ]
    },
    {
      "cell_type": "code",
      "metadata": {
        "id": "vXN-5XNpvb1F",
        "colab_type": "code",
        "colab": {}
      },
      "source": [
        "def listToString(s):  \n",
        "    \n",
        "    # initialize an empty string \n",
        "    str1 = \"\"  \n",
        "    \n",
        "    # traverse in the string   \n",
        "    for ele in s:  \n",
        "        str1 += ele   \n",
        "    \n",
        "    # return string   \n",
        "    return str1  \n",
        "        \n",
        "        \n",
        "# Driver code     \n",
        "#s = data\n",
        "#print(listToString(s))  \n"
      ],
      "execution_count": 0,
      "outputs": []
    },
    {
      "cell_type": "code",
      "metadata": {
        "id": "zFISfTPel1k4",
        "colab_type": "code",
        "outputId": "8346370c-9d90-4c41-de34-b89cccf2d09b",
        "colab": {
          "base_uri": "https://localhost:8080/",
          "height": 34
        }
      },
      "source": [
        "x.shape"
      ],
      "execution_count": 0,
      "outputs": [
        {
          "output_type": "execute_result",
          "data": {
            "text/plain": [
              "(427374,)"
            ]
          },
          "metadata": {
            "tags": []
          },
          "execution_count": 23
        }
      ]
    },
    {
      "cell_type": "code",
      "metadata": {
        "id": "UHkiFcyb37_-",
        "colab_type": "code",
        "outputId": "e64157b9-9544-49df-e95a-47262123113e",
        "colab": {
          "base_uri": "https://localhost:8080/",
          "height": 136
        }
      },
      "source": [
        "xn = np.array(x)\n",
        "xn.reshape(-1,1)\n",
        "yn = np.array(y)\n",
        "yn.reshape(-1,1)"
      ],
      "execution_count": 0,
      "outputs": [
        {
          "output_type": "execute_result",
          "data": {
            "text/plain": [
              "array([[0.0],\n",
              "       [0.0],\n",
              "       [0.0],\n",
              "       ...,\n",
              "       [1.0],\n",
              "       [1.0],\n",
              "       [1.0]], dtype=object)"
            ]
          },
          "metadata": {
            "tags": []
          },
          "execution_count": 59
        }
      ]
    },
    {
      "cell_type": "code",
      "metadata": {
        "id": "G_F1tshXBrhC",
        "colab_type": "code",
        "outputId": "ea6201a1-52e7-4c08-f0e3-d66aa21b0685",
        "colab": {
          "base_uri": "https://localhost:8080/",
          "height": 34
        }
      },
      "source": [
        "xn.shape"
      ],
      "execution_count": 0,
      "outputs": [
        {
          "output_type": "execute_result",
          "data": {
            "text/plain": [
              "(427374,)"
            ]
          },
          "metadata": {
            "tags": []
          },
          "execution_count": 63
        }
      ]
    },
    {
      "cell_type": "code",
      "metadata": {
        "id": "q7nSY4bJeo37",
        "colab_type": "code",
        "outputId": "f182b395-503c-4954-c8fb-fd03b8fa7b47",
        "colab": {
          "base_uri": "https://localhost:8080/",
          "height": 374
        }
      },
      "source": [
        "model = Sequential()\n",
        "model.add(CuDNNLSTM(128, input_shape = 1))\n",
        "model.add(Dropout(0.2))\n",
        "model.add(CuDNNLSTM(128))\n",
        "model.add(Dropout(0.2))\n",
        "\n",
        "model.add(Dense(1, activation-'softmax'))\n",
        "opt = keras.optimizers.Adam(lr=0.01, decay=1e-5)\n",
        "model.compile(loss='sparse_binary_crossentropy', optimizer=opt, metrtics='accuracy')"
      ],
      "execution_count": 0,
      "outputs": [
        {
          "output_type": "error",
          "ename": "TypeError",
          "evalue": "ignored",
          "traceback": [
            "\u001b[0;31m---------------------------------------------------------------------------\u001b[0m",
            "\u001b[0;31mTypeError\u001b[0m                                 Traceback (most recent call last)",
            "\u001b[0;32m<ipython-input-64-859d58d0e687>\u001b[0m in \u001b[0;36m<module>\u001b[0;34m()\u001b[0m\n\u001b[1;32m      1\u001b[0m \u001b[0mmodel\u001b[0m \u001b[0;34m=\u001b[0m \u001b[0mSequential\u001b[0m\u001b[0;34m(\u001b[0m\u001b[0;34m)\u001b[0m\u001b[0;34m\u001b[0m\u001b[0;34m\u001b[0m\u001b[0m\n\u001b[0;32m----> 2\u001b[0;31m \u001b[0mmodel\u001b[0m\u001b[0;34m.\u001b[0m\u001b[0madd\u001b[0m\u001b[0;34m(\u001b[0m\u001b[0mCuDNNLSTM\u001b[0m\u001b[0;34m(\u001b[0m\u001b[0;36m128\u001b[0m\u001b[0;34m,\u001b[0m \u001b[0minput_shape\u001b[0m \u001b[0;34m=\u001b[0m \u001b[0;36m1\u001b[0m\u001b[0;34m)\u001b[0m\u001b[0;34m)\u001b[0m\u001b[0;34m\u001b[0m\u001b[0;34m\u001b[0m\u001b[0m\n\u001b[0m\u001b[1;32m      3\u001b[0m \u001b[0mmodel\u001b[0m\u001b[0;34m.\u001b[0m\u001b[0madd\u001b[0m\u001b[0;34m(\u001b[0m\u001b[0mDropout\u001b[0m\u001b[0;34m(\u001b[0m\u001b[0;36m0.2\u001b[0m\u001b[0;34m)\u001b[0m\u001b[0;34m)\u001b[0m\u001b[0;34m\u001b[0m\u001b[0;34m\u001b[0m\u001b[0m\n\u001b[1;32m      4\u001b[0m \u001b[0mmodel\u001b[0m\u001b[0;34m.\u001b[0m\u001b[0madd\u001b[0m\u001b[0;34m(\u001b[0m\u001b[0mCuDNNLSTM\u001b[0m\u001b[0;34m(\u001b[0m\u001b[0;36m128\u001b[0m\u001b[0;34m)\u001b[0m\u001b[0;34m)\u001b[0m\u001b[0;34m\u001b[0m\u001b[0;34m\u001b[0m\u001b[0m\n\u001b[1;32m      5\u001b[0m \u001b[0mmodel\u001b[0m\u001b[0;34m.\u001b[0m\u001b[0madd\u001b[0m\u001b[0;34m(\u001b[0m\u001b[0mDropout\u001b[0m\u001b[0;34m(\u001b[0m\u001b[0;36m0.2\u001b[0m\u001b[0;34m)\u001b[0m\u001b[0;34m)\u001b[0m\u001b[0;34m\u001b[0m\u001b[0;34m\u001b[0m\u001b[0m\n",
            "\u001b[0;32m/usr/local/lib/python3.6/dist-packages/keras/layers/cudnn_recurrent.py\u001b[0m in \u001b[0;36m__init__\u001b[0;34m(self, units, kernel_initializer, recurrent_initializer, bias_initializer, unit_forget_bias, kernel_regularizer, recurrent_regularizer, bias_regularizer, activity_regularizer, kernel_constraint, recurrent_constraint, bias_constraint, return_sequences, return_state, stateful, **kwargs)\u001b[0m\n\u001b[1;32m    395\u001b[0m             \u001b[0mreturn_state\u001b[0m\u001b[0;34m=\u001b[0m\u001b[0mreturn_state\u001b[0m\u001b[0;34m,\u001b[0m\u001b[0;34m\u001b[0m\u001b[0;34m\u001b[0m\u001b[0m\n\u001b[1;32m    396\u001b[0m             \u001b[0mstateful\u001b[0m\u001b[0;34m=\u001b[0m\u001b[0mstateful\u001b[0m\u001b[0;34m,\u001b[0m\u001b[0;34m\u001b[0m\u001b[0;34m\u001b[0m\u001b[0m\n\u001b[0;32m--> 397\u001b[0;31m             **kwargs)\n\u001b[0m\u001b[1;32m    398\u001b[0m \u001b[0;34m\u001b[0m\u001b[0m\n\u001b[1;32m    399\u001b[0m         \u001b[0mself\u001b[0m\u001b[0;34m.\u001b[0m\u001b[0mkernel_initializer\u001b[0m \u001b[0;34m=\u001b[0m \u001b[0minitializers\u001b[0m\u001b[0;34m.\u001b[0m\u001b[0mget\u001b[0m\u001b[0;34m(\u001b[0m\u001b[0mkernel_initializer\u001b[0m\u001b[0;34m)\u001b[0m\u001b[0;34m\u001b[0m\u001b[0;34m\u001b[0m\u001b[0m\n",
            "\u001b[0;32m/usr/local/lib/python3.6/dist-packages/keras/layers/cudnn_recurrent.py\u001b[0m in \u001b[0;36m__init__\u001b[0;34m(self, return_sequences, return_state, go_backwards, stateful, **kwargs)\u001b[0m\n\u001b[1;32m     37\u001b[0m             raise RuntimeError('CuDNN RNNs are only available '\n\u001b[1;32m     38\u001b[0m                                'with the TensorFlow backend.')\n\u001b[0;32m---> 39\u001b[0;31m         \u001b[0msuper\u001b[0m\u001b[0;34m(\u001b[0m\u001b[0mRNN\u001b[0m\u001b[0;34m,\u001b[0m \u001b[0mself\u001b[0m\u001b[0;34m)\u001b[0m\u001b[0;34m.\u001b[0m\u001b[0m__init__\u001b[0m\u001b[0;34m(\u001b[0m\u001b[0;34m**\u001b[0m\u001b[0mkwargs\u001b[0m\u001b[0;34m)\u001b[0m\u001b[0;34m\u001b[0m\u001b[0;34m\u001b[0m\u001b[0m\n\u001b[0m\u001b[1;32m     40\u001b[0m         \u001b[0mself\u001b[0m\u001b[0;34m.\u001b[0m\u001b[0mreturn_sequences\u001b[0m \u001b[0;34m=\u001b[0m \u001b[0mreturn_sequences\u001b[0m\u001b[0;34m\u001b[0m\u001b[0;34m\u001b[0m\u001b[0m\n\u001b[1;32m     41\u001b[0m         \u001b[0mself\u001b[0m\u001b[0;34m.\u001b[0m\u001b[0mreturn_state\u001b[0m \u001b[0;34m=\u001b[0m \u001b[0mreturn_state\u001b[0m\u001b[0;34m\u001b[0m\u001b[0;34m\u001b[0m\u001b[0m\n",
            "\u001b[0;32m/usr/local/lib/python3.6/dist-packages/keras/engine/base_layer.py\u001b[0m in \u001b[0;36m__init__\u001b[0;34m(self, **kwargs)\u001b[0m\n\u001b[1;32m    142\u001b[0m                 \u001b[0mbatch_size\u001b[0m \u001b[0;34m=\u001b[0m \u001b[0mkwargs\u001b[0m\u001b[0;34m.\u001b[0m\u001b[0mget\u001b[0m\u001b[0;34m(\u001b[0m\u001b[0;34m'batch_size'\u001b[0m\u001b[0;34m)\u001b[0m\u001b[0;34m\u001b[0m\u001b[0;34m\u001b[0m\u001b[0m\n\u001b[1;32m    143\u001b[0m                 batch_input_shape = (\n\u001b[0;32m--> 144\u001b[0;31m                     batch_size,) + tuple(kwargs['input_shape'])\n\u001b[0m\u001b[1;32m    145\u001b[0m             \u001b[0mself\u001b[0m\u001b[0;34m.\u001b[0m\u001b[0mbatch_input_shape\u001b[0m \u001b[0;34m=\u001b[0m \u001b[0mbatch_input_shape\u001b[0m\u001b[0;34m\u001b[0m\u001b[0;34m\u001b[0m\u001b[0m\n\u001b[1;32m    146\u001b[0m \u001b[0;34m\u001b[0m\u001b[0m\n",
            "\u001b[0;31mTypeError\u001b[0m: 'int' object is not iterable"
          ]
        }
      ]
    },
    {
      "cell_type": "code",
      "metadata": {
        "id": "aZy6EAyQFje4",
        "colab_type": "code",
        "colab": {}
      },
      "source": [
        "max_features = 2 # 0,1,2,3 (total of 4)\n",
        "x = kl_2_final[[\"pt\", \"eta\"]]\n",
        "x = np.array(x)\n",
        "\n",
        "y = np.array(kl_2_final[\"Target\"], dtype=np.int32)\n",
        "\n",
        "# Convert y2 to dummy variables\n",
        "y2 = np.zeros((y.shape[0], max_features),dtype=np.float32)\n",
        "y2[np.arange(y.shape[0]), y] = 1.0"
      ],
      "execution_count": 0,
      "outputs": []
    },
    {
      "cell_type": "code",
      "metadata": {
        "id": "tZavAXFWFHne",
        "colab_type": "code",
        "colab": {}
      },
      "source": [
        ""
      ],
      "execution_count": 0,
      "outputs": []
    }
  ]
}